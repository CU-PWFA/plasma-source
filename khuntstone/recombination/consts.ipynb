{
 "cells": [
  {
   "cell_type": "code",
   "execution_count": 1,
   "metadata": {
    "collapsed": true
   },
   "outputs": [],
   "source": [
    "# SI units\n",
    "kb_SI = 1.38064852e-23 # Boltzmann J/K\n",
    "h_SI  = 6.62607004e-34; # Planck J*s\n",
    "me_SI = 9.10938356e-31 # Electron mass kg\n",
    "e_SI  =1.60217662e-19 # elementary charge C\n",
    "# cgs_units\n",
    "kb_cgs = 1.3806504e-16; # Boltzmann erg/K\n",
    "me     = me_SI * 1e-3; # Electron mass g\n",
    "h_cgs  = h_SI * 1e-7; # Planck's Erg*s\n",
    "e_cgs  = 4.80320427e-10; # elementary charge Fr\n",
    "# eV \n",
    "kb_eV = 8.61733034e-5; # Boltzmann eV/K\n",
    "h_eV  = 4.135667662e-15; # Planck eV/s"
   ]
  }
 ],
 "metadata": {
  "kernelspec": {
   "display_name": "CU-PWFA",
   "language": "python",
   "name": "cu-pwfa"
  },
  "language_info": {
   "codemirror_mode": {
    "name": "ipython",
    "version": 3
   },
   "file_extension": ".py",
   "mimetype": "text/x-python",
   "name": "python",
   "nbconvert_exporter": "python",
   "pygments_lexer": "ipython3",
   "version": "3.6.2"
  }
 },
 "nbformat": 4,
 "nbformat_minor": 2
}

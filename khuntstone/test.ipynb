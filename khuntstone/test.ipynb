{
 "cells": [
  {
   "cell_type": "code",
   "execution_count": 1,
   "metadata": {},
   "outputs": [],
   "source": [
    "import numpy as np\n",
    "import matplotlib.pyplot as plt\n",
    "import matplotlib.patches as pat\n",
    "import Constants.SI as SI\n",
    "from Field_Ionization import eBeam_v02 as eBeam2\n",
    "import matplotlib.patches as patches\n",
    "c = SI.lightSpeed;"
   ]
  },
  {
   "cell_type": "code",
   "execution_count": 2,
   "metadata": {},
   "outputs": [],
   "source": [
    "#x = np.random.rand(100,100)\n",
    "#fig, ax = plt.subplots()\n",
    "#ax.add_artist(pat.Ellipse((0,0), 5, 5, fc = 'none', ls = '--', ec = 'k'))\n",
    "#img = ax.imshow(x, aspect = 'auto', extent = [-10, 10, -10, 10])\n",
    "#ax.set_xlim([-10, 10])\n",
    "#ax.set_ylim([-10,10])\n",
    "#plt.show()"
   ]
  },
  {
   "cell_type": "code",
   "execution_count": 3,
   "metadata": {
    "collapsed": true
   },
   "outputs": [],
   "source": [
    "# Beam parameters (Facet II)\n",
    "gamma = 20000; \n",
    "beta = np.sqrt(1 - 1/gamma**2); \n",
    "en = 5.3e-6; \n",
    "beta_s = np.linspace(.05, 1.5, 100);\n",
    "sigma_z = 5e-6; \n",
    "sigma_t = sigma_z / (beta * c); \n",
    "Q = 1.5e-9;\n",
    "\n",
    "beamParams = {\n",
    "              'gamma'   : gamma,  \n",
    "              'sigma_z' : sigma_z, \n",
    "              'sigma_t' : sigma_t, \n",
    "              'beta'    : beta,\n",
    "              'charge'  : Q, \n",
    "              'emitt'   : en, \n",
    "              'beta_s'  : beta_s\n",
    "             }\n",
    "\n",
    "eBeam2.get_sigma_r(beamParams)\n",
    "pPk = eBeam2.peak_charge_dens(beamParams)\n",
    "r, xi, npoints = eBeam2.get_pos(beamParams, nxi = 5, npoints = 1000);\n",
    "pos = {'r' : r, 'xi' : xi, 'npoints' : npoints}\n"
   ]
  },
  {
   "cell_type": "code",
   "execution_count": 4,
   "metadata": {
    "collapsed": true
   },
   "outputs": [],
   "source": [
    "field, rPeak, EPeak = eBeam2.rad_E_field(pos, beamParams)"
   ]
  },
  {
   "cell_type": "code",
   "execution_count": 5,
   "metadata": {
    "collapsed": true
   },
   "outputs": [],
   "source": [
    "ind = 0;\n",
    "r = np.flipud(pos['r'][ind])*1e6\n",
    "t = (pos['xi'] * 1e15 / (beamParams['beta']*c)) -\\\n",
    "(pos['xi'][0]*1e15 /(beamParams['beta']*c));\n",
    "ext = [min(t), max(t), min(r), max(r)]\n",
    "lw = 1"
   ]
  },
  {
   "cell_type": "code",
   "execution_count": 19,
   "metadata": {},
   "outputs": [
    {
     "data": {
      "image/png": "[encoded data removed]",
      "text/plain": [
       "<matplotlib.figure.Figure at 0x7fc84e5b6550>"
      ]
     },
     "metadata": {},
     "output_type": "display_data"
    }
   ],
   "source": [
    "cbar_label = 'Er'; fs = 12; title = 'test'\n",
    "fig1 = plt.figure(); ax1 = fig1.gca()\n",
    "cen = (int(t[-1]/2), 0)\n",
    "ax1.add_artist(patches.Ellipse(cen, 16, 3))\n",
    "#img1 = ax1.imshow(np.flipud(field[ind]), cmap = 'jet',aspect = 'auto', \\\n",
    "#extent = ext)\n",
    "#cbar1 = plt.colorbar(mappable = img1, ax = ax1)\n",
    "#cbar1.set_label(cbar_label, fontsize = fs)\n",
    "#cbar1.ax.tick_params(labelsize = fs - 2)\n",
    "# draw ellipse of beam\n",
    "\n",
    "\n",
    "ax1.set_xlabel('t [fs]', fontsize = fs);\n",
    "ax1.set_ylabel('r [$\\mu$m]', fontsize = fs);\n",
    "ax1.set_title(title, fontsize = fs)\n",
    "ax1.set_xlim(ext[0:2])\n",
    "ax1.set_ylim(ext[2:4])\n",
    "ax1.tick_params(axis = 'both', labelsize = fs - 2)\n",
    "plt.show()\n"
   ]
  },
  {
   "cell_type": "code",
   "execution_count": 9,
   "metadata": {},
   "outputs": [
    {
     "data": {
      "text/plain": [
       "16.678204780755358"
      ]
     },
     "execution_count": 9,
     "metadata": {},
     "output_type": "execute_result"
    }
   ],
   "source": [
    "beamParams['sigma_t']*1e15"
   ]
  },
  {
   "cell_type": "code",
   "execution_count": 10,
   "metadata": {},
   "outputs": [
    {
     "data": {
      "text/plain": [
       "3.640054944640259"
      ]
     },
     "execution_count": 10,
     "metadata": {},
     "output_type": "execute_result"
    }
   ],
   "source": [
    "beamParams['sigma_r'][ind]*1e6"
   ]
  },
  {
   "cell_type": "code",
   "execution_count": 22,
   "metadata": {},
   "outputs": [
    {
     "data": {
      "text/plain": [
       "83.391023903776784"
      ]
     },
     "execution_count": 22,
     "metadata": {},
     "output_type": "execute_result"
    }
   ],
   "source": [
    "t[-1]/2 "
   ]
  },
  {
   "cell_type": "code",
   "execution_count": 25,
   "metadata": {},
   "outputs": [
    {
     "data": {
      "text/plain": [
       "99.678204780755351"
      ]
     },
     "execution_count": 25,
     "metadata": {},
     "output_type": "execute_result"
    }
   ],
   "source": [
    "sigma_t * 1e15 + 83"
   ]
  },
  {
   "cell_type": "code",
   "execution_count": null,
   "metadata": {
    "collapsed": true
   },
   "outputs": [],
   "source": []
  }
 ],
 "metadata": {
  "kernelspec": {
   "display_name": "CU-PWFA",
   "language": "python",
   "name": "cu-pwfa"
  },
  "language_info": {
   "codemirror_mode": {
    "name": "ipython",
    "version": 3
   },
   "file_extension": ".py",
   "mimetype": "text/x-python",
   "name": "python",
   "nbconvert_exporter": "python",
   "pygments_lexer": "ipython3",
   "version": "3.6.2"
  }
 },
 "nbformat": 4,
 "nbformat_minor": 2
}

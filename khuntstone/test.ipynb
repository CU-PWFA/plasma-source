{
 "cells": [
  {
   "cell_type": "code",
   "execution_count": 3,
   "metadata": {},
   "outputs": [],
   "source": [
    "import numpy as np\n",
    "import matplotlib.pyplot as plt\n",
    "import matplotlib.patches as pat\n",
    "import Constants.SI as SI\n",
    "global c, eps0, e, me\n",
    "c = SI.lightSpeed;\n",
    "eps0 = SI.permFreeSpace\n",
    "e = SI.elemCharge\n",
    "me = SI.elecMass\n",
    "kb = SI.boltzmann"
   ]
  },
  {
   "cell_type": "code",
   "execution_count": 23,
   "metadata": {
    "collapsed": true
   },
   "outputs": [],
   "source": [
    "# Ionizing in VSIM \n",
    "# Need normalized vector potential for a given intensity\n",
    "lam   = 800e-9; # laser wavelength (m)\n",
    "dpump = 30e-15; # pulse duration (s)\n",
    "w0    = 50e-6; # waist radius of beam (m)\n",
    "x0    = 5e-6; # longitudinal position of pulse waist\n",
    "I     = 4e14; # laser intensity at focus (W/cm^2)\n",
    "def get_a0(lam, I):\n",
    "    # lam must be in microns\n",
    "    return .85e-9 * lam * 1e6 * np.sqrt(I)\n",
    "def get_El(lam, I, a0):\n",
    "    # lam must be in microns\n",
    "    # Remember to return in V/m\n",
    "    return (3.2 * a0 / (lam * 1e6)) * 1e12\n",
    "def get_a(lam, I, El):\n",
    "    w = (2 * np.pi * c / lam)\n",
    "    return e * El / (w * me * c)"
   ]
  },
  {
   "cell_type": "code",
   "execution_count": 24,
   "metadata": {},
   "outputs": [
    {
     "name": "stdout",
     "output_type": "stream",
     "text": [
      "0.0135546720213\n"
     ]
    }
   ],
   "source": [
    "a0 = get_a0(lam, I)\n",
    "El = get_El(lam, I, a0)\n",
    "a = get_a(lam, I, El)\n",
    "print(a) "
   ]
  },
  {
   "cell_type": "code",
   "execution_count": 5,
   "metadata": {},
   "outputs": [
    {
     "data": {
      "text/plain": [
       "247.4775843646116"
      ]
     },
     "execution_count": 5,
     "metadata": {},
     "output_type": "execute_result"
    }
   ],
   "source": [
    "# Thermal velocity of neutrals\n",
    "mAr = 6.6335209e-26\n",
    "T   = 294.261\n",
    "np.sqrt(kb*T/mAr)"
   ]
  },
  {
   "cell_type": "code",
   "execution_count": 6,
   "metadata": {},
   "outputs": [
    {
     "name": "stdout",
     "output_type": "stream",
     "text": [
      "1145.60385833 1145.60385833\n"
     ]
    }
   ],
   "source": [
    "# Recombination in VSim\n",
    "# need debye length and LX/LY to get NX/NY\n",
    "def get_debye(n, T, kb = kb, eps0 = eps0, e = e):\n",
    "    return np.sqrt(eps0*kb*T / (n*e**2)) # (m)\n",
    "y = get_debye(5e16,8)\n",
    "LX = 500e-6;\n",
    "LY = 500e-6;\n",
    "NX = 2*LX/y\n",
    "NY = 2*LY/y\n",
    "print(NX, NY)"
   ]
  },
  {
   "cell_type": "code",
   "execution_count": null,
   "metadata": {
    "collapsed": true
   },
   "outputs": [],
   "source": []
  }
 ],
 "metadata": {
  "kernelspec": {
   "display_name": "CU-PWFA",
   "language": "python",
   "name": "cu-pwfa"
  },
  "language_info": {
   "codemirror_mode": {
    "name": "ipython",
    "version": 3
   },
   "file_extension": ".py",
   "mimetype": "text/x-python",
   "name": "python",
   "nbconvert_exporter": "python",
   "pygments_lexer": "ipython3",
   "version": "3.6.2"
  },
  "latex_envs": {
   "LaTeX_envs_menu_present": true,
   "autoclose": false,
   "autocomplete": true,
   "bibliofile": "biblio.bib",
   "cite_by": "apalike",
   "current_citInitial": 1,
   "eqLabelWithNumbers": true,
   "eqNumInitial": 1,
   "hotkeys": {
    "equation": "Ctrl-E",
    "itemize": "Ctrl-I"
   },
   "labels_anchors": false,
   "latex_user_defs": false,
   "report_style_numbering": false,
   "user_envs_cfg": false
  },
  "toc": {
   "base_numbering": 1,
   "nav_menu": {},
   "number_sections": true,
   "sideBar": true,
   "skip_h1_title": false,
   "title_cell": "Table of Contents",
   "title_sidebar": "Contents",
   "toc_cell": false,
   "toc_position": {},
   "toc_section_display": true,
   "toc_window_display": false
  }
 },
 "nbformat": 4,
 "nbformat_minor": 2
}

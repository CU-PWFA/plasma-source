{
 "cells": [
  {
   "cell_type": "code",
   "execution_count": 1,
   "metadata": {
    "code_folding": []
   },
   "outputs": [
    {
     "name": "stdout",
     "output_type": "stream",
     "text": [
      "=================GaP crystal initialized=================\n",
      "\n",
      "=================ZnTe crystal initialized=================\n",
      "\n",
      "===================Laser Initialized=====================\n",
      "Assumed shape :                     gauss\n",
      "Laser wavelength:                   8e-07 m\n",
      "Laser angle of incidence:           45 deg\n",
      "Laser pulse energy:                 0.0001 J\n",
      "Laser diameter (transverse FWHM):   0.01 m\n",
      "Laser transverse width:             0.00424660900144 m\n",
      "Laser pulse length (FWHM):          7e-14 s\n",
      "Laser incident intensity per pulse: 2.52154971603e+13 W/m^2\n",
      "Laser pulse length (sig_0):         2.97262630101e-14 s\n",
      "Lasser effective pulse length:      4.20392843075e-14 s\n",
      "Laser chuncks:                      337.0\n",
      "Laser chunk transverse size:        2.96735905045e-05 m\n",
      "Laser chunk overlap size:           1.48367952522e-05 m\n",
      "Laser chunk overlap temporal size:  4.94559841741e-14 s\n",
      "Laser pulse window:                 3.4e-11 s\n",
      "Arrival time lower limit:           -1.7e-11 s\n",
      "Arrival time upper limit:           1.7e-11 s\n",
      "Arrival time step size:             1.7085e-11 s\n",
      "\n",
      "============Single Bunch Initialized============\n",
      "Charge:          1.5e-09 C\n",
      "Length:          5.2e-06 m\n",
      "Temporal length: 1.7333333333333333e-14s\n",
      "\n",
      "============Single Bunch Initialized============\n",
      "Charge:          5e-10 C\n",
      "Length:          3.6e-05 m\n",
      "Temporal length: 1.2e-13s\n",
      "\n"
     ]
    }
   ],
   "source": [
    "# Initialize\n",
    "import matplotlib.pyplot as plt;\n",
    "import numpy as np;\n",
    "import sys;\n",
    "sys.path.insert(0, \"../\");\n",
    "import bunches\n",
    "import crystal\n",
    "import eos\n",
    "import laser\n",
    "#%matplotlib tk\n",
    "\n",
    "# Simulation parameters\n",
    "def init_sim():\n",
    "    laser_params = {'wavelength' : 800e-9, 'alpha' : 45, 'E_pulse' : 1e-4, \n",
    "                    'diameter' : 10e-3, 't_pulse' : 70e-15, 't_nstep':200, \n",
    "                    'shape' : 'gauss'};\n",
    "    # drive beam params\n",
    "    drive_params = {'number': 1, 'charge' : 1.5e-9, 'length' : 5.2e-6};\n",
    "    witness_params = {'number' : 1, 'charge' : 0.5e-9, 'length' : 36e-6};\n",
    "    # Initialize classes\n",
    "    gap     = crystal.crystal('GaP');\n",
    "    znte    = crystal.crystal('ZnTe');\n",
    "    probe   = laser.laser(laser_params, verbose = True);\n",
    "    drive   = bunches.bunches(drive_params, verbose = True);\n",
    "    witness = bunches.bunches(witness_params, verbose = True);\n",
    "    return gap, znte, probe, drive, witness\n",
    "gap, znte, probe, drive, witness = init_sim();\n",
    "r_drive = 0.001; # Drive beam offset from crystal, m\n",
    "r_witness = 0.001; # Witness beam offset from crystal, m\n",
    "t = np.linspace(-200, 800, 1000)*1e-15; # time for THz field, s\n",
    "d_gap  = np.array([10, 20, 30, 40, 50]);\n",
    "d_znte = np.array([40, 80, 120, 160, 200]);\n",
    "spath = \"/media/keenan/Data_Storage/Google Drive/CU/WARG-LAB/2019 Conferences\";\n",
    "spath = spath + \"/APS April Meeting/\";"
   ]
  },
  {
   "cell_type": "code",
   "execution_count": 2,
   "metadata": {
    "code_folding": [
     1
    ]
   },
   "outputs": [],
   "source": [
    "# Electro optic response for both crystals\n",
    "def eo_plots():\n",
    "    f_zn   = np.linspace(0, 5, 1000);\n",
    "    f_gap  = np.linspace(0, 10, 1000);\n",
    "    d_zn   = np.array([50, 100, 150, 200, 250, 300])\n",
    "    d_gap  = np.array([50, 75, 100, 125, 150, 175, 200])\n",
    "    dummy  = gap.EO_response(f_gap, d_gap, plot = True, \\\n",
    "                            tstring = 'GaP Electro-Optic Response', \\\n",
    "                            save = True, sname = spath + \"gap_eo.svg\");\n",
    "    dummy  = znte.EO_response(f_zn, d_zn, plot = True, \\\n",
    "                             tstring = 'ZnTe Electro-Optic Response', \\\n",
    "                             save = True, sname = spath + \"znte_eo.svg\");\n",
    "#eo_plots()"
   ]
  },
  {
   "cell_type": "code",
   "execution_count": 3,
   "metadata": {
    "code_folding": [
     1
    ]
   },
   "outputs": [],
   "source": [
    "# co propagation of delta functions\n",
    "def co_prop():\n",
    "    r        = 0.001; \n",
    "    d_gap    = np.array([5, 15, 25, 35, 45]);\n",
    "    d_zn     = np.array([20, 40, 60, 80, 100]);\n",
    "    t        = np.linspace(-.5, .5, 1000)*1e-12;\n",
    "    t_dels   = [-75, 0, 75];\n",
    "    lambda_m = np.array([782.5, 800, 817.5])*1e-9;\n",
    "    t_shift  = 300;\n",
    "    #eos.delta_prop(gap, drive, r, t, d_gap, lambda_m, t_dels, t_shift, \\\n",
    "    #               save = True, sname = spath + \"gap_drive_prop.svg\");\n",
    "    eos.delta_prop(gap, witness, r, t, d_gap, lambda_m, t_dels, t_shift, \\\n",
    "                   save = True, sname = spath + \"gap_wit_prop.svg\");\n",
    "    t_shift  = 600;\n",
    "    eos.delta_prop(znte, drive, r, t, d_zn, lambda_m, t_dels, t_shift, \\\n",
    "                   save = True, sname = spath + \"znte_drive_prop.svg\");\n",
    "    eos.delta_prop(znte, witness, r, t, d_zn, lambda_m, t_dels, t_shift, \\\n",
    "                   save = True, sname = spath + \"znte_wit_prop.svg\");\n",
    "#co_prop();"
   ]
  },
  {
   "cell_type": "code",
   "execution_count": 5,
   "metadata": {
    "code_folding": [
     0
    ]
   },
   "outputs": [],
   "source": [
    "# Gamma functions\n",
    "#%matplotlib tk\n",
    "def plot_gammas():\n",
    "    r         = np.array([1, 3, 5])*1e-3;\n",
    "    d_gap     = np.linspace(0, 50, 1000);\n",
    "    d_zn      = np.linspace(0, 100, 1000);\n",
    "    tau       = np.linspace(-1, 1, 1000)*1e-12; # s\n",
    "    lambda_nm = 800;\n",
    "    eos.phase_shift(gap, witness, r, tau, d_gap, lambda_nm, plot = True, \\\n",
    "                   save = True, sname = spath + \"gap_gamma_witness.svg\");\n",
    "    eos.phase_shift(gap, drive, r, tau, d_gap, lambda_nm, plot   = True, \\\n",
    "                   save = True, sname = spath + \"gap_gamma_drive.svg\");\n",
    "    eos.phase_shift(znte, witness, r, tau, d_zn, lambda_nm, plot = True, \\\n",
    "                   save = True, sname = spath + \"znte_gamma_witness.svg\");\n",
    "    eos.phase_shift(znte, drive, r, tau, d_zn, lambda_nm, plot = True, \\\n",
    "                   save = True, sname = spath + \"znte_gamma_drive.svg\");\n",
    "#plot_gammas();"
   ]
  }
 ],
 "metadata": {
  "kernelspec": {
   "display_name": "Python 3",
   "language": "python",
   "name": "python3"
  },
  "language_info": {
   "codemirror_mode": {
    "name": "ipython",
    "version": 3
   },
   "file_extension": ".py",
   "mimetype": "text/x-python",
   "name": "python",
   "nbconvert_exporter": "python",
   "pygments_lexer": "ipython3",
   "version": "3.7.3"
  },
  "latex_envs": {
   "LaTeX_envs_menu_present": true,
   "autoclose": false,
   "autocomplete": true,
   "bibliofile": "biblio.bib",
   "cite_by": "apalike",
   "current_citInitial": 1,
   "eqLabelWithNumbers": true,
   "eqNumInitial": 1,
   "hotkeys": {
    "equation": "Ctrl-E",
    "itemize": "Ctrl-I"
   },
   "labels_anchors": false,
   "latex_user_defs": false,
   "report_style_numbering": false,
   "user_envs_cfg": false
  },
  "toc": {
   "base_numbering": 1,
   "nav_menu": {},
   "number_sections": true,
   "sideBar": true,
   "skip_h1_title": false,
   "title_cell": "Table of Contents",
   "title_sidebar": "Contents",
   "toc_cell": false,
   "toc_position": {},
   "toc_section_display": true,
   "toc_window_display": false
  },
  "varInspector": {
   "cols": {
    "lenName": 16,
    "lenType": 16,
    "lenVar": 40
   },
   "kernels_config": {
    "python": {
     "delete_cmd_postfix": "",
     "delete_cmd_prefix": "del ",
     "library": "var_list.py",
     "varRefreshCmd": "print(var_dic_list())"
    },
    "r": {
     "delete_cmd_postfix": ") ",
     "delete_cmd_prefix": "rm(",
     "library": "var_list.r",
     "varRefreshCmd": "cat(var_dic_list()) "
    }
   },
   "types_to_exclude": [
    "module",
    "function",
    "builtin_function_or_method",
    "instance",
    "_Feature"
   ],
   "window_display": false
  }
 },
 "nbformat": 4,
 "nbformat_minor": 2
}

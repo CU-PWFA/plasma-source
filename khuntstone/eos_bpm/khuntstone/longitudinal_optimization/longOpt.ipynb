{
 "cells": [
  {
   "cell_type": "code",
   "execution_count": 1,
   "metadata": {},
   "outputs": [],
   "source": [
    "# Finding an optimal setup for longitudinal resolution\n",
    "import matplotlib.pyplot as plt\n",
    "import numpy as np\n",
    "from scipy.signal import find_peaks\n",
    "import sys\n",
    "sys.path.insert(0, \"../../python\")\n",
    "from plotting import makefig\n",
    "import eo_signal as eos\n",
    "import currents as cp\n",
    "def gen_fname(ctype, y0, tp, r0, method):\n",
    "    y0s   = str(int(y0 * 1e9))\n",
    "    tps   = str(int(tp * 1e15))\n",
    "    r0s   = str(int(r0*1e3))\n",
    "    dpath = \"/home/keenan/Dropbox/CU/EOS-BPM/long_optimization/\"\n",
    "    npath = method + \"/\" + y0s + \"/\" + tps + \"/\"\n",
    "    fname = ctype + \"_\" + str(int(r0 * 1e3)) + \"mm\"\n",
    "    return dpath + npath, fname"
   ]
  },
  {
   "cell_type": "code",
   "execution_count": 11,
   "metadata": {},
   "outputs": [],
   "source": [
    "def run_scan(ctype, ds, y0, tp, angles, r0, method, th = 0, plot = False):\n",
    "    fpath, fname = gen_fname(ctype, y0, tp, r0, method)\n",
    "    sig_diff = np.zeros((len(ds), len(angles)))\n",
    "    max_sig  = np.zeros((len(ds), len(angles)))\n",
    "    stn      = np.zeros((len(ds), len(angles)))\n",
    "    wtd      = np.zeros((len(ds), len(angles)))\n",
    "    for i in range(len(ds)):\n",
    "        #print(i + 1, \"of\", len(ds))\n",
    "        d = ds[i]\n",
    "        for j in range(len(angles)):\n",
    "            angle  = angles[j]\n",
    "            I_peak = np.zeros(10)\n",
    "            S_peak = np.zeros(10)\n",
    "            max_S  = np.zeros(10)\n",
    "            noise  = np.zeros(10)\n",
    "            peaks  = np.zeros(10)\n",
    "            for k in range(10):\n",
    "                I, ti, sig, t_sig, gamma, t_gamma = eos.get_signal(k, ctype, d, y0, tp, angle, r0, method, th)\n",
    "                I_peak[k], S_peak[k], noise[k], peaks[k] = eos.analyze_sig(I, sig, ti, t_sig, 0.4e-12)\n",
    "                max_S[k] = max(sig)\n",
    "            max_sig[i,j]   = np.nanmean(max_S)\n",
    "            sig_diff[i, j] = np.nanmean(abs(I_peak - S_peak))\n",
    "            stn[i,j]       = np.nanmean(noise)\n",
    "            wtd[i,j]       = np.nanmean(peaks)\n",
    "    return max_sig, sig_diff, stn, wtd, fpath, fname\n",
    "\n",
    "\n",
    "def plot_study(max_sig, sig_diff, stn, wtd, method, study, fpath, fname, r0, save = False):\n",
    "\n",
    "    # Create figure\n",
    "    if study == \"error\":\n",
    "        fig, ax = makefig(xlab = r'$\\theta$ [deg.]', ylab = r'Average Error [$\\mu$m]')\n",
    "        data = sig_diff\n",
    "    elif study == \"peak\":\n",
    "        fig, ax = makefig(xlab = r'$\\theta$ [deg.]', ylab = r'Average Peak Signal [AU]')\n",
    "        data = max_sig\n",
    "    elif study == \"stn\":\n",
    "        fig, ax = makefig(xlab = r'$\\theta$ [deg.]', ylab = r'Average Witness STN')\n",
    "        data = stn\n",
    "    elif study == \"wtd\":\n",
    "        fig, ax = makefig(xlab = r'$\\theta$ [deg.]', ylab = 'Average Witness to Drive Ratio')\n",
    "        data = wtd\n",
    "        \n",
    "    for i in range(len(ds)):\n",
    "        lab = str(int(ds[i]*1e6 + 0.5)) + r' $\\mu$m'\n",
    "        plt.plot(angles, data[i,:], 'o', label = lab)\n",
    "    ax.legend()\n",
    "    if save:\n",
    "        plt.savefig(fpath + fname)\n",
    "    plt.show()\n",
    "        "
   ]
  },
  {
   "cell_type": "code",
   "execution_count": 35,
   "metadata": {},
   "outputs": [],
   "source": [
    "ctype  = \"ZnTe\"\n",
    "ds     = np.array([25, 50, 100, 200]) * 1e-6\n",
    "y0     = 800e-9\n",
    "tp     = 30e-15\n",
    "angles = [5, 15, 30, 45, 60]\n",
    "r0     = 1e-3\n",
    "method = \"near\"\n",
    "th     = 90 * np.pi / 180"
   ]
  },
  {
   "cell_type": "code",
   "execution_count": 36,
   "metadata": {
    "scrolled": false
   },
   "outputs": [],
   "source": [
    "max_sig, sig_diff, stn, wtd, fpath, fname = run_scan(ctype, ds, y0, tp, angles, r0, method, th)\n",
    "%matplotlib tk\n",
    "plot_study(max_sig, sig_diff, stn, wtd, method, 'error', fpath, fname, r0)\n",
    "plot_study(max_sig, sig_diff, stn, wtd, method, 'peak', fpath, fname, r0)\n",
    "plot_study(max_sig, sig_diff, stn, wtd, method, 'stn', fpath, fname, r0)\n",
    "plot_study(max_sig, sig_diff, stn, wtd, method, 'wtd', fpath, fname, r0)"
   ]
  },
  {
   "cell_type": "code",
   "execution_count": null,
   "metadata": {},
   "outputs": [],
   "source": []
  }
 ],
 "metadata": {
  "kernelspec": {
   "display_name": "CU-PWFA",
   "language": "python",
   "name": "cu-pwfa"
  },
  "language_info": {
   "codemirror_mode": {
    "name": "ipython",
    "version": 3
   },
   "file_extension": ".py",
   "mimetype": "text/x-python",
   "name": "python",
   "nbconvert_exporter": "python",
   "pygments_lexer": "ipython3",
   "version": "3.7.3"
  }
 },
 "nbformat": 4,
 "nbformat_minor": 2
}

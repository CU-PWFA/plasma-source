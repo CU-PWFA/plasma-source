{
 "cells": [
  {
   "cell_type": "code",
   "execution_count": 1,
   "metadata": {
    "collapsed": true
   },
   "outputs": [],
   "source": [
    "import numpy as np\n",
    "import matplotlib.pyplot as plt\n",
    "import particle_beam as pb\n",
    "import numpy as np\n",
    "import matplotlib.pyplot as plt\n",
    "import matplotlib.patches as patches\n",
    "import sys\n",
    "from importlib import reload as rel\n",
    "from scipy.special import gamma as gm\n",
    "from scipy.integrate import simps\n",
    "sys.path.insert(0, \"../\")\n",
    "import Constants.SI as SI\n",
    "global plasmaDict, c\n",
    "plt.style.use('notes')\n",
    "savepath = '/media/keenan/Data_Storage/Google Drive/CU/PWFA/Group Meetings/2018-08/8.27/'"
   ]
  },
  {
   "cell_type": "code",
   "execution_count": 2,
   "metadata": {
    "collapsed": true
   },
   "outputs": [],
   "source": [
    "plasmaDict = {'Ar+' : {'Vi' : 15.75962, 'Name' :  'Ar$^{+}$', 'Z' : 1},\n",
    "\t\t   'Ar2+': {'Vi' : 27.62967, 'Name' : 'Ar$^{2+}$', 'Z' : 2},\n",
    "\t\t   'Ar3+': {'Vi' : 40.74, 'Name' : 'Ar$^{3+}$', 'Z' : 3},\n",
    "\t\t   'Ar4+': {'Vi' : 59.81, 'Name': 'Ar$^{4+}$', 'Z' : 4},\n",
    "\t\t   'Ar5+': {'Vi' : \t75.02, 'Name': 'Ar$^{5+}$', 'Z' : 5},\n",
    "\t\t   'He+': {'Vi' : 24.58741, 'Name': 'He$^{+}$', 'Z' : 1},\n",
    "\t\t   'He2+': {'Vi': 54.41778, 'Name': 'He$^{2+}$', 'Z' : 2}\n",
    "}"
   ]
  },
  {
   "cell_type": "code",
   "execution_count": 3,
   "metadata": {
    "collapsed": true
   },
   "outputs": [],
   "source": [
    "# Variables to optimize\n",
    "npoints = 100\n",
    "Q = np.array([.1, 1.0, 1.5]) * 1e-9\n",
    "sigma_z = np.linspace(5e-6, 10e-6, npoints)\n",
    "sigma_r = np.linspace(5e-6, 10e-6, npoints)\n",
    "sigma_r = np.reshape(sigma_r, (len(sigma_r), 1))"
   ]
  },
  {
   "cell_type": "code",
   "execution_count": 4,
   "metadata": {},
   "outputs": [
    {
     "data": {
      "text/plain": [
       "(100, 100)"
      ]
     },
     "execution_count": 4,
     "metadata": {},
     "output_type": "execute_result"
    }
   ],
   "source": [
    "eb = pb.beam(Q = Q[2], sigma_z = sigma_z, sigma_r = sigma_r)\n",
    "eb.peak_charge_dens()\n",
    "eb.ppk.shape"
   ]
  },
  {
   "cell_type": "code",
   "execution_count": 5,
   "metadata": {
    "collapsed": true
   },
   "outputs": [],
   "source": [
    "gas = 'Ar+'\n",
    "eb.max_frac(plasmaDict[gas]['Vi'], plasmaDict[gas]['Z'])"
   ]
  },
  {
   "cell_type": "code",
   "execution_count": 6,
   "metadata": {
    "collapsed": true
   },
   "outputs": [],
   "source": [
    "i_y = np.argmin(np.min(eb.max_ion_frac,1))\n",
    "i_x = np.argmin(np.min(eb.max_ion_frac,0))\n",
    "scatter_y = sigma_z[i_y]*1e6\n",
    "scatter_x = sigma_r[i_x]*1e6"
   ]
  },
  {
   "cell_type": "code",
   "execution_count": 7,
   "metadata": {},
   "outputs": [
    {
     "data": {
      "image/png": "[encoded data removed]",
      "text/plain": [
       "<matplotlib.figure.Figure at 0x7f35c84c7e10>"
      ]
     },
     "metadata": {},
     "output_type": "display_data"
    }
   ],
   "source": [
    "fig = plt.figure(figsize = (5,4), dpi = 150); ax = fig.gca()\n",
    "levels = np.linspace(0, 1, 1000)\n",
    "cont = plt.contourf(sigma_r[:,0]*1e6, sigma_z*1e6, eb.max_ion_frac, cmap = 'jet')# levels = levels)\n",
    "plt.scatter(scatter_x, scatter_y, c = 'k', marker = 'o')\n",
    "plt.xlabel(r'$\\sigma_r [\\mu m]$')\n",
    "plt.ylabel(r'$\\sigma_z [\\mu m]$')\n",
    "plt.colorbar(mappable = cont)\n",
    "Qnc = Q * 1e9\n",
    "plt.title('Q = %.2f' % Qnc[2] + ' nC')\n",
    "plt.savefig(savepath + 'highQAr.png')\n",
    "plt.show()\n"
   ]
  },
  {
   "cell_type": "code",
   "execution_count": null,
   "metadata": {
    "collapsed": true
   },
   "outputs": [],
   "source": []
  }
 ],
 "metadata": {
  "kernelspec": {
   "display_name": "CU-PWFA",
   "language": "python",
   "name": "cu-pwfa"
  },
  "language_info": {
   "codemirror_mode": {
    "name": "ipython",
    "version": 3
   },
   "file_extension": ".py",
   "mimetype": "text/x-python",
   "name": "python",
   "nbconvert_exporter": "python",
   "pygments_lexer": "ipython3",
   "version": "3.6.2"
  }
 },
 "nbformat": 4,
 "nbformat_minor": 2
}

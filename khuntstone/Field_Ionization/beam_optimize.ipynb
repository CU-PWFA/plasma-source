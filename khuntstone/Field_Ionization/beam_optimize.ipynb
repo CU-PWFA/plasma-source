{
 "cells": [
  {
   "cell_type": "code",
   "execution_count": 31,
   "metadata": {},
   "outputs": [],
   "source": [
    "# Looking into optimal beam params for minimal ionization effects. \n",
    "import numpy as np\n",
    "import matplotlib.pyplot as plt\n",
    "import eBeam_v02 as eb\n",
    "import sys\n",
    "import plotty as pl\n",
    "sys.path.insert(0, \"../Constants/\")\n",
    "import Constants.SI as SI\n",
    "c = SI.lightSpeed\n",
    "plt.style.use('notes')"
   ]
  },
  {
   "cell_type": "code",
   "execution_count": 36,
   "metadata": {},
   "outputs": [],
   "source": [
    "# Dictionary of plasmas \n",
    "plasmaDict = {\n",
    "'Ar+' : {'Vi' : 15.75962, 'Name' :  'Ar$^{+}$', 'Z' : 1},\n",
    "'Ar2+': {'Vi' : 27.62967, 'Name' : 'Ar$^{2+}$', 'Z' : 2},\n",
    "'Ar3+': {'Vi' : 40.74, 'Name' : 'Ar$^{3+}$', 'Z' : 3},\n",
    "'Ar4+': {'Vi' : 59.81, 'Name': 'Ar$^{4+}$', 'Z' : 4},\n",
    "'Ar5+': {'Vi' : 59.81, 'Name': 'Ar$^{5+}$', 'Z' : 5},\n",
    "'He+': {'Vi' : 59.81, 'Name': 'He$^{+}$', 'Z' : 1},\n",
    "'He2+': {'Vi': 59.81, 'Name': 'He$^{2+}$', 'Z' : 2}\n",
    "}\n"
   ]
  },
  {
   "cell_type": "code",
   "execution_count": 37,
   "metadata": {},
   "outputs": [],
   "source": [
    "def get_rad_e_field(beamParams):\n",
    "    ppk = peak_charge_dens(beamParams)\n",
    "    for i in range()\n",
    "    \n",
    "    \n",
    "    "
   ]
  }
 ],
 "metadata": {
  "kernelspec": {
   "display_name": "CU-PWFA",
   "language": "python",
   "name": "cu-pwfa"
  },
  "language_info": {
   "codemirror_mode": {
    "name": "ipython",
    "version": 3
   },
   "file_extension": ".py",
   "mimetype": "text/x-python",
   "name": "python",
   "nbconvert_exporter": "python",
   "pygments_lexer": "ipython3",
   "version": "3.6.2"
  }
 },
 "nbformat": 4,
 "nbformat_minor": 2
}

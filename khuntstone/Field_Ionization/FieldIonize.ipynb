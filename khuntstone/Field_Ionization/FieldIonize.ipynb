{
 "cells": [
  {
   "cell_type": "code",
   "execution_count": null,
   "metadata": {
    "collapsed": true
   },
   "outputs": [],
   "source": [
    "import sys\n",
    "import time\n",
    "sys.path.insert(0,\"../\")\n",
    "import Constants.SI as SI\n",
    "import eBeam\n",
    "import eBeam_v02 as eBeam2\n",
    "import numpy as np\n",
    "import matplotlib.pyplot as plt\n",
    "from scipy.integrate import simps\n",
    "c = SI.lightSpeed;\n",
    "#% matplotlib notebook"
   ]
  },
  {
   "cell_type": "code",
   "execution_count": null,
   "metadata": {
    "collapsed": true
   },
   "outputs": [],
   "source": [
    "# Beam parameters (Facet II)\n",
    "gamma    = 20000; \n",
    "beta     = np.sqrt(1 - 1/gamma**2);\n",
    "en       = 5.3e-6; # m-rad\n",
    "beta_s = 1.0 # m  \n",
    "# Get beam width from en and betatron\n",
    "sigma_r1 = eBeam.get_sigma_r(en, beta_s, gamma);\n",
    "sigma_z = 10.0e-6;\n",
    "n_sigma_t = 5; # number of sigma_ts to calculate along\n",
    "n_sigma_r = 30;\n",
    "Q = 1.0e-9;\n",
    "N = Q/SI.elemCharge\n",
    "beamParams1 = [sigma_z, sigma_r1, beta, Q]\n",
    "pPK1 = eBeam.peak_charge_dens(beamParams1)\n",
    "sigma_t = sigma_z / (beta * c)"
   ]
  },
  {
   "cell_type": "code",
   "execution_count": null,
   "metadata": {
    "collapsed": true
   },
   "outputs": [],
   "source": [
    "# Ionization energies\n",
    "Vi_Ar = 15.75962;\n",
    "Vi_He = 24.58741;\n",
    "Vi_Xe = 12.13;"
   ]
  },
  {
   "cell_type": "code",
   "execution_count": null,
   "metadata": {
    "collapsed": true
   },
   "outputs": [],
   "source": [
    "# r and z arrays for computing the E field\n",
    "npoints = 1000\n",
    "\n",
    "\n",
    "r_start1 = -n_sigma_r * sigma_r1\n",
    "r_end1   = -r_start1\n",
    "\n",
    "\n",
    "r1 = np.linspace(r_start1,r_end1, npoints)\n",
    "\n",
    "t_start = (-sigma_t/2) * n_sigma_t\n",
    "t_end   = -t_start\n",
    "t = np.linspace(t_start , t_end, npoints)\n",
    "\n",
    "z_arr = np.linspace(-2*sigma_z, 2*sigma_z,npoints)\n",
    "\n",
    "pos_1 = [r1, t]\n",
    "\n",
    "pos_z1 = [r1,z_arr]"
   ]
  },
  {
   "cell_type": "code",
   "execution_count": null,
   "metadata": {
    "collapsed": true
   },
   "outputs": [],
   "source": [
    "Er1, rPeak1, EPeak1 = eBeam.rad_E_field(pos_1, beamParams1)\n",
    "W_Ar_1 = eBeam.ionization_rate(Er1, beamParams1, Vi_Ar)\n",
    "\n",
    "W_He_1 = eBeam.ionization_rate(Er1, beamParams1, Vi_He)\n",
    "\n",
    "n_Ar_1 = eBeam.plasmaDens(W_Ar_1, t, sigma_t)\n",
    "\n",
    "n_He_1 = eBeam.plasmaDens(W_He_1, t, sigma_t)"
   ]
  },
  {
   "cell_type": "code",
   "execution_count": null,
   "metadata": {
    "collapsed": true
   },
   "outputs": [],
   "source": [
    "eBeam.plot_field_rt(np.flipud(Er1), [np.flipud(r1), t], '$E_r$ [GV/m]')"
   ]
  },
  {
   "cell_type": "code",
   "execution_count": null,
   "metadata": {
    "collapsed": true
   },
   "outputs": [],
   "source": [
    "eBeam.plot_field_rt(W_Ar_1, pos_1,'W [$fs^{-1}$]', \\\n",
    "                     gas = True, gasName = 'Ar, ' + r'$\\beta = $' + str(beta_s) + 'm')"
   ]
  },
  {
   "cell_type": "code",
   "execution_count": null,
   "metadata": {
    "collapsed": true
   },
   "outputs": [],
   "source": [
    "eBeam.plot_field_rt(W_He_1, pos_1, 'W [$fs^{-1}$]',\\\n",
    "                    [], gas = True, gasName = 'He, ' + r'$\\beta = $' + str(beta_s))"
   ]
  },
  {
   "cell_type": "code",
   "execution_count": null,
   "metadata": {
    "collapsed": true
   },
   "outputs": [],
   "source": [
    "eBeam.plot_plasma([r1], [n_Ar_1], [min(r1)*1e6, max(r1)*1e6], 'Ar', [beta_s])"
   ]
  },
  {
   "cell_type": "code",
   "execution_count": null,
   "metadata": {
    "collapsed": true
   },
   "outputs": [],
   "source": [
    "eBeam.plot_plasma([r1], [ n_He_1], [min(r1)*1e6, max(r1)*1e6],'He', [beta_s])"
   ]
  },
  {
   "cell_type": "code",
   "execution_count": null,
   "metadata": {
    "collapsed": true
   },
   "outputs": [],
   "source": [
    "n_rz_Ar_1 = eBeam.plot_2D_plasma(np.flipud(W_Ar_1), np.flipud(r1), t, \\\n",
    "                               'Ionization Fraction of Argon, $\\\\beta$ = ' + str(beta_s)) "
   ]
  },
  {
   "cell_type": "code",
   "execution_count": null,
   "metadata": {
    "collapsed": true
   },
   "outputs": [],
   "source": [
    "n_rz_He_1 = eBeam.plot_2D_plasma(np.flipud(W_He_1), np.flipud(r1), t, \\\n",
    "                               'Ionization Fraction of He, $\\\\beta$ = ' + str(beta_s)) "
   ]
  },
  {
   "cell_type": "code",
   "execution_count": null,
   "metadata": {
    "collapsed": true
   },
   "outputs": [],
   "source": [
    "beta_arr = np.linspace(.05, 1.5, 1000)\n",
    "max_ion_He = eBeam.maxIonization(beta_arr, sigma_z, gamma, en, Q, Vi_He)\n",
    "max_ion_Ar = eBeam.maxIonization(beta_arr, sigma_z, gamma, en, Q, Vi_Ar)\n",
    "plt.plot(beta_arr, max_ion_He, label = 'He')\n",
    "plt.plot(beta_arr, max_ion_Ar, label = 'Ar')\n",
    "plt.xlabel('$\\\\beta$ [m]')\n",
    "plt.ylabel('Maximum ionization fraction')\n",
    "plt.legend()\n",
    "plt.show()"
   ]
  }
 ],
 "metadata": {
  "kernelspec": {
   "display_name": "CU-PWFA",
   "language": "python",
   "name": "cu-pwfa"
  },
  "language_info": {
   "codemirror_mode": {
    "name": "ipython",
    "version": 3
   },
   "file_extension": ".py",
   "mimetype": "text/x-python",
   "name": "python",
   "nbconvert_exporter": "python",
   "pygments_lexer": "ipython3",
   "version": "3.6.2"
  }
 },
 "nbformat": 4,
 "nbformat_minor": 2
}

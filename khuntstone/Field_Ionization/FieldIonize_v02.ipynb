{
 "cells": [
  {
   "cell_type": "code",
   "execution_count": 1,
   "metadata": {},
   "outputs": [],
   "source": [
    "import sys\n",
    "import time\n",
    "sys.path.insert(0,\"../\")\n",
    "import Constants.SI as SI\n",
    "import eBeam\n",
    "import eBeam_v02 as eBeam2\n",
    "import numpy as np\n",
    "import matplotlib.pyplot as plt\n",
    "from scipy.integrate import simps\n",
    "c = SI.lightSpeed;"
   ]
  },
  {
   "cell_type": "code",
   "execution_count": 2,
   "metadata": {
    "collapsed": true
   },
   "outputs": [],
   "source": [
    "#ionization energies\n",
    "Vi_Ar1 = 15.75962;\n",
    "Vi_Ar2 = 27.62967\n",
    "Vi_He1 = 24.58741;\n",
    "Vi_He2 = 54.41778\n",
    "Vi_Xe  = 12.13;"
   ]
  },
  {
   "cell_type": "code",
   "execution_count": 3,
   "metadata": {
    "collapsed": true
   },
   "outputs": [],
   "source": [
    "# Beam parameters (Facet II)\n",
    "gamma = 20000; \n",
    "beta = np.sqrt(1 - 1/gamma**2); \n",
    "en = 5.3e-6; \n",
    "beta_s = np.linspace(.05, 1.5, 100);\n",
    "sigma_z = 10e-6; \n",
    "sigma_t = sigma_z / (beta * c); \n",
    "Q = 1e-9;\n",
    "\n",
    "beamParams = {\n",
    "              'gamma'   : gamma,  \n",
    "              'sigma_z' : sigma_z, \n",
    "              'sigma_t' : sigma_t, \n",
    "              'beta'    : beta,\n",
    "              'charge'  : Q, \n",
    "              'emitt'   : en, \n",
    "              'beta_s'  : beta_s\n",
    "             }\n",
    "\n",
    "eBeam2.get_sigma_r(beamParams)\n",
    "pPk = eBeam2.peak_charge_dens(beamParams)\n",
    "r, xi, npoints = eBeam2.get_pos(beamParams, nxi = 2, npoints = 1000);\n",
    "pos = {'r' : r, 'xi' : xi, 'npoints' : npoints}\n"
   ]
  },
  {
   "cell_type": "code",
   "execution_count": 4,
   "metadata": {
    "collapsed": true
   },
   "outputs": [],
   "source": [
    "Er, rPeak, EPeak = eBeam2.rad_E_field(pos, beamParams, rz = True)"
   ]
  },
  {
   "cell_type": "code",
   "execution_count": 5,
   "metadata": {
    "collapsed": true
   },
   "outputs": [],
   "source": [
    "W_Ar1 = eBeam2.ionization_rate(Er, beamParams, Vi_Ar1)\n",
    "\n",
    "plasma_frac_Ar1, max_frac_Ar1 = \\\n",
    "                eBeam2.ionization_frac(W_Ar1, pos, beamParams)\n",
    "    \n",
    "width_Ar1 = eBeam2.neutral_ring_width(plasma_frac_Ar1, pos)"
   ]
  },
  {
   "cell_type": "code",
   "execution_count": 6,
   "metadata": {
    "collapsed": true
   },
   "outputs": [],
   "source": [
    "W_Ar2 = eBeam2.ionization_rate(Er, beamParams, Vi_Ar2)\n",
    "\n",
    "plasma_frac_Ar2, max_frac_Ar2 = \\\n",
    "                eBeam2.ionization_frac(W_Ar2, pos, beamParams)\n",
    "\n",
    "width_Ar2 = eBeam2.neutral_ring_width(plasma_frac_Ar2, pos)"
   ]
  },
  {
   "cell_type": "code",
   "execution_count": 7,
   "metadata": {
    "collapsed": true
   },
   "outputs": [],
   "source": [
    "W_He1 = eBeam2.ionization_rate(Er, beamParams, Vi_He1)\n",
    "\n",
    "\n",
    "plasma_frac_He1, max_frac_He1 = \\\n",
    "                eBeam2.ionization_frac(W_He1, pos, beamParams)\n",
    "    \n",
    "width_He1 = eBeam2.neutral_ring_width(plasma_frac_He1, pos)"
   ]
  },
  {
   "cell_type": "code",
   "execution_count": 8,
   "metadata": {
    "collapsed": true
   },
   "outputs": [],
   "source": [
    "W_He2 = eBeam2.ionization_rate(Er, beamParams, Vi_He2)\n",
    "\n",
    "plasma_frac_He2, max_frac_He2 = \\\n",
    "                eBeam2.ionization_frac(W_He2, pos, beamParams)\n",
    "    \n",
    "width_He2 = eBeam2.neutral_ring_width(plasma_frac_He2, pos)"
   ]
  },
  {
   "cell_type": "code",
   "execution_count": null,
   "metadata": {
    "collapsed": true,
    "scrolled": false
   },
   "outputs": [],
   "source": [
    "eBeam2.plot_field(Er, pos, beamParams,'$E_r$ [GV/m]', beta_s, 0)"
   ]
  },
  {
   "cell_type": "code",
   "execution_count": null,
   "metadata": {
    "collapsed": true
   },
   "outputs": [],
   "source": [
    "eBeam2.plot_field(W_Ar1, pos, beamParams, 'W[fm$^{-1}$]', beta_s, 0, \\\n",
    "                  gas = True, gasName = 'Ar$^{+}$ ')"
   ]
  },
  {
   "cell_type": "code",
   "execution_count": null,
   "metadata": {
    "collapsed": true
   },
   "outputs": [],
   "source": [
    "eBeam2.plot_field(W_Ar2, pos, beamParams, 'W[fm$^{-1}$]', beta_s, 0, \\\n",
    "                  gas = True, gasName = 'Ar$^{++}$ ')"
   ]
  },
  {
   "cell_type": "code",
   "execution_count": null,
   "metadata": {
    "collapsed": true
   },
   "outputs": [],
   "source": [
    "eBeam2.plot_field(W_He1, pos, beamParams, 'W[fm$^{-1}$]', beta_s, 0, \\\n",
    "                  gas = True, gasName = 'He$^{+}$ ')"
   ]
  },
  {
   "cell_type": "code",
   "execution_count": null,
   "metadata": {
    "collapsed": true
   },
   "outputs": [],
   "source": [
    "eBeam2.plot_field(W_He2, pos, beamParams, 'W[fm$^{-1}$]', beta_s, 0, \\\n",
    "                  gas = True, gasName = 'He$^{++}$ ')"
   ]
  },
  {
   "cell_type": "code",
   "execution_count": 14,
   "metadata": {},
   "outputs": [
    {
     "data": {
      "image/png": "[encoded data removed]",
      "text/plain": [
       "<matplotlib.figure.Figure at 0x7f539ff79940>"
      ]
     },
     "metadata": {},
     "output_type": "display_data"
    }
   ],
   "source": [
    "eBeam2.plot_plasma_frac(plasma_frac_Ar2, pos, beamParams, 'Ar$^{++}$', 90)"
   ]
  },
  {
   "cell_type": "code",
   "execution_count": 10,
   "metadata": {},
   "outputs": [
    {
     "data": {
      "image/png": "[encoded data removed]",
      "text/plain": [
       "<matplotlib.figure.Figure at 0x7f7d5051f588>"
      ]
     },
     "metadata": {},
     "output_type": "display_data"
    }
   ],
   "source": [
    "maxes = [max_frac_Ar1, max_frac_Ar2, max_frac_He1, max_frac_He2]\n",
    "names = ['Ar$^{+}$', 'Ar$^{++}$', 'He$^{+}$', 'He$^{++}$']\n",
    "widths = [width_Ar1, width_Ar2, width_He1, width_He2]\n",
    "eBeam2.plot_max_frac(maxes, beamParams, names)"
   ]
  },
  {
   "cell_type": "code",
   "execution_count": 11,
   "metadata": {},
   "outputs": [
    {
     "data": {
      "image/png": "[encoded data removed]",
      "text/plain": [
       "<matplotlib.figure.Figure at 0x7f7d504e7e48>"
      ]
     },
     "metadata": {},
     "output_type": "display_data"
    }
   ],
   "source": [
    "eBeam2.plot_width(widths, names, beamParams, log = True)"
   ]
  },
  {
   "cell_type": "code",
   "execution_count": null,
   "metadata": {
    "collapsed": true
   },
   "outputs": [],
   "source": []
  }
 ],
 "metadata": {
  "kernelspec": {
   "display_name": "Python 3",
   "language": "python",
   "name": "python3"
  },
  "language_info": {
   "codemirror_mode": {
    "name": "ipython",
    "version": 3
   },
   "file_extension": ".py",
   "mimetype": "text/x-python",
   "name": "python",
   "nbconvert_exporter": "python",
   "pygments_lexer": "ipython3",
   "version": "3.6.2"
  }
 },
 "nbformat": 4,
 "nbformat_minor": 2
}

{
 "cells": [
  {
   "cell_type": "code",
   "execution_count": 1,
   "metadata": {},
   "outputs": [],
   "source": [
    "import numpy as np\n",
    "from scipy.special import fresnel, erf\n",
    "import matplotlib.pyplot as plt"
   ]
  },
  {
   "cell_type": "code",
   "execution_count": 2,
   "metadata": {},
   "outputs": [],
   "source": [
    "def get_SC(x):\n",
    "    ip = 1j + 1\n",
    "    im = 1 - 1j\n",
    "    arg_p = ip * np.sqrt(np.pi) * x * 0.5\n",
    "    arg_m = im * np.sqrt(np.pi) * x * 0.5\n",
    "    S = (ip/4) * (erf(arg_p) - 1j * erf(arg_m))\n",
    "    C = (im/4) * (erf(arg_p) + 1j * erf(arg_m))\n",
    "    return S, C"
   ]
  },
  {
   "cell_type": "code",
   "execution_count": 3,
   "metadata": {},
   "outputs": [],
   "source": [
    "chi1 = 1\n",
    "dtau = 1\n",
    "v0   = 1\n",
    "v1   = 2\n",
    "N    = 1e3\n",
    "chi2 = np.linspace(-1e-3, 1e-3, int(N))"
   ]
  },
  {
   "cell_type": "code",
   "execution_count": 4,
   "metadata": {},
   "outputs": [],
   "source": [
    "# Fresenel\n",
    "phi_p = (dtau**2 / 4) * chi2 + (dtau / 2) * chi1\n",
    "phi_m = (dtau**2 / 4) * chi2 - (dtau / 2) * chi1\n",
    "psi_base = np.sqrt(2 * np.pi / chi2, dtype = 'complex128') * (2 * chi2 * v0 - chi1 * v1)\n",
    "psi_p    = psi_base * np.cos(chi1**2 / (4 * chi2))\n",
    "psi_m    = psi_base * np.sin(chi1**2 / (4 * chi2))\n",
    "theta_p = (chi1 + chi2 * dtau) / np.sqrt(2 * np.pi * chi2, dtype = 'complex128')\n",
    "theta_m = (chi1 - chi2 * dtau) / np.sqrt(2 * np.pi * chi2, dtype = 'complex128')\n",
    "Sp, Cp  = get_SC(theta_p)\n",
    "Sm, Cm  = get_SC(theta_m)\n",
    "Rf      = (1 / (4 * chi2)) * (psi_p * (Cp-Cm) + psi_m * (Sp - Sm) + 2 * v1 * (np.sin(phi_p) - np.sin(phi_m)))\n",
    "If      = (1 / (4 * chi2)) * (psi_p * (Sp-Sm) - psi_m * (Cp - Cm) - 2 * v1 * (np.cos(phi_p) - np.cos(phi_m)))"
   ]
  },
  {
   "cell_type": "code",
   "execution_count": 5,
   "metadata": {},
   "outputs": [],
   "source": [
    "# Taylor\n",
    "arg = chi1 * dtau * 0.5\n",
    "sinc = np.sinc(arg / np.pi)\n",
    "I0   = sinc * dtau\n",
    "I1   = (dtau / chi1) * (sinc - np.cos(arg))\n",
    "I2   = (dtau**3 / 4) * sinc - (2 * I1 / chi1)\n",
    "Rt   = np.zeros(len(chi2)) + v0 * I0\n",
    "It   = v1 * I1 + chi2 * v0 * I2"
   ]
  },
  {
   "cell_type": "code",
   "execution_count": 6,
   "metadata": {},
   "outputs": [
    {
     "name": "stdout",
     "output_type": "stream",
     "text": [
      "False\n",
      "False\n"
     ]
    }
   ],
   "source": [
    "print(any(np.imag(Rf)))\n",
    "print(any(np.imag(If)))"
   ]
  },
  {
   "cell_type": "code",
   "execution_count": 7,
   "metadata": {},
   "outputs": [],
   "source": [
    "fres = np.real(Rf) + 1j * np.real(If)\n",
    "tay  = Rt + 1j * It"
   ]
  }
 ],
 "metadata": {
  "kernelspec": {
   "display_name": "CU-PWFA",
   "language": "python",
   "name": "cu-pwfa"
  },
  "language_info": {
   "codemirror_mode": {
    "name": "ipython",
    "version": 3
   },
   "file_extension": ".py",
   "mimetype": "text/x-python",
   "name": "python",
   "nbconvert_exporter": "python",
   "pygments_lexer": "ipython3",
   "version": "3.7.3"
  }
 },
 "nbformat": 4,
 "nbformat_minor": 2
}

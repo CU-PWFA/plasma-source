{
 "cells": [
  {
   "cell_type": "code",
   "execution_count": 1,
   "metadata": {},
   "outputs": [],
   "source": [
    "import matplotlib.pyplot as plt\n",
    "import numpy as np\n",
    "from scipy.constants import c, mu_0, epsilon_0, e, m_e\n",
    "hbar = 4.1357e-15;\n",
    "from scipy.special import fresnel, erf, kv\n",
    "import sys\n",
    "sys.path.insert(0,\"../\")\n",
    "from plotting import makefig"
   ]
  },
  {
   "cell_type": "code",
   "execution_count": 2,
   "metadata": {},
   "outputs": [],
   "source": [
    "chi2n = np.linspace(1e-12, 1e4, 100000)\n",
    "dtau  = np.zeros(len(chi2n)) + 1\n",
    "v0n   = np.zeros(len(chi2n)) + 1\n",
    "v1n   = np.zeros(len(chi2n)) + 2\n",
    "chi1n = np.zeros(len(chi2n)) + 1"
   ]
  },
  {
   "cell_type": "code",
   "execution_count": 3,
   "metadata": {},
   "outputs": [],
   "source": [
    "#arg = 0.5 * chi1n * dtau\n",
    "#I0  = np.pi * np.sinc(arg / np.pi) * dtau\n",
    "#I1  = (dtau / chi1n) * (np.pi * np.sinc(arg / np.pi) - np.cos(arg))\n",
    "#I2  = (dtau**3 / 4) * (np.pi*np.sinc(arg/np.pi)) - (2 * I1 / chi1n)\n",
    "#RT  = v0n * I0\n",
    "#IT  = v1n * I1 + chi2n * v0n * I2"
   ]
  },
  {
   "cell_type": "code",
   "execution_count": 4,
   "metadata": {},
   "outputs": [],
   "source": [
    "#phi_p    = (dtau**2 / 5) * chi2n + (dtau / 2) * chi1n\n",
    "#phi_m    = (dtau**2 / 5) * chi2n - (dtau / 2) * chi1n\n",
    "#psi_base = np.sqrt(2 * np.pi / chi2n) * (2 * chi2n * v0n - chi1n * v1n)\n",
    "#psi_p    = psi_base * np.cos(chi1n**2 / (4 * chi2n))\n",
    "#psi_m    = psi_base * np.sin(chi1n**2 / (4 * chi2n))\n",
    "theta_p  = (chi1n + chi2n * dtau) / np.sqrt(2 * np.pi * chi2n)\n",
    "theta_m  = (chi1n - chi2n * dtau) / np.sqrt(2 * np.pi * chi2n)\n",
    "Sp, Cp   = fresnel(theta_p)\n",
    "Sm, Cm   = fresnel(theta_m)\n",
    "#R1       = psi_p * (Cp - Cm)\n",
    "#R2       = psi_m * (Sp - Sm)\n",
    "#R3       = 2 * v1n * (np.sin(phi_p) - np.sin(phi_m))\n",
    "#RF       = (1 / (4 * chi2n)) * (R1 + R2 + R3)\n",
    "\n",
    "#I1       = psi_p * (Sp - Sm) \n",
    "#I2       = psi_m * (Cp - Cm)\n",
    "#I3       = 2 * v1n * (np.cos(phi_p) - np.cos(phi_m))\n",
    "#IF       = (1 / (4 * chi2n)) * (I1 - I2 - I3)"
   ]
  },
  {
   "cell_type": "code",
   "execution_count": 5,
   "metadata": {},
   "outputs": [],
   "source": [
    "#fig, ax = makefig(xlab = r'$\\chi_{2n}$', ylab = r'$I_{j,n}$')\n",
    "#ax.plot(chi2n, np.abs(RF + 1j*IF))\n",
    "#ax.plot(chi2n, np.abs(RT + 1j * IT))\n",
    "#ax.set_xscale('log')\n",
    "#ax.set_yscale('log')\n",
    "#plt.show()"
   ]
  }
 ],
 "metadata": {
  "kernelspec": {
   "display_name": "CU-PWFA",
   "language": "python",
   "name": "cu-pwfa"
  },
  "language_info": {
   "codemirror_mode": {
    "name": "ipython",
    "version": 3
   },
   "file_extension": ".py",
   "mimetype": "text/x-python",
   "name": "python",
   "nbconvert_exporter": "python",
   "pygments_lexer": "ipython3",
   "version": "3.7.3"
  }
 },
 "nbformat": 4,
 "nbformat_minor": 2
}

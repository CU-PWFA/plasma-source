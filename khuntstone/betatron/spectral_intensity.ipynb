{
 "cells": [
  {
   "cell_type": "code",
   "execution_count": 1,
   "metadata": {},
   "outputs": [],
   "source": [
    "import matplotlib.pyplot as plt\n",
    "import numpy as np\n",
    "from scipy.constants import c, hbar\n",
    "import sys\n",
    "sys.path.insert(0, \"../\")\n",
    "# Custom modules\n",
    "from plotting import makefig\n",
    "import spectral_intensity as si\n",
    "from v_x_interp import position_interp, velocity_interp"
   ]
  },
  {
   "cell_type": "code",
   "execution_count": 7,
   "metadata": {},
   "outputs": [
    {
     "name": "stdout",
     "output_type": "stream",
     "text": [
      "100\n",
      "200\n",
      "300\n",
      "400\n",
      "500\n",
      "600\n"
     ]
    }
   ],
   "source": [
    "# Load multi-particle data from wargSim\n",
    "L_plasma = 0.4\n",
    "path     = \"/media/keenan/Data_Storage/WARGSim/\" + \"noGain/\"\n",
    "nDumps   = 699\n",
    "nParts   = 100\n",
    "z        = np.linspace(0, L_plasma, nDumps)\n",
    "x        = np.zeros((nParts, nDumps))\n",
    "y        = np.zeros((nParts, nDumps))\n",
    "gb       = np.zeros((nParts, nDumps))\n",
    "t        = z / c;\n",
    "t[0]     = 0;\n",
    "for i in range(nDumps):\n",
    "    if i%100 == 0 and i >=100:\n",
    "        print(i)\n",
    "    ptcls    = np.load(path + \"_ptcls_\" + str(i) + \".npy\")\n",
    "    x[:, i]  = ptcls[0:nParts,0]\n",
    "    y[:, i]  = ptcls[0:nParts, 2]\n",
    "    gb[:, i] = ptcls[0, 5] "
   ]
  },
  {
   "cell_type": "code",
   "execution_count": 8,
   "metadata": {},
   "outputs": [],
   "source": [
    "# Get velocities\n",
    "def get_v(x, y, z, tau):\n",
    "    vx  = np.diff(x) / np.diff(tau)\n",
    "    vx  = np.append(vx, vx[-1])\n",
    "    vy  = np.diff(y) / np.diff(tau)\n",
    "    vy  = np.append(vy, vy[-1])\n",
    "    vz  = np.diff(z) / np.diff(tau)\n",
    "    vz  = np.append(vz, vz[-1])\n",
    "    return vx, vy, vz\n",
    "# get tau\n",
    "def get_tau(dtau):\n",
    "    tau = np.zeros(len(dtau))\n",
    "    for i in range(1,len(dtau)):\n",
    "        tau[i] = tau[i-1] + dtau[i-1]\n",
    "    return tau"
   ]
  },
  {
   "cell_type": "code",
   "execution_count": null,
   "metadata": {},
   "outputs": [
    {
     "name": "stdout",
     "output_type": "stream",
     "text": [
      "100\n",
      "200\n"
     ]
    }
   ],
   "source": [
    "# Loop through angles, energies, and particles\n",
    "dt       = t[1] - t[0]\n",
    "N_interp = 1000\n",
    "npad = -3\n",
    "theta = np.linspace(-np.pi/2, np.pi/2, 500)\n",
    "E     = np.linspace(1e-6, 10, 500) * 1e3 # E, eV\n",
    "w     = E / hbar\n",
    "d2I   = np.zeros((len(w), len(theta)), dtype = 'complex128')\n",
    "for i in range(len(w)):\n",
    "    if (i+1)%100 == 0:\n",
    "        print(i+1)\n",
    "    w_use = w[i]\n",
    "    for j in range(len(theta)):\n",
    "        for k in range(len(x)):\n",
    "            x_use  = x[k, :]\n",
    "            y_use  = y[k, :]\n",
    "            gb_use = gb[k, :]\n",
    "            dtau   = dt / gb_use\n",
    "            tau    = get_tau(dtau)\n",
    "            vx, vy, vz = get_v(x_use, y_use, z, tau)\n",
    "            # Interpolate\n",
    "            tau_int = np.linspace(tau[0], tau[-1], N_interp)\n",
    "            x0n     = (c * t, x_use, y_use, z)\n",
    "            v0n     = (vx, vy, vz)\n",
    "            ct1, ct2, ct_int = position_interp(x0n[0], tau, tau_int)\n",
    "            x1, x2, x_int    = position_interp(x0n[1], tau, tau_int)\n",
    "            y1, y2, y_int    = position_interp(x0n[2], tau, tau_int)\n",
    "            z1, z2, z_int    = position_interp(x0n[3], tau, tau_int)\n",
    "            x0n              = (x0n[0][0:npad], x0n[1][0:npad], x0n[2][0:npad], x0n[3][0:npad])\n",
    "            x1n              = (ct1[0:npad], x1[0:npad], y1[0:npad], z1[0:npad])\n",
    "            x2n              = (ct2[0:npad], x2[0:npad], y2[0:npad], z2[0:npad])\n",
    "\n",
    "            # Interpolate velocity\n",
    "            vx1, vx_int = velocity_interp(v0n[0], tau, tau_int)\n",
    "            vy1, vy_int = velocity_interp(v0n[1], tau, tau_int)\n",
    "            vz1, vz_int = velocity_interp(v0n[2], tau, tau_int)\n",
    "\n",
    "            v0n         = (v0n[0][0:npad], v0n[1][0:npad], v0n[2][0:npad])\n",
    "            v1n         = (vx1[0:npad], vy1[0:npad], vz1[0:npad]) \n",
    "\n",
    "            tau  = tau[0:npad]  \n",
    "            dtau = dtau[0:npad]\n",
    "            d2I[i, j] += si.get_single_intensity(theta[j], w_use, x0n, x1n, x2n, v0n, v1n, dtau)"
   ]
  },
  {
   "cell_type": "code",
   "execution_count": null,
   "metadata": {},
   "outputs": [],
   "source": [
    "fig, ax = makefig(xlab = r'E [keV]', ylab = r'$\\theta [rad]$')\n",
    "d2I_plot = np.real(d2I) / np.amax(np.real(d2I))\n",
    "ext  = [min(E), max(E), min(theta), max(theta)]\n",
    "img  = ax.imshow(np.transpose(d2I_plot), extent = ext, cmap = 'jet', aspect = 'auto')\n",
    "cb   = plt.colorbar(mappable = img)\n",
    "plt.show()"
   ]
  },
  {
   "cell_type": "code",
   "execution_count": 2,
   "metadata": {},
   "outputs": [],
   "source": [
    "L_plasma = 0.4, # plasma length from simulation (m)\n",
    "z = np.squeeze(np.linspace(0, L_plasma, len(x)))\n",
    "t = z / c;\n",
    "# Get proper time\n",
    "dtau = (t[1] - t[0]) / gb\n",
    "tau  = np.zeros(len(t))\n",
    "for i in range(1, len(t)):\n",
    "    tau[i] = tau[i-1] + dtau[i-1]\n",
    "x0n = (c * t, x, y, z)\n",
    "# Get velocities\n",
    "vx  = np.diff(x) / np.diff(tau)\n",
    "vx  = np.append(vx, vx[-1])\n",
    "vy  = np.diff(y) / np.diff(tau)\n",
    "vy  = np.append(vy, vy[-1])\n",
    "vz  = np.diff(z) / np.diff(tau)\n",
    "vz  = np.append(vz, vz[-1])\n",
    "\n",
    "v0n = (vx, vy, vz)"
   ]
  },
  {
   "cell_type": "code",
   "execution_count": null,
   "metadata": {},
   "outputs": [],
   "source": [
    "N_interp = 1000 # Number of interpolation points\n",
    "tau_int = np.linspace(tau[0], tau[-1], N_interp)"
   ]
  },
  {
   "cell_type": "code",
   "execution_count": null,
   "metadata": {},
   "outputs": [],
   "source": []
  },
  {
   "cell_type": "code",
   "execution_count": 3,
   "metadata": {},
   "outputs": [],
   "source": [
    "# Get interpolation coefficients as vectors\n",
    "N_interp = 1000 # Number of interpolation points\n",
    "tau_int = np.linspace(tau[0], tau[-1], N_interp)\n",
    "\n",
    "# Interp osition\n",
    "ct1, ct2, ct_int = position_interp(x0n[0], tau, tau_int)\n",
    "x1, x2, x_int    = position_interp(x0n[1], tau, tau_int)\n",
    "y1, y2, y_int    = position_interp(x0n[2], tau, tau_int)\n",
    "z1, z2, z_int    = position_interp(x0n[3], tau, tau_int)\n",
    "\n",
    "# Testing padding the results\n",
    "npad = -3\n",
    "x0n              = (x0n[0][0:npad], x0n[1][0:npad], x0n[2][0:npad], \\\n",
    "                    x0n[3][0:npad])\n",
    "x1n              = (ct1[0:npad], x1[0:npad], y1[0:npad], z1[0:npad])\n",
    "x2n              = (ct2[0:npad], x2[0:npad], y2[0:npad], z2[0:npad])\n",
    "\n",
    "# Interpolate velocity\n",
    "vx1, vx_int = velocity_interp(v0n[0], tau, tau_int)\n",
    "vy1, vy_int = velocity_interp(v0n[1], tau, tau_int)\n",
    "vz1, vz_int = velocity_interp(v0n[2], tau, tau_int)\n",
    "\n",
    "v0n         = (v0n[0][0:npad], v0n[1][0:npad], v0n[2][0:npad])\n",
    "v1n         = (vx1[0:npad], vy1[0:npad], vz1[0:npad]) \n",
    "\n",
    "tau  = tau[0:npad]  \n",
    "dtau = dtau[0:npad]"
   ]
  },
  {
   "cell_type": "code",
   "execution_count": 26,
   "metadata": {},
   "outputs": [
    {
     "name": "stdout",
     "output_type": "stream",
     "text": [
      "100\n",
      "200\n",
      "300\n",
      "400\n",
      "500\n"
     ]
    }
   ],
   "source": []
  },
  {
   "cell_type": "code",
   "execution_count": 31,
   "metadata": {},
   "outputs": [
    {
     "name": "stdout",
     "output_type": "stream",
     "text": [
      "Warning: Cannot change to a different GUI toolkit: notebook. Using qt instead.\n"
     ]
    }
   ],
   "source": []
  },
  {
   "cell_type": "code",
   "execution_count": null,
   "metadata": {},
   "outputs": [],
   "source": []
  }
 ],
 "metadata": {
  "kernelspec": {
   "display_name": "CU-PWFA",
   "language": "python",
   "name": "cu-pwfa"
  },
  "language_info": {
   "codemirror_mode": {
    "name": "ipython",
    "version": 3
   },
   "file_extension": ".py",
   "mimetype": "text/x-python",
   "name": "python",
   "nbconvert_exporter": "python",
   "pygments_lexer": "ipython3",
   "version": "3.7.3"
  }
 },
 "nbformat": 4,
 "nbformat_minor": 2
}

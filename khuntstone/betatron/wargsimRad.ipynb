{
 "cells": [
  {
   "cell_type": "code",
   "execution_count": 1,
   "metadata": {},
   "outputs": [
    {
     "name": "stdout",
     "output_type": "stream",
     "text": [
      "beta factor = 43.83\n",
      "Bmag = 21.92\n",
      "init eps_nx =  3.0026053450567585e-06\n",
      "init eps_ny =  2.9995423655595026e-06\n"
     ]
    }
   ],
   "source": [
    "# Standard python code\n",
    "import matplotlib.pyplot as plt\n",
    "import numpy as np\n",
    "from scipy.constants import c\n",
    "from scipy.special import fresnel\n",
    "import sys\n",
    "sys.path.insert(0,\"../\")\n",
    "# huntstone imports\n",
    "\n",
    "from plotting import makefig\n",
    "import prop_plasma as pp\n",
    "from read_data import read_data\n",
    "import spectral_intensity as si\n",
    "from v_x_interp import velocity_interp, position_interp\n",
    "\n",
    "# Plotting style\n",
    "plt.style.use('huntstone')\n",
    "# Set parameters for reading WARGSim dumps\n",
    "path   = \"/media/keenan/Data_Storage/WARGSim/500dumps/\"\n",
    "N      = int(1e6)\n",
    "nDumps = 699\n",
    "\n",
    "beam_params = {\n",
    "    'N'       : int(1e6),\n",
    "    'beamE'   : 10e9, \n",
    "    'eps_n0'  : 3.0e-6,\n",
    "    'beta0'   : [0.25, 0.25], \n",
    "    'alpha0'  : [0.00, 0.00],\n",
    "    'rms_z'  : 0.00,\n",
    "    'rms_gb0' : 0.01,\n",
    "    'path'    : '/media/keenan/Data_Storage/WARGSim/',\n",
    "    'B_mag'   : 5.00\n",
    "}\n",
    "plasma_params = {\n",
    "    'n0'    : 0.34,\n",
    "    'L_ft'  : 0.4,\n",
    "    'hw_up' : 0.0,\n",
    "    'shape' : 'Gauss'\n",
    "}\n",
    "my_ebeam = pp.init_beam(beam_params, plasma_params['n0'])\n",
    "pwfa0    = pp.init_plasma(beam_params, plasma_params)\n",
    "dumpPeriod = int(len(pwfa0.dz) / nDumps)"
   ]
  },
  {
   "cell_type": "code",
   "execution_count": 2,
   "metadata": {},
   "outputs": [],
   "source": [
    "# Get positions and times\n",
    "x = np.load(\"x_noGain.npy\")\n",
    "y = np.load(\"y_noGain.npy\")\n",
    "gb = np.load(\"gb_noGain.npy\")\n",
    "z = np.linspace(0, pwfa0.L, nDumps)\n",
    "t = z / c\n",
    "# Calculate proper time\n",
    "dtau = np.diff(t)[0]/gb\n",
    "tau  = np.zeros(nDumps)\n",
    "for i in range(1, nDumps):\n",
    "    tau[i] = tau[i-1] + dtau[i-1]\n",
    "vx  = np.diff(x) / np.diff(tau)\n",
    "vx  = np.append(vx, vx[-1])\n",
    "vy  = np.diff(y) / np.diff(tau)\n",
    "vy  = np.append(vy, vy[-1])\n",
    "vz  = np.diff(z) / np.diff(tau)\n",
    "vz  = np.append(vz, vz[-1])\n",
    "vct = c * gb \n",
    "x4  = (c*t, x, y, z)\n",
    "v4  = (vct, vx, vy, vz)\n",
    "v   = (vx, vy, vz)\n",
    "tau_int = np.linspace(tau[0], tau[-1], 1000)"
   ]
  },
  {
   "cell_type": "code",
   "execution_count": 4,
   "metadata": {
    "scrolled": false
   },
   "outputs": [
    {
     "data": {
      "text/plain": [
       "2.7189800194635703e-22"
      ]
     },
     "execution_count": 4,
     "metadata": {},
     "output_type": "execute_result"
    }
   ],
   "source": [
    "s = [1/2, 1/2, 1/np.sqrt(2)]\n",
    "w = 1e12\n",
    "si.get_intensity(s, w, x4, v4, tau, tau_int, dtau)"
   ]
  },
  {
   "cell_type": "code",
   "execution_count": null,
   "metadata": {},
   "outputs": [],
   "source": []
  }
 ],
 "metadata": {
  "kernelspec": {
   "display_name": "CU-PWFA",
   "language": "python",
   "name": "cu-pwfa"
  },
  "language_info": {
   "codemirror_mode": {
    "name": "ipython",
    "version": 3
   },
   "file_extension": ".py",
   "mimetype": "text/x-python",
   "name": "python",
   "nbconvert_exporter": "python",
   "pygments_lexer": "ipython3",
   "version": "3.7.3"
  }
 },
 "nbformat": 4,
 "nbformat_minor": 2
}

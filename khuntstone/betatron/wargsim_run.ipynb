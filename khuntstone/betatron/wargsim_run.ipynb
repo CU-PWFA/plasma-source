{
 "cells": [
  {
   "cell_type": "code",
   "execution_count": 21,
   "metadata": {},
   "outputs": [],
   "source": [
    "# standard python code\n",
    "import numpy as np\n",
    "import sys\n",
    "import scipy.constants as const\n",
    "import psutil\n",
    "me = const.physical_constants['electron mass energy equivalent in MeV'][0]\n",
    "c  = const.c\n",
    "me = me * 1e6\n",
    "# Add WARGSim directory to path\n",
    "sys.path.insert(0, \"/home/keenan/WARGSim/\")\n",
    "from beams import electronbeam\n",
    "from beams import betatronbeam\n",
    "import calc.electron as ecalc\n",
    "from elements import pwfa as pwfa\n",
    "from interactions import interactions\n",
    "\n",
    "import prop_plasma as pp\n",
    "import read_data as rd"
   ]
  },
  {
   "cell_type": "code",
   "execution_count": 2,
   "metadata": {},
   "outputs": [],
   "source": [
    "# define electron beam\n",
    "Nb     = int(1e5)\n",
    "me     = const.physical_constants['electron mass energy equivalent in MeV'][0]*(1e6)\n",
    "beamE  = 10e9 # beam energy in eV\n",
    "eps_n0 = 3.0e-6 #m-rad, normalized emittance\n",
    "beta_x0 = 0.10 #m, x beta function at z=0\n",
    "beta_y0 = 0.10 #m, y beta function at z=0\n",
    "alpha_x0 = 0.0 # x alpha function at z=0\n",
    "alpha_y0 = 0.0 # y alpha function at z=0\n",
    "rms_z0 = 0.00 # m, rms bunch length\n",
    "rms_gb0 = 0.01 # relative energy spread\n",
    "\n",
    "n0 = 0.34\n",
    "\n",
    "beam_params = {\n",
    "    \"N\" : Nb,\n",
    "    \"beamE\" : beamE,\n",
    "    \"eps_n0\" : eps_n0,\n",
    "    \"beta0\"  : [beta_x0, beta_y0],\n",
    "    \"alpha0\" : [alpha_x0, alpha_y0],\n",
    "    \"rms_z0\" : rms_z0,\n",
    "    \"rms_gb0\" : rms_gb0,\n",
    "    \"path\"    : \"/home/keenan/Documents/data/Wargsim/dumps\",\n",
    "    \"B_mag\"   : 1\n",
    "}\n",
    "path = \"/home/keenan/Documents/data/Wargsim/dumps/\"\n",
    "hw_dn = 0.15\n",
    "plasma_params = {\n",
    "    \"n0\"    : n0,\n",
    "    \"L_ft\"  : 0.4,\n",
    "    \"hw_up\" : 0.0,\n",
    "    \"L_up\"  : 0,\n",
    "    \"shape\" : \"Gauss\",\n",
    "    \"hw_dn\" : 0.15,\n",
    "    \"L_dn\"  : min(1.600,8*hw_dn)\n",
    "}"
   ]
  },
  {
   "cell_type": "code",
   "execution_count": 3,
   "metadata": {},
   "outputs": [
    {
     "name": "stdout",
     "output_type": "stream",
     "text": [
      "beta factor = 17.53\n",
      "Bmag = 8.79\n",
      "init eps_nx =  2.9986842813334665e-06\n",
      "init eps_ny =  2.991999256772102e-06\n"
     ]
    }
   ],
   "source": [
    "pp.propagate(beam_params, plasma_params, dumpPeriod =int(10), name = \"test_run\")"
   ]
  },
  {
   "cell_type": "code",
   "execution_count": 17,
   "metadata": {},
   "outputs": [
    {
     "data": {
      "text/plain": [
       "2802"
      ]
     },
     "execution_count": 17,
     "metadata": {},
     "output_type": "execute_result"
    }
   ],
   "source": [
    "pwfa0   = pp.init_plasma(beam_params, plasma_params)\n",
    "len(pwfa0.dz)"
   ]
  },
  {
   "cell_type": "code",
   "execution_count": 22,
   "metadata": {},
   "outputs": [
    {
     "data": {
      "text/plain": [
       "1.9047200296825244e-12"
      ]
     },
     "execution_count": 22,
     "metadata": {},
     "output_type": "execute_result"
    }
   ],
   "source": [
    "pwfa0.dz[0] / c"
   ]
  },
  {
   "cell_type": "code",
   "execution_count": 3,
   "metadata": {},
   "outputs": [],
   "source": [
    "x, xp, y, yp, z, gb = rd.read_data(path + \"test_run\", 281, Nb)"
   ]
  },
  {
   "cell_type": "code",
   "execution_count": 12,
   "metadata": {},
   "outputs": [
    {
     "data": {
      "image/png": "[encoded data removed]",
      "text/plain": [
       "<Figure size 432x288 with 1 Axes>"
      ]
     },
     "metadata": {
      "needs_background": "light"
     },
     "output_type": "display_data"
    }
   ],
   "source": [
    "import matplotlib.pyplot as plt\n",
    "plt.plot(z[:, 0])\n",
    "plt.show()"
   ]
  },
  {
   "cell_type": "code",
   "execution_count": 6,
   "metadata": {},
   "outputs": [
    {
     "data": {
      "text/plain": [
       "(281, 100000)"
      ]
     },
     "execution_count": 6,
     "metadata": {},
     "output_type": "execute_result"
    }
   ],
   "source": [
    "np.shape(x)"
   ]
  },
  {
   "cell_type": "code",
   "execution_count": 9,
   "metadata": {},
   "outputs": [
    {
     "data": {
      "text/plain": [
       "array([ 1.61179213e-07,  4.19247801e-07,  2.90455864e-07, -1.02460109e-07,\n",
       "       -4.00044773e-07, -3.35919622e-07,  2.78273047e-08,  3.64595290e-07,\n",
       "        3.78081524e-07,  6.07075825e-08, -3.07449792e-07, -4.07975908e-07,\n",
       "       -1.58114470e-07,  2.24880524e-07,  4.15301316e-07,  2.55525003e-07,\n",
       "       -1.16657447e-07, -3.89844383e-07, -3.40079305e-07, -1.20837639e-08,\n",
       "        3.23824577e-07,  3.95911963e-07,  1.49430146e-07, -2.14964699e-07,\n",
       "       -4.06667784e-07, -2.76517516e-07,  6.96657692e-08,  3.59617303e-07,\n",
       "        3.69436557e-07,  9.48081521e-08, -2.50845141e-07, -4.03783788e-07,\n",
       "       -2.50553297e-07,  9.01907753e-08,  3.61680995e-07,  3.62970447e-07,\n",
       "        9.61154442e-08, -2.39909707e-07, -3.98940275e-07, -2.67432061e-07,\n",
       "        5.64898249e-08,  3.38154444e-07,  3.76901459e-07,  1.47823095e-07,\n",
       "       -1.84459071e-07, -3.85494496e-07, -3.16255555e-07, -2.76785769e-08,\n",
       "        2.78562739e-07,  3.91833827e-07,  2.36705376e-07, -7.85876032e-08,\n",
       "       -3.39167154e-07, -3.70282052e-07, -1.53434522e-07,  1.64504534e-07,\n",
       "        3.71941993e-07,  3.33297610e-07,  7.63497094e-08, -2.29161057e-07,\n",
       "       -3.84511975e-07, -2.90875278e-07, -1.08283036e-08,  2.74821343e-07,\n",
       "        3.84345989e-07,  2.50124221e-07, -4.09879808e-08, -3.05068856e-07,\n",
       "       -3.77691477e-07, -2.15592440e-07,  7.89147217e-08,  3.23592507e-07,\n",
       "        3.69457428e-07,  1.91007274e-07, -1.01577874e-07, -3.32754114e-07,\n",
       "       -3.67912832e-07, -1.90221261e-07,  9.51856077e-08,  3.26754356e-07,\n",
       "        3.79008937e-07,  2.28255307e-07, -4.15896674e-08, -2.89883386e-07,\n",
       "       -3.94179750e-07, -3.08567867e-07, -7.89459511e-08,  1.86262153e-07,\n",
       "        3.70143476e-07,  3.98274989e-07,  2.65102542e-07,  2.87141978e-08,\n",
       "       -2.18537698e-07, -3.87930466e-07, -4.25101631e-07, -3.23969707e-07,\n",
       "       -1.22357411e-07,  1.15533453e-07,  3.21516217e-07,  4.42870254e-07,\n",
       "        4.53882449e-07,  3.58093246e-07,  1.82824421e-07, -3.07905342e-08,\n",
       "       -2.38782937e-07, -4.03572251e-07, -4.99875767e-07, -5.16942143e-07,\n",
       "       -4.57643376e-07, -3.35444684e-07, -1.70377945e-07,  1.50164729e-08,\n",
       "        1.99111199e-07,  3.63629713e-07,  4.95026683e-07,  5.84927316e-07,\n",
       "        6.29846028e-07,  6.30436146e-07,  5.90503638e-07,  5.15971259e-07,\n",
       "        4.13923177e-07,  2.91806447e-07,  1.56821525e-07,  1.55019273e-08,\n",
       "       -1.26537151e-07, -2.64711935e-07, -3.95478701e-07, -5.16270050e-07,\n",
       "       -6.25386532e-07, -7.21865697e-07, -8.05345003e-07, -8.75929881e-07,\n",
       "       -9.34073972e-07, -9.80475275e-07, -1.01598951e-06, -1.04156038e-06,\n",
       "       -1.05816535e-06, -1.06677509e-06, -1.06832451e-06, -1.06369316e-06,\n",
       "       -1.05369323e-06, -1.03906329e-06, -1.02046639e-06, -9.98491244e-07,\n",
       "       -9.73655552e-07, -9.46410747e-07, -9.17147469e-07, -8.86201431e-07,\n",
       "       -8.53859310e-07, -8.20364466e-07, -7.85922341e-07, -7.50705453e-07,\n",
       "       -7.14857933e-07, -6.78499607e-07, -6.41729605e-07, -6.04629550e-07,\n",
       "       -5.67266320e-07, -5.29694449e-07, -4.91958184e-07, -4.54093246e-07,\n",
       "       -4.16128315e-07, -3.78086296e-07, -3.39985372e-07, -3.01839889e-07,\n",
       "       -2.63661089e-07, -2.25457718e-07, -1.87236524e-07, -1.49002669e-07,\n",
       "       -1.10760057e-07, -7.25116103e-08, -3.42594834e-08,  3.99476224e-09,\n",
       "        4.22500183e-08,  8.05055202e-08,  1.18760761e-07,  1.57015422e-07,\n",
       "        1.95269324e-07,  2.33522384e-07,  2.71774588e-07,  3.10025964e-07,\n",
       "        3.48276570e-07,  3.86526478e-07,  4.24775769e-07,  4.63024522e-07,\n",
       "        5.01272817e-07,  5.39520724e-07,  5.77768309e-07,  6.16015632e-07,\n",
       "        6.54262741e-07,  6.92509682e-07,  7.30756491e-07,  7.69003199e-07,\n",
       "        8.07249831e-07,  8.45496408e-07,  8.83742947e-07,  9.21989461e-07,\n",
       "        9.60235960e-07,  9.98482452e-07,  1.03672894e-06,  1.07497544e-06,\n",
       "        1.11322194e-06,  1.15146845e-06,  1.18971497e-06,  1.22796150e-06,\n",
       "        1.26620804e-06,  1.30445460e-06,  1.34270116e-06,  1.38094773e-06,\n",
       "        1.41919431e-06,  1.45744090e-06,  1.49568750e-06,  1.53393411e-06,\n",
       "        1.57218072e-06,  1.61042734e-06,  1.64867396e-06,  1.68692059e-06,\n",
       "        1.72516722e-06,  1.76341385e-06,  1.80166049e-06,  1.83990713e-06,\n",
       "        1.87815377e-06,  1.91640042e-06,  1.95464707e-06,  1.99289371e-06,\n",
       "        2.03114036e-06,  2.06938701e-06,  2.10763367e-06,  2.14588032e-06,\n",
       "        2.18412697e-06,  2.22237363e-06,  2.26062028e-06,  2.29886694e-06,\n",
       "        2.33711359e-06,  2.37536025e-06,  2.41360691e-06,  2.45185356e-06,\n",
       "        2.49010022e-06,  2.52834688e-06,  2.56659353e-06,  2.60484019e-06,\n",
       "        2.64308685e-06,  2.68133351e-06,  2.71958016e-06,  2.75782682e-06,\n",
       "        2.79607348e-06,  2.83432014e-06,  2.87256679e-06,  2.91081345e-06,\n",
       "        2.94906011e-06,  2.98730677e-06,  3.02555343e-06,  3.06380008e-06,\n",
       "        3.10204674e-06,  3.14029340e-06,  3.17854006e-06,  3.21678671e-06,\n",
       "        3.25503337e-06,  3.29328003e-06,  3.33152669e-06,  3.36977335e-06,\n",
       "        3.40802000e-06,  3.44626666e-06,  3.48451332e-06,  3.52275998e-06,\n",
       "        3.56100664e-06,  3.59925329e-06,  3.63749995e-06,  3.67574661e-06,\n",
       "        3.71399327e-06,  3.75223993e-06,  3.79048658e-06,  3.82873324e-06,\n",
       "        3.86697990e-06,  3.90522656e-06,  3.94347322e-06,  3.98171987e-06,\n",
       "        4.01996653e-06,  4.05821319e-06,  4.09645985e-06,  4.13470650e-06,\n",
       "        4.17295316e-06])"
      ]
     },
     "execution_count": 9,
     "metadata": {},
     "output_type": "execute_result"
    }
   ],
   "source": [
    "x[:, 0]"
   ]
  },
  {
   "cell_type": "code",
   "execution_count": null,
   "metadata": {},
   "outputs": [],
   "source": []
  }
 ],
 "metadata": {
  "kernelspec": {
   "display_name": "CU-PWFA",
   "language": "python",
   "name": "cu-pwfa"
  },
  "language_info": {
   "codemirror_mode": {
    "name": "ipython",
    "version": 3
   },
   "file_extension": ".py",
   "mimetype": "text/x-python",
   "name": "python",
   "nbconvert_exporter": "python",
   "pygments_lexer": "ipython3",
   "version": "3.8.5"
  }
 },
 "nbformat": 4,
 "nbformat_minor": 4
}

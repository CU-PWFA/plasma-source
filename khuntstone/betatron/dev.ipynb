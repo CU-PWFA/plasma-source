{
 "cells": [
  {
   "cell_type": "code",
   "execution_count": 1,
   "metadata": {},
   "outputs": [],
   "source": [
    "import matplotlib.pyplot as plt\n",
    "import numpy as np\n",
    "from scipy.constants import c, e, epsilon_0, m_e\n",
    "plt.style.use('huntstone')\n",
    "import prop_plasma as pp;\n",
    "import v_x_interp as vx;"
   ]
  },
  {
   "cell_type": "code",
   "execution_count": 3,
   "metadata": {},
   "outputs": [
    {
     "name": "stdout",
     "output_type": "stream",
     "text": [
      "beta factor = 43.83\n",
      "Bmag = 21.92\n",
      "init eps_nx =  2.9993413598927024e-06\n",
      "init eps_ny =  3.0036524179275437e-06\n"
     ]
    }
   ],
   "source": [
    "beam_params = {\n",
    "    'N'       : int(1e6),\n",
    "    'beamE'   : 10e9, \n",
    "    'eps_n0'  : 3.0e-6,\n",
    "    'beta0'   : [0.25, 0.25], \n",
    "    'alpha0'  : [0.00, 0.00],\n",
    "    'rms_z'  : 0.00,\n",
    "    'rms_gb0' : 0.01,\n",
    "    'path'    : '/media/keenan/Data_Storage/WARGSim/',\n",
    "    'B_mag'   : 5.00\n",
    "}\n",
    "plasma_params = {\n",
    "    'n0'    : 0.34,\n",
    "    'L_ft'  : 0.4,\n",
    "    'hw_up' : 0.0,\n",
    "    'shape' : 'Gauss'\n",
    "}\n",
    "my_ebeam = pp.init_beam(beam_params, plasma_params['n0'])\n",
    "pwfa0    = pp.init_plasma(beam_params, plasma_params)"
   ]
  },
  {
   "cell_type": "code",
   "execution_count": 5,
   "metadata": {},
   "outputs": [
    {
     "name": "stdout",
     "output_type": "stream",
     "text": [
      "699\n"
     ]
    }
   ],
   "source": [
    "name  = \"Gain/\"\n",
    "nGoal = 500\n",
    "dumpPeriod = int(len(pwfa0.dz) / nGoal)\n",
    "nDumps = int(len(pwfa0.dz) / dumpPeriod)\n",
    "print(nDumps)"
   ]
  },
  {
   "cell_type": "code",
   "execution_count": 4,
   "metadata": {},
   "outputs": [
    {
     "name": "stdout",
     "output_type": "stream",
     "text": [
      "beta factor = 43.83\n",
      "Bmag = 21.92\n",
      "init eps_nx =  2.9982435361267406e-06\n",
      "init eps_ny =  2.9993965019917192e-06\n"
     ]
    }
   ],
   "source": [
    "pp.propagate(beam_params, plasma_params, dumpPeriod, name)"
   ]
  },
  {
   "cell_type": "code",
   "execution_count": 7,
   "metadata": {},
   "outputs": [
    {
     "name": "stdout",
     "output_type": "stream",
     "text": [
      "100\n",
      "200\n",
      "300\n",
      "400\n",
      "500\n",
      "600\n"
     ]
    }
   ],
   "source": [
    "path   = \"/media/keenan/Data_Storage/WARGSim/\" + \"noGain/\"\n",
    "nParts = int(1e6)\n",
    "dz     = pwfa0.dz[0]\n",
    "z      = np.linspace(0, pwfa0.L, nDumps)\n",
    "x      = np.zeros((nDumps))\n",
    "y      = np.zeros((nDumps))\n",
    "#xp     = np.zeros((nDumps))\n",
    "#yp     = np.zeros((nDumps))\n",
    "gb     = np.zeros((nDumps))\n",
    "t      = z / c;\n",
    "t[0]   = 0;\n",
    "for i in range(nDumps):\n",
    "    if i%100 == 0 and i >=100:\n",
    "        print(i)\n",
    "    ptcls   = np.load(path + \"_ptcls_\" + str(i) + \".npy\")\n",
    "    x[i]  = ptcls[0,0]\n",
    "    #xp[i] = ptcls[0, 1]\n",
    "    y[i]  = ptcls[0, 2]\n",
    "    #yp[i] = ptcls[0, 3]\n",
    "    gb[i] = ptcls[0, 5] \n",
    "np.save(\"x_noGain.npy\", x)\n",
    "np.save(\"y_noGain.npy\", y)\n",
    "np.save(\"gb_noGain.npy\", gb)"
   ]
  },
  {
   "cell_type": "code",
   "execution_count": null,
   "metadata": {},
   "outputs": [],
   "source": []
  }
 ],
 "metadata": {
  "kernelspec": {
   "display_name": "Python 3",
   "language": "python",
   "name": "python3"
  },
  "language_info": {
   "codemirror_mode": {
    "name": "ipython",
    "version": 3
   },
   "file_extension": ".py",
   "mimetype": "text/x-python",
   "name": "python",
   "nbconvert_exporter": "python",
   "pygments_lexer": "ipython3",
   "version": "3.7.3"
  }
 },
 "nbformat": 4,
 "nbformat_minor": 2
}

{
 "cells": [
  {
   "cell_type": "code",
   "execution_count": 1,
   "metadata": {},
   "outputs": [],
   "source": [
    "import numpy as np\n",
    "import matplotlib.pyplot as plt\n",
    "plt.style.use('huntstone')\n",
    "import scipy.constants as const\n",
    "from scipy.optimize import curve_fit\n",
    "from scipy.interpolate import UnivariateSpline as spl, interp1d\n",
    "import sys\n",
    "sys.path.insert(0, \"/home/keenan/WARGSim\")\n",
    "from beams import electronbeam\n",
    "path = (\"/media/keenan/Data_Storage/WARGSim/Dump\")\n",
    "import v_x_interp as interp\n",
    "import spectral_intensity as si\n",
    "def makefig():\n",
    "    fig = plt.figure(figsize = (4, 3), dpi = 200)\n",
    "    ax  = fig.gca()\n",
    "    return fig, ax"
   ]
  },
  {
   "cell_type": "code",
   "execution_count": 2,
   "metadata": {},
   "outputs": [
    {
     "name": "stdout",
     "output_type": "stream",
     "text": [
      "beta factor = 43.83\n",
      "Bmag = 21.92\n"
     ]
    }
   ],
   "source": [
    "N       = int(1e6) # number of particles in the beam\n",
    "# eV, electron rest mass energy:\n",
    "me = const.physical_constants['electron mass energy equivalent in MeV'][0]*(1e6)\n",
    "beamE   = 10e9 # beam energy in eV\n",
    "gb0     = beamE/me # reltivistic Lorentz factor (centroid value)\n",
    "eps_n0   = 3.0e-6 # m-rad, normalized emittance\n",
    "beta_x0  = 0.25   # m, x beta function at z=0\n",
    "beta_y0  = 0.25   # m, y beta function at z=0\n",
    "alpha_x0 = 0.00   # x alpha function at z=0\n",
    "alpha_y0 = 0.00   # y alpha function at z=0\n",
    "#gamma_x0 = (1+alpha_x0**2)/beta_x0 # 1/m, x gamma function at z=0\n",
    "#gamma_y0 = (1+alpha_y0**2)/beta_y0 # 1/m, y gamma function at z=0\n",
    "rms_z0  = 0.00   # m, rms bunch length\n",
    "rms_gb0 = 0.01 # relative energy spread\n",
    "\n",
    "def match_beta(np0,gb0):\n",
    "    np0 = np0*(1e17)\n",
    "    kbeta = (1.33e-4)*np.sqrt(np0/gb0)\n",
    "    beta = 1.0/kbeta\n",
    "    return beta\n",
    "\n",
    "def calc_Bmag(beta,beta_m):\n",
    "    return (1/2)*(beta/beta_m + beta_m/beta)\n",
    "\n",
    "def calc_beta_fact(Bmag):\n",
    "    return (Bmag+np.sqrt((Bmag**2) - 1))\n",
    "\n",
    "# force matched Twiss params:\n",
    "Bmag_target = 5.00\n",
    "n0 = 0.34 # make sure this agrees with value used to define plasma!!\n",
    "beta_m = match_beta(n0,gb0)\n",
    "beta_x00 = calc_beta_fact(Bmag_target)*beta_m\n",
    "beta_y00 = calc_beta_fact(Bmag_target)*beta_m\n",
    "Bmag = calc_Bmag(beta_x0,beta_m)\n",
    "print(f'beta factor = {beta_x0/beta_m :.2f}')\n",
    "print(f'Bmag = {Bmag :.2f}')\n",
    "electronParams = {\n",
    "        'name'      : 'ElectronBeam',\n",
    "        'path'      : path,\n",
    "        'load'      : False,\n",
    "        'N'         : N,\n",
    "        'shape'     : 'Gauss',\n",
    "        'gb0'       : gb0,\n",
    "        'rms_gb'    : rms_gb0,\n",
    "        'rms_z'     : rms_z0,\n",
    "        'eps_nx'    : eps_n0,\n",
    "        'eps_ny'    : eps_n0,\n",
    "        'beta_x'    : beta_x00,\n",
    "        'beta_y'    : beta_y00,\n",
    "        'alpha_x'   : alpha_x0,\n",
    "        'alpha_y'   : alpha_y0,\n",
    "        'seed'      : 3680995680\n",
    "    }\n",
    "my_ebeam = electronbeam.ElectronBeam(electronParams)"
   ]
  },
  {
   "cell_type": "code",
   "execution_count": 3,
   "metadata": {},
   "outputs": [],
   "source": [
    "# Pull initial transverse positions\n",
    "x_init = my_ebeam.ptcls[:,0]\n",
    "y_init = my_ebeam.ptcls[:, 2]"
   ]
  },
  {
   "cell_type": "code",
   "execution_count": 4,
   "metadata": {},
   "outputs": [],
   "source": [
    "np.save('x_init', x_init)\n",
    "np.save('y_init', y_init)"
   ]
  },
  {
   "cell_type": "code",
   "execution_count": 6,
   "metadata": {},
   "outputs": [
    {
     "data": {
      "text/plain": [
       "-3.808017343277556e-06"
      ]
     },
     "execution_count": 6,
     "metadata": {},
     "output_type": "execute_result"
    }
   ],
   "source": [
    "x_init[0]"
   ]
  },
  {
   "cell_type": "code",
   "execution_count": 4,
   "metadata": {},
   "outputs": [],
   "source": [
    "# Compute plasma parameters and transverse oscillation frequency\n",
    "ni    = 0.34e17 # plasma density (per cc)\n",
    "ni_m = ni * 1e6 # plasma density in m^-3 \n",
    "e     = const.e # Electron charge C\n",
    "m_e    = const.m_e # Electron mass kg\n",
    "eps0  = const.epsilon_0\n",
    "wpe   = np.sqrt(ni_m * e**2 / (eps0 * m_e))\n",
    "ws    = wpe / np.sqrt(gb0)"
   ]
  },
  {
   "cell_type": "code",
   "execution_count": 5,
   "metadata": {},
   "outputs": [],
   "source": [
    "# Compute time, spatial, and velocity arrays\n",
    "L_plasma = 0.4 # m\n",
    "t_prop   = L_plasma / const.c\n",
    "N        = 100\n",
    "t_arr    = np.linspace(0, t_prop, N)\n",
    "\n",
    "x0_arr   = np.zeros((len(t_arr))) + const.c * t_arr\n",
    "x1_arr    = np.zeros((len(x_init), len(t_arr)))\n",
    "x2_arr    = np.zeros((len(y_init), len(t_arr)))\n",
    "x3_arr    = np.zeros(len(t_arr)) + const.c * t_arr;\n",
    "\n",
    "v0_arr = np.zeros(len(t_arr)) + gb0 * const.c\n",
    "v1_arr   = np.zeros((len(x_init), len(t_arr)))\n",
    "v2_arr   = np.zeros((len(y_init), len(t_arr)))\n",
    "v3_arr   = np.zeros((len(t_arr))) + const.c\n",
    "for i in range(len(t_arr)):\n",
    "    x1_arr[:, i] = x_init * np.cos(ws * t_arr[i])\n",
    "    x2_arr[:, i] = x_init * np.cos(ws * t_arr[i])\n",
    "    \n",
    "    v1_arr[:, i] = -x_init * ws * np.sin(ws * t_arr[i])\n",
    "    v2_arr[:, i] = -y_init * ws * np.sin(ws * t_arr[i])"
   ]
  },
  {
   "cell_type": "code",
   "execution_count": 6,
   "metadata": {},
   "outputs": [],
   "source": [
    "tau_arr = t_arr / gb0 # proper time array\n",
    "tau_int = np.linspace(tau_arr[0], tau_arr[-1], 1000) # interpolation array\n",
    "# Get 4-velocity components gamma * (c, v)\n",
    "\n",
    "v1_arr = gb0 * v1_arr\n",
    "v2_arr = gb0 * v2_arr\n",
    "v3_arr = gb0 * v3_arr\n"
   ]
  },
  {
   "cell_type": "code",
   "execution_count": 7,
   "metadata": {},
   "outputs": [],
   "source": [
    "j = 0;\n"
   ]
  },
  {
   "cell_type": "code",
   "execution_count": 15,
   "metadata": {},
   "outputs": [
    {
     "data": {
      "text/plain": [
       "array([0., 0.])"
      ]
     },
     "execution_count": 15,
     "metadata": {},
     "output_type": "execute_result"
    }
   ],
   "source": [
    "v1n[0]"
   ]
  },
  {
   "cell_type": "code",
   "execution_count": 13,
   "metadata": {
    "scrolled": false
   },
   "outputs": [],
   "source": [
    "# Plot all velocity\n",
    "if False:\n",
    "    fig = plt.figure(figsize = (8, 24), dpi = 200)\n",
    "    ax1 = fig.add_subplot(411)\n",
    "    ax2 = fig.add_subplot(412)\n",
    "    ax3 = fig.add_subplot(413)\n",
    "    ax4 = fig.add_subplot(414)\n",
    "    ax1.plot(tau_arr * 1e15, v_arr[0] / const.c, label = r'$v^0 /c$')\n",
    "    ax1.plot(tau_int * 1e15, v_int[0] / const.c, '--', label = 'Interpolation')\n",
    "    ax2.plot(tau_arr * 1e15, v_arr[1] / const.c, label = r'$v^1 / c$')\n",
    "    ax2.plot(tau_int * 1e15, v_int[1] / const.c, '--', label = 'Interpolation')\n",
    "    ax3.plot(tau_arr * 1e15, v_arr[2] / const.c, label = r'$v^2 / c$')\n",
    "    ax3.plot(tau_int * 1e15, v_int[2] / const.c, '--', label = 'Interpolation')\n",
    "    ax4.plot(tau_arr * 1e15, v_arr[3] / const.c, label = r'$v^3$')\n",
    "    ax4.plot(tau_int * 1e15, v_int[3] / const.c, '--', label = 'Interpolation')\n",
    "\n",
    "\n",
    "    ax1.set_xticks([])\n",
    "    ax2.set_xticks([])\n",
    "    ax3.set_xticks([])\n",
    "    ax4.set_xlabel(r'$\\tau$ [fs]')\n",
    "    ax1.legend(loc = 'upper right')\n",
    "    ax2.legend(loc = 'upper right')\n",
    "    ax3.legend(loc = 'upper right')\n",
    "    ax4.legend(loc = 'upper right')\n",
    "    plt.subplots_adjust(hspace = 0)\n",
    "    plt.show()"
   ]
  },
  {
   "cell_type": "code",
   "execution_count": 14,
   "metadata": {
    "scrolled": false
   },
   "outputs": [],
   "source": [
    "# Plot all  positions\n",
    "if False:\n",
    "    fig = plt.figure(figsize = (8, 24), dpi = 200)\n",
    "    ax1 = fig.add_subplot(411)\n",
    "    ax2 = fig.add_subplot(412)\n",
    "    ax3 = fig.add_subplot(413)\n",
    "    ax4 = fig.add_subplot(414)\n",
    "    \n",
    "    ax1.plot(tau_arr * 1e15, x_arr[0], label = r'$x^0$')\n",
    "    ax1.plot(tau_int * 1e15, x_int[0], '--', label = 'Interpolation')\n",
    "    \n",
    "    ax2.plot(tau_arr * 1e15, x_arr[1], label = r'$x^1$')\n",
    "    ax2.plot(tau_int * 1e15, x_int[1], '--', label = 'Interpolation')\n",
    "        \n",
    "    ax3.plot(tau_arr * 1e15, x_arr[2], label = r'$x^2$')\n",
    "    ax3.plot(tau_int * 1e15, x_int[2], '--', label = 'Interpolation')\n",
    "    \n",
    "    ax4.plot(tau_arr * 1e15, x_arr[3], label = r'$x^3$')\n",
    "    ax4.plot(tau_int * 1e15, x_int[3], '--', label = 'Interpolation')\n",
    "\n",
    "    ax1.set_xticks([])\n",
    "    ax2.set_xticks([])\n",
    "    ax3.set_xticks([])\n",
    "    ax4.set_xlabel(r'$\\tau$ [fs]')\n",
    "    ax1.legend(loc = 'upper left')\n",
    "    ax2.legend(loc = 'upper left')\n",
    "    ax3.legend(loc = 'upper left')\n",
    "    ax4.legend(loc = 'upper left')\n",
    "    plt.subplots_adjust(hspace = 0)\n",
    "    plt.show()"
   ]
  },
  {
   "cell_type": "code",
   "execution_count": null,
   "metadata": {},
   "outputs": [],
   "source": []
  }
 ],
 "metadata": {
  "kernelspec": {
   "display_name": "CU-PWFA2",
   "language": "python",
   "name": "cu-pwfa2"
  },
  "language_info": {
   "codemirror_mode": {
    "name": "ipython",
    "version": 3
   },
   "file_extension": ".py",
   "mimetype": "text/x-python",
   "name": "python",
   "nbconvert_exporter": "python",
   "pygments_lexer": "ipython3",
   "version": "3.7.3"
  }
 },
 "nbformat": 4,
 "nbformat_minor": 2
}

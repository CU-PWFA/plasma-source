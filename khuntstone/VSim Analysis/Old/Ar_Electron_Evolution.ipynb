{
 "cells": [
  {
   "cell_type": "code",
   "execution_count": 27,
   "metadata": {
    "collapsed": true
   },
   "outputs": [],
   "source": [
    "import numpy as np\n",
    "from scipy.stats import norm, chisquare\n",
    "from scipy.optimize import curve_fit\n",
    "import matplotlib.pyplot as plt\n",
    "import matplotlib.cm as cm\n",
    "import matplotlib.animation as animation\n",
    "import matplotlib.colors as colors\n",
    "import matplotlib.ticker as tkr\n",
    "import sys\n",
    "from importlib import reload as rel\n",
    "sys.path.insert(0, \"../../python/\")\n",
    "sys.path.insert(0, \"../\")\n",
    "from Constants import SI\n",
    "import vsim_analysis as va\n",
    "import vsim.load as load\n",
    "import vsim.analyze as analyze\n",
    "import h5py\n",
    "import matplotlib.mlab as mlab\n",
    "global kb, me\n",
    "kb = SI.boltzmann; # J/K\n",
    "me  = SI.elecMass; # kg\n",
    "plt.style.use('notes')\n",
    "#% matplotlib notebook"
   ]
  },
  {
   "cell_type": "markdown",
   "metadata": {
    "heading_collapsed": true
   },
   "source": [
    "# Plotting Code"
   ]
  },
  {
   "cell_type": "code",
   "execution_count": 31,
   "metadata": {
    "collapsed": true,
    "hidden": true
   },
   "outputs": [],
   "source": [
    "def alpha_colormap(cmap, cutoff, flip=True):\n",
    "    N = cmap.N\n",
    "    cmapt = cmap(np.arange(N))\n",
    "    alpha = np.ones(N)\n",
    "    if flip:\n",
    "        temp = alpha[:int(cutoff*N)]\n",
    "        M = len(temp)\n",
    "        alpha[:int(cutoff*N)] = np.linspace(0, 1, M)\n",
    "    else:\n",
    "        alpha[int((1-cutoff)*N):] = 0.0\n",
    "    cmapt[:, -1] = alpha\n",
    "    cmapt = colors.ListedColormap(cmapt)\n",
    "    return cmapt"
   ]
  },
  {
   "cell_type": "code",
   "execution_count": 32,
   "metadata": {
    "collapsed": true,
    "hidden": true
   },
   "outputs": [],
   "source": [
    "def plot_gas_evolution(gas, pulse, t, LX, LY, savePath, aniName,save = False):\n",
    "    '''\n",
    "    Plots the gas density and laser pulse throughout the simulation\n",
    "\n",
    "    Parameters:\n",
    "    -----------\n",
    "    gas : array_like\n",
    "        data of the gas to be plotted\n",
    "    pulse : array_like\n",
    "        data of the laser pulse to be plotted\n",
    "    t : array_like\n",
    "        time at each dump used in the plot in fs\n",
    "    LX : int\n",
    "        longitudinal length of the simulation (um)\n",
    "    LY : int \n",
    "        transverse length of the simulation (um)\n",
    "    savePath : string\n",
    "        path to save the animation to\n",
    "    aniName : string\n",
    "        name of the animation\n",
    "    save : boolean, optional\n",
    "        set True if you want to save the animation\n",
    "    '''\n",
    "    gas = np.squeeze(gas)\n",
    "    fig = plt.figure(figsize = (5,3.5), dpi = 150)\n",
    "    ax  = fig.gca()\n",
    "    ext = np.array([-LX/2, LX/2, -LY/2, LY/2])\n",
    "\n",
    "\n",
    "    # y-intensity (for pulse)\n",
    "    pulse = pulse[:,:,:,1]**2\n",
    "    pulse = pulse.transpose()\n",
    "    cmap_p = alpha_colormap(plt.cm.get_cmap('viridis'), .01 * np.amax(pulse))\n",
    "    im = plt.imshow(gas[0].transpose(), extent = ext, cmap = 'jet', \\\n",
    "                    aspect = 'auto', animated = True)\n",
    "    im2 = plt.imshow(pulse[:,:,0], extent = ext,\\\n",
    "                     aspect = 'auto', animated = True, alpha = .5, \\\n",
    "                     cmap = cmap_p, \\\n",
    "                     vmin = np.amin(pulse), vmax = np.amax(pulse))\n",
    "\n",
    "    plt.xlabel(r'x ($\\mu$m)')\n",
    "    plt.ylabel(r'y ($\\mu$m)')\n",
    "    cbar = plt.colorbar(mappable = im)\n",
    "    cbar.set_label(r'm$^{-3}$')\n",
    "    def updatefig(i, gas, pulse):\n",
    "        im.set_data(gas[i].transpose())\n",
    "        im2.set_data(pulse[:,:,i])\n",
    "        plt.title('t = %.2f' %t[i] + ' (fs) \\n Neutral gas density')\n",
    "    ani = animation.FuncAnimation(fig, updatefig, frames = len(gas), \\\n",
    "                    fargs = (gas, pulse), interval = 1000)\n",
    "    if save:\n",
    "        ani.save(savePath + aniName)"
   ]
  },
  {
   "cell_type": "code",
   "execution_count": 33,
   "metadata": {
    "collapsed": true,
    "hidden": true
   },
   "outputs": [],
   "source": [
    "def plot_pulse(pulse, t, LX, LY, savePath, aniName, save = False):\n",
    "    fig = plt.figure(figsize = (5,3.5), dpi = 150)\n",
    "    ax  = fig.gca()\n",
    "    ext = np.array([-LX/2, LX/2, -LY/2, LY/2])\n",
    "    pulse = pulse[:,:,:,1]#**2\n",
    "    pulse = pulse.transpose()\n",
    "    im = plt.imshow(pulse[:,:,0], extent = ext,\\\n",
    "                     aspect = 'auto', animated = True, \\\n",
    "                     vmin = np.amin(pulse), vmax = np.amax(pulse) )\n",
    "    plt.xlabel(r'x ($\\mu$m)')\n",
    "    plt.ylabel(r'y ($\\mu$m)')\n",
    "    #cbar = plt.colorbar(mappable = im)\n",
    "    #cbar.set_label(r'm$^{-3}$')\n",
    "    def updatefig(i, pulse = pulse):\n",
    "        im.set_array(pulse[:,:,i])\n",
    "        plt.title('t = %.2f' %t[i] + ' (fs) \\n Laser pulse')\t\n",
    "    ani = animation.FuncAnimation(fig, updatefig, frames = len(pulse[0,0,:]),\\\n",
    "                    interval = 1000)\n",
    "    if save:\n",
    "        ani.save(savePath + aniName)"
   ]
  },
  {
   "cell_type": "code",
   "execution_count": 34,
   "metadata": {
    "collapsed": true,
    "hidden": true
   },
   "outputs": [],
   "source": [
    "def make_color(weights):\n",
    "    # Make a color scale by particle weight\n",
    "    minima = min(weights)\n",
    "    maxima = max(weights)\n",
    "    norm = colors.Normalize(vmin = minima, vmax = maxima, clip = True)\n",
    "    mapper = cm.ScalarMappable(norm = norm, cmap = cm.jet)\n",
    "    return mapper.to_rgba(weights)\n",
    "def plot_phase_space(species, ts, t, i_start,savePath, aniName, save = False):\n",
    "    # Set dimensions for plot\n",
    "    fig = plt.figure(figsize = (5,3.5), dpi = 150)\n",
    "    ax  = fig.gca()\n",
    "    ax.set_xlabel(r'$\\gamma v_x$ (1e6 m/s)') \n",
    "    ax.set_ylabel(r'$\\gamma v_y$ (1e6 m/s)')\n",
    "    scatt = ax.scatter([], [], s = .25, marker = 'o')\n",
    "    ax.set_ylim([-8, 8])\n",
    "    ax.set_xlim([-8, 8])\n",
    "    xdata, ydata = [], []\n",
    "    def update(i, species = species):\n",
    "        #print(i)\n",
    "        if i >= i_start:\n",
    "            xdata = analyze.get_ux(species[i-i_start])\n",
    "            ydata = analyze.get_uy(species[i-i_start])\n",
    "            weights = analyze.get_weights(species[i-i_start])\n",
    "            scatt.set_color(make_color(weights))\n",
    "            scatt.set_offsets(np.c_[xdata*1e-6,ydata*1e-6])\n",
    "        ax.set_title(' t = %.2f' % t[i] + ' (fs) \\n' + ts)\n",
    "    ani = animation.FuncAnimation(fig, update, frames = len(t), \\\n",
    "                                 interval = 1000)\n",
    "    if save:\n",
    "        ani.save(savePath + aniName)\n",
    "     "
   ]
  },
  {
   "cell_type": "code",
   "execution_count": 35,
   "metadata": {
    "collapsed": true,
    "hidden": true
   },
   "outputs": [],
   "source": [
    "def plot_v_dist(species, ts, t, i_start, savePath, aniName, save = False):\n",
    "    fig = plt.figure(figsize = (5, 7), dpi = 150)\n",
    "    ax1  = fig.add_subplot(211)\n",
    "    ax2 = fig.add_subplot(212)\n",
    "    ax1.set_xlabel(r'$\\gamma v_x (1e6 m/s)$')\n",
    "    ax1.set_ylabel('Counts (A.U.)')\n",
    "    ax2.set_xlabel(r'$\\gamma v_y (1e6 m/s)$')\n",
    "    ax2.set_ylabel('Counts (A.U.)')\n",
    "    plt.subplots_adjust(hspace = 0.2)\n",
    "    def update(i, species = species):\n",
    "        if i >= i_start:\n",
    "            ax1.clear()\n",
    "            ax2.clear()\n",
    "            ux = analyze.get_ux(species[i-i_start])\n",
    "            uy = analyze.get_uy(species[i-i_start])\n",
    "            weights = analyze.get_weights(species[i-i_start])\n",
    "\n",
    "            \n",
    "            nx, binsx, px = ax1.hist(ux, 200, weights = weights)#, normed = True)\n",
    "            ny, binsy, py = ax2.hist(uy, 200, weights = weights)#, normed = True)\n",
    "            \n",
    "            xlocsx = ax1.get_xticks()\n",
    "            ax1.set_xticklabels(xlocsx/1e6)\n",
    "            \n",
    "            xlocsy = ax2.get_xticks()\n",
    "            ax2.set_xticklabels(xlocsy/1e6)\n",
    "            \n",
    "        ax1.set_title('t = %.2f' % t[i] + '(fs) \\n' + ts)\n",
    "        ax1.set_xlabel(r'$\\gamma v_x (1e6 m/s)$')\n",
    "        ax1.set_ylabel('Counts (A.U.)')\n",
    "        ax2.set_xlabel(r'$\\gamma v_y (1e6 m/s)$')\n",
    "        ax2.set_ylabel('Counts (A.U.)')\n",
    "    ani = animation.FuncAnimation(fig, update, frames = len(t), \\\n",
    "                                 interval = 1000)\n",
    "    if save:\n",
    "        ani.save(savePath + aniName)"
   ]
  },
  {
   "cell_type": "code",
   "execution_count": 36,
   "metadata": {
    "collapsed": true,
    "hidden": true
   },
   "outputs": [],
   "source": [
    "def ionization_vis(gas, pulse, electrons, i_start,\\\n",
    "                   t, LX, LY, savePath, \\\n",
    "                   aniName, save = False):\n",
    "    fig = plt.figure(figsize = (5, 10))\n",
    "    xl = [-LX/2, LX]\n",
    "    yl = [-LY/2, LY/2]\n",
    "    ax1 = fig.add_subplot(211)\n",
    "    ax1.xaxis.set_ticklabels([])\n",
    "    ax1.set_xlim(xl)\n",
    "    ax1.set_ylim(yl)\n",
    "    ax1.set_ylabel(r'y ($\\mu$m)')\n",
    "    \n",
    "    ax2 = fig.add_subplot(212)\n",
    "    ax2.set_xlim(xl)\n",
    "    ax2.set_ylim(yl)\n",
    "    ax2.set_ylabel(r'y ($\\mu$m)')\n",
    "    ax2.set_xlabel(r'x ($\\mu$m)')\n",
    "\n",
    "    \n",
    "    \n",
    "    gas = np.squeeze(gas)\n",
    "    ext = np.array([-LX/2, LX/2, -LY/2, LY/2])\n",
    "\n",
    "    plt.subplots_adjust(hspace = 0.2)\n",
    "    # y-intensity (for pulse)\n",
    "    pulse = pulse[:,:,:,1]**2\n",
    "    pulse = pulse.transpose()\n",
    "    cmap_p = alpha_colormap(plt.cm.get_cmap('viridis'), .01 * np.amax(pulse))\n",
    "    im = ax1.imshow(gas[0].transpose(), extent = ext, cmap = 'jet', \\\n",
    "                     aspect = 'auto', animated = True)\n",
    "    im2 = ax1.imshow(pulse[:,:,0], extent = ext,\\\n",
    "                     aspect = 'auto', animated = True, alpha = .5, \\\n",
    "                     cmap = cmap_p, \\\n",
    "                     vmin = np.amin(pulse), vmax = np.amax(pulse))\n",
    "\n",
    "    #cbar = plt.colorbar(mappable = im)\n",
    "    #cbar.set_label(r'm$^{-3}$')\n",
    "    scatt1 = ax2.scatter([], [], s = 0.25, marker = 'o')\n",
    "    \n",
    "    def update(i, gas = gas, pulse = pulse, i_start = i_start, \\\n",
    "                  electrons = electrons ):\n",
    "        im.set_data(gas[i].transpose())\n",
    "        im2.set_data(pulse[:,:,i])\n",
    "        if i >= i_start:\n",
    "            xdata_e = analyze.get_x(electrons[i-i_start])\n",
    "            ydata_e = analyze.get_y(electrons[i-i_start])\n",
    "            weights_e = analyze.get_weights(electrons[i-i_start])\n",
    "            uy = analyze.get_uy(electrons[i-i_start])\n",
    "            ux = analyze.get_ux(electrons[i-i_start])\n",
    "            scatt1.set_color(make_color(weights_e))\n",
    "            scatt1.set_offsets(np.c_[xdata_e*1e6 - 60, ydata_e*1e6])\n",
    "\n",
    "\n",
    "        \n",
    "        \n",
    "    ani = animation.FuncAnimation(fig, update, frames = len(t), \\\n",
    "                                 interval = 1000)\n",
    "    if save:\n",
    "        ani.save(savePath + aniName)\n",
    "ionization_vis(gas_data, edgeE_data, elec_data, 5,\\\n",
    "                   t, LX, LY, '/home/keenan/Desktop/', \\\n",
    "                   'test.mp4', save = True) "
   ]
  },
  {
   "cell_type": "markdown",
   "metadata": {},
   "source": [
    "# Load Data"
   ]
  },
  {
   "cell_type": "code",
   "execution_count": 24,
   "metadata": {
    "collapsed": true
   },
   "outputs": [],
   "source": [
    "simPath = '/home/keenan/Desktop/VSim_Test/Ionize_v02/08_28_Output/'\n",
    "simName = 'laserIonize'\n",
    "savePath = '/media/keenan/Data_Storage/Google Drive/CU/PWFA/Notes/08_2018/'\n",
    "LX = 140;\n",
    "LY = 100;"
   ]
  },
  {
   "cell_type": "code",
   "execution_count": 25,
   "metadata": {
    "collapsed": true
   },
   "outputs": [],
   "source": [
    "# Time info \n",
    "timestep = 130.62996926e-18;\n",
    "nsteps   = 2553;\n",
    "dump_per = 127; \n",
    "nfiles   = 22;"
   ]
  },
  {
   "cell_type": "code",
   "execution_count": 26,
   "metadata": {
    "collapsed": true
   },
   "outputs": [],
   "source": [
    "edgeE_data, gas_data, elec_data, Ar1_data, Ar2_data, attrs = \\\n",
    "                                            va.get_data(5,22,simPath, simName)\n",
    "\n",
    "t = np.zeros(len(attrs))\n",
    "for i in range(len(attrs)):\n",
    "    t[i] = attrs[i]['time']*1e15"
   ]
  },
  {
   "cell_type": "markdown",
   "metadata": {},
   "source": [
    "# Visualization"
   ]
  },
  {
   "cell_type": "code",
   "execution_count": 48,
   "metadata": {
    "collapsed": true
   },
   "outputs": [],
   "source": [
    "plot_pulse(edgeE_data, t, LX, LY, savePath, 'pulse_8_30.mp4', \\\n",
    "           save = True)"
   ]
  },
  {
   "cell_type": "code",
   "execution_count": 40,
   "metadata": {
    "collapsed": true
   },
   "outputs": [],
   "source": [
    "plot_gas_evolution(gas_data, edgeE_data, t, 140, 100, '/home/keenan/Desktop/', \\\n",
    "                                                  'test.mp4', save = True)"
   ]
  },
  {
   "cell_type": "code",
   "execution_count": 49,
   "metadata": {
    "collapsed": true
   },
   "outputs": [],
   "source": [
    "plot_phase_space(elec_data, 'Ionized electrons', t, 5 ,savePath,\\\n",
    "                 'electron_phase_8_30.mp4', save = True )"
   ]
  },
  {
   "cell_type": "code",
   "execution_count": 50,
   "metadata": {
    "collapsed": true
   },
   "outputs": [],
   "source": [
    "plot_v_dist(elec_data, 'Ionized electrons VDF ', \\\n",
    "            t, 5, savePath, 'Ionized_Electron_VDFs_8_30.mp4', save = True)"
   ]
  },
  {
   "cell_type": "code",
   "execution_count": 71,
   "metadata": {
    "collapsed": true
   },
   "outputs": [],
   "source": [
    "ionization_vis(gas_data, edgeE_data, elec_data, Ar1_data,elec_data, 5, t, LX, \\\n",
    "               LY, 'Ionization of Argon', '/home/keenan/Documents/', \\\n",
    "                   'test.mp4', save = True)"
   ]
  },
  {
   "cell_type": "code",
   "execution_count": 112,
   "metadata": {
    "collapsed": true
   },
   "outputs": [],
   "source": [
    "ionization_vis(gas_data, edgeE_data, elec_data, 5,\\\n",
    "                   t, LX, LY, savePath, \\\n",
    "                   'ionization_vis_8_30.mp4', save = True)"
   ]
  },
  {
   "cell_type": "code",
   "execution_count": 6,
   "metadata": {},
   "outputs": [
    {
     "data": {
      "text/plain": [
       "(28567, 7)"
      ]
     },
     "execution_count": 6,
     "metadata": {},
     "output_type": "execute_result"
    }
   ],
   "source": [
    "np.shape(elec_data[-1])"
   ]
  },
  {
   "cell_type": "markdown",
   "metadata": {},
   "source": [
    "# Set up for recombination"
   ]
  },
  {
   "cell_type": "code",
   "execution_count": 18,
   "metadata": {},
   "outputs": [
    {
     "data": {
      "text/plain": [
       "(124, 7)"
      ]
     },
     "execution_count": 18,
     "metadata": {},
     "output_type": "execute_result"
    }
   ],
   "source": [
    "np.shape(Ar2_data[-1])"
   ]
  },
  {
   "cell_type": "code",
   "execution_count": 10,
   "metadata": {
    "collapsed": true
   },
   "outputs": [],
   "source": [
    "import format_VSim_input as fv\n",
    "infile = simPath +  'final_electrons.txt'\n",
    "outfile = simPath + 'input_electrons.txt'\n",
    "fv.format(infile, outfile)"
   ]
  },
  {
   "cell_type": "code",
   "execution_count": 11,
   "metadata": {
    "collapsed": true
   },
   "outputs": [],
   "source": [
    "import format_VSim_input as fv\n",
    "infile = simPath +  'final_ions.txt'\n",
    "outfile = simPath + 'input_ions.txt'\n",
    "fv.format(infile, outfile)"
   ]
  },
  {
   "cell_type": "code",
   "execution_count": 19,
   "metadata": {
    "collapsed": true
   },
   "outputs": [],
   "source": [
    "import format_VSim_input as fv\n",
    "infile = simPath + 'final_Ar2.txt'\n",
    "outfile = simPath + 'input_Ar2.txt'\n",
    "fv.format(infile, outfile)"
   ]
  },
  {
   "cell_type": "code",
   "execution_count": null,
   "metadata": {
    "collapsed": true
   },
   "outputs": [],
   "source": []
  }
 ],
 "metadata": {
  "kernelspec": {
   "display_name": "CU-PWFA",
   "language": "python",
   "name": "cu-pwfa"
  },
  "language_info": {
   "codemirror_mode": {
    "name": "ipython",
    "version": 3
   },
   "file_extension": ".py",
   "mimetype": "text/x-python",
   "name": "python",
   "nbconvert_exporter": "python",
   "pygments_lexer": "ipython3",
   "version": "3.6.2"
  },
  "latex_envs": {
   "LaTeX_envs_menu_present": true,
   "autoclose": false,
   "autocomplete": true,
   "bibliofile": "biblio.bib",
   "cite_by": "apalike",
   "current_citInitial": 1,
   "eqLabelWithNumbers": true,
   "eqNumInitial": 1,
   "hotkeys": {
    "equation": "Ctrl-E",
    "itemize": "Ctrl-I"
   },
   "labels_anchors": false,
   "latex_user_defs": false,
   "report_style_numbering": false,
   "user_envs_cfg": false
  },
  "toc": {
   "base_numbering": 1,
   "nav_menu": {},
   "number_sections": true,
   "sideBar": true,
   "skip_h1_title": false,
   "title_cell": "Table of Contents",
   "title_sidebar": "Contents",
   "toc_cell": false,
   "toc_position": {},
   "toc_section_display": true,
   "toc_window_display": false
  }
 },
 "nbformat": 4,
 "nbformat_minor": 2
}

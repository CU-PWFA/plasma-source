{
 "cells": [
  {
   "cell_type": "code",
   "execution_count": 1,
   "metadata": {
    "collapsed": true
   },
   "outputs": [],
   "source": [
    "import numpy as np\n",
    "from scipy.stats import norm, chisquare\n",
    "from scipy.optimize import curve_fit\n",
    "import matplotlib.pyplot as plt\n",
    "import matplotlib.cm as cm\n",
    "import matplotlib.animation as animation\n",
    "import matplotlib.colors as colors\n",
    "import sys\n",
    "from importlib import reload as rel\n",
    "sys.path.insert(0, \"../../python/\")\n",
    "sys.path.insert(0, \"../\")\n",
    "from Constants import SI\n",
    "import vsim_analysis as va\n",
    "import vsim.load as load\n",
    "import vsim.analyze as analyze\n",
    "import h5py\n",
    "import matplotlib.mlab as mlab\n",
    "global kb, me\n",
    "kb = SI.boltzmann; # J/K\n",
    "me  = SI.elecMass; # kg\n",
    "plt.style.use('notes')\n",
    "#% matplotlib notebook"
   ]
  },
  {
   "cell_type": "code",
   "execution_count": 2,
   "metadata": {
    "collapsed": true
   },
   "outputs": [],
   "source": [
    "simPath = '/home/keenan/Desktop/VSim_Test/Ionize_v02/'\n",
    "simName = 'laserIonize'\n",
    "savePath = '/media/keenan/Data_Storage/Google Drive/CU/PWFA/Notes/08_2018/'\n",
    "LX = 140;\n",
    "LY = 100"
   ]
  },
  {
   "cell_type": "code",
   "execution_count": 3,
   "metadata": {
    "collapsed": true
   },
   "outputs": [],
   "source": [
    "# Time info \n",
    "timestep = 130.62996926e-18;\n",
    "nsteps   = 2553;\n",
    "dump_per = 127; \n",
    "nfiles   = 22;"
   ]
  },
  {
   "cell_type": "code",
   "execution_count": 4,
   "metadata": {
    "collapsed": true
   },
   "outputs": [],
   "source": [
    "edgeE_data, gas_data, elec_data, Ar1_data, Ar2_data, attrs = va.get_data(5,22,simPath, simName)"
   ]
  },
  {
   "cell_type": "code",
   "execution_count": 59,
   "metadata": {},
   "outputs": [
    {
     "data": {
      "text/plain": [
       "(376, 3500, 22)"
      ]
     },
     "execution_count": 59,
     "metadata": {},
     "output_type": "execute_result"
    }
   ],
   "source": [
    "test = edgeE_data\n",
    "test = test[:,:,:,1]\n",
    "np.shape(test.transpose())"
   ]
  },
  {
   "cell_type": "code",
   "execution_count": 5,
   "metadata": {
    "collapsed": true
   },
   "outputs": [],
   "source": [
    "t = []\n",
    "for i in range(len(attrs)):\n",
    "    t.append(attrs[i]['time']*1e15)\n"
   ]
  },
  {
   "cell_type": "code",
   "execution_count": 66,
   "metadata": {
    "collapsed": true
   },
   "outputs": [],
   "source": [
    "va = rel(va)"
   ]
  },
  {
   "cell_type": "code",
   "execution_count": 65,
   "metadata": {},
   "outputs": [],
   "source": [
    "va.plot_pulse(edgeE_data, t, LX, LY, savePath, 'test.mp4')"
   ]
  },
  {
   "cell_type": "code",
   "execution_count": 50,
   "metadata": {},
   "outputs": [],
   "source": [
    "va.plot_gas_evolution(gas_data, edgeE_data, t, 140, 100, savePath, 'Ar_gas_evolution_8_23.mp4')"
   ]
  },
  {
   "cell_type": "code",
   "execution_count": null,
   "metadata": {
    "collapsed": true
   },
   "outputs": [],
   "source": []
  }
 ],
 "metadata": {
  "kernelspec": {
   "display_name": "CU-PWFA",
   "language": "python",
   "name": "cu-pwfa"
  },
  "language_info": {
   "codemirror_mode": {
    "name": "ipython",
    "version": 3
   },
   "file_extension": ".py",
   "mimetype": "text/x-python",
   "name": "python",
   "nbconvert_exporter": "python",
   "pygments_lexer": "ipython3",
   "version": "3.6.2"
  }
 },
 "nbformat": 4,
 "nbformat_minor": 2
}

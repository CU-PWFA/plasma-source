{
 "cells": [
  {
   "cell_type": "code",
   "execution_count": 1,
   "metadata": {},
   "outputs": [],
   "source": [
    "import numpy as np\n",
    "import ionize_analysis as ia\n",
    "import vsim_plots as vp\n",
    "import matplotlib.pyplot as plt\n",
    "import matplotlib as mpl\n",
    "from scipy.stats import norm\n",
    "import matplotlib.mlab as mlab\n",
    "from scipy.optimize import curve_fit as cf\n",
    "import sys\n",
    "sys.path.insert(0,\"../../python/\")\n",
    "sys.path.insert(0, \"../\")\n",
    "from Constants import SI\n",
    "import vsim.load as load\n",
    "import vsim.analyze as analyze\n",
    "from importlib import reload as rel\n",
    "from scipy.signal import gaussian\n",
    "plt.style.use('Presentation')\n",
    "global kb, me\n",
    "kb = SI.boltzmann\n",
    "me = SI.elecMass"
   ]
  },
  {
   "cell_type": "code",
   "execution_count": 2,
   "metadata": {},
   "outputs": [],
   "source": [
    "simPath = \"/media/keenan/Data_Storage/VSim/nersc/\"\n",
    "simName = \"laserIonize_ionizedElectrons_6.h5\"\n",
    "savePath = '/media/keenan/Data_Storage/Google Drive/CU/PWFA/Group Meetings/2018/2018-09/9_10/'\n",
    "data = load.get_species_data(simPath + simName, 'ionizedElectrons')\n",
    "spacing = 10e-6"
   ]
  },
  {
   "cell_type": "code",
   "execution_count": 3,
   "metadata": {},
   "outputs": [],
   "source": [
    "y = data[:,1]\n",
    "ux = data[:,2]\n",
    "uy = data[:,3]\n",
    "weights = data[:,-1]\n",
    "u2 = ux**2 + uy**2\n",
    "gamma = 1/np.sqrt(1- u2 / ((3e8)**2+u2))\n",
    "ux = ux/gamma\n",
    "uy = uy/gamma\n",
    "edges = np.arange(min(y), max(y), spacing)\n",
    "\n"
   ]
  },
  {
   "cell_type": "code",
   "execution_count": 46,
   "metadata": {},
   "outputs": [],
   "source": [
    "ia = rel(ia)"
   ]
  },
  {
   "cell_type": "code",
   "execution_count": 54,
   "metadata": {},
   "outputs": [],
   "source": [
    "def get_fit(i, p0, edges,y, uy, weights):\n",
    "    l = edges[i]\n",
    "    u = edges[i+1]\n",
    "    w = np.where(np.logical_and(y>=l, y<=u))\n",
    "    vy = uy[w]\n",
    "    wt = weights[w]\n",
    "    #(mu, sigma) = norm.fit(vy)\n",
    "    n, bins, patches = plt.hist(vy, bins = 200, weights = wt)\n",
    "    popt, pcov = cf(ia.offset_peak, bins[1:], n, p0 = p0, \\\n",
    "                    bounds = ([0, -np.inf, -np.inf], [np.inf, np.inf, np.inf]))\n",
    "    sigma = popt[1];\n",
    "    T = (me * sigma**2/kb)/11600\n",
    "    f  = ia.offset_peak(bins[1:], *popt)\n",
    "    plt.plot(bins[1:], f, '--r')\n",
    "    print(T)\n",
    "    plt.show()"
   ]
  },
  {
   "cell_type": "code",
   "execution_count": 55,
   "metadata": {},
   "outputs": [
    {
     "name": "stdout",
     "output_type": "stream",
     "text": [
      "441.09007167\n"
     ]
    },
    {
     "data": {
      "image/png": "[encoded data removed]",
      "text/plain": [
       "<matplotlib.figure.Figure at 0x7efd56a03e80>"
      ]
     },
     "metadata": {},
     "output_type": "display_data"
    }
   ],
   "source": [
    "p0 = [1e5, 1e7, 1e7]\n",
    "get_fit(0, p0, edges, y, uy, weights)"
   ]
  },
  {
   "cell_type": "code",
   "execution_count": 57,
   "metadata": {
    "collapsed": true
   },
   "outputs": [],
   "source": [
    "T, edges = ia.get_T_dist(data, 10e-6)"
   ]
  },
  {
   "cell_type": "code",
   "execution_count": 64,
   "metadata": {},
   "outputs": [
    {
     "data": {
      "image/png": "[encoded data removed]",
      "text/plain": [
       "<matplotlib.figure.Figure at 0x7efd57bedb00>"
      ]
     },
     "metadata": {},
     "output_type": "display_data"
    }
   ],
   "source": [
    "plt.plot(edges[1:-1]*1e6, T[1:-1])\n",
    "plt.show()"
   ]
  },
  {
   "cell_type": "code",
   "execution_count": null,
   "metadata": {
    "collapsed": true
   },
   "outputs": [],
   "source": []
  }
 ],
 "metadata": {
  "kernelspec": {
   "display_name": "CU-PWFA",
   "language": "python",
   "name": "cu-pwfa"
  },
  "language_info": {
   "codemirror_mode": {
    "name": "ipython",
    "version": 3
   },
   "file_extension": ".py",
   "mimetype": "text/x-python",
   "name": "python",
   "nbconvert_exporter": "python",
   "pygments_lexer": "ipython3",
   "version": "3.6.2"
  },
  "latex_envs": {
   "LaTeX_envs_menu_present": true,
   "autoclose": false,
   "autocomplete": true,
   "bibliofile": "biblio.bib",
   "cite_by": "apalike",
   "current_citInitial": 1,
   "eqLabelWithNumbers": true,
   "eqNumInitial": 1,
   "hotkeys": {
    "equation": "Ctrl-E",
    "itemize": "Ctrl-I"
   },
   "labels_anchors": false,
   "latex_user_defs": false,
   "report_style_numbering": false,
   "user_envs_cfg": false
  },
  "toc": {
   "base_numbering": 1,
   "nav_menu": {},
   "number_sections": true,
   "sideBar": true,
   "skip_h1_title": false,
   "title_cell": "Table of Contents",
   "title_sidebar": "Contents",
   "toc_cell": false,
   "toc_position": {},
   "toc_section_display": true,
   "toc_window_display": false
  }
 },
 "nbformat": 4,
 "nbformat_minor": 2
}

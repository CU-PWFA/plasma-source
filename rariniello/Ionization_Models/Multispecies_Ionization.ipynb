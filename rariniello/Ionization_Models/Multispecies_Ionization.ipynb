{
 "cells": [
  {
   "cell_type": "code",
   "execution_count": null,
   "metadata": {
    "collapsed": true
   },
   "outputs": [],
   "source": [
    "import sys\n",
    "import os\n",
    "sys.path.insert(0, \"../../python\")\n",
    "\n",
    "import numpy as np\n",
    "from beam.beams import laserpulse\n",
    "from beam.beams import laserbeam\n",
    "from beam.elements import plasma\n",
    "from beam import interactions\n",
    "from ionization import ionization\n",
    "import matplotlib.pyplot as plt\n",
    "\n",
    "path = '/media/robert/Data_Storage/Data/Ionization/SphericalAndRamp/Annular_Spherical/'\n",
    "lam = 0.8\n",
    "tau = 35."
   ]
  },
  {
   "cell_type": "code",
   "execution_count": null,
   "metadata": {
    "collapsed": true
   },
   "outputs": [],
   "source": [
    "pulseParams = {\n",
    "    'Nt' : 2**6,\n",
    "    'T' : 3*tau,\n",
    "    'lam' : lam,\n",
    "    'path' : path,\n",
    "    'load' : False,\n",
    "    'threads' : 4,\n",
    "    'cyl' : True,\n",
    "    'tau' : tau,\n",
    "}\n",
    "pulseNx = 2**11\n",
    "pulseNy = 2**11\n",
    "pulseX = 3e4\n",
    "pulseY = 3e4\n",
    "\n",
    "beamNx = 2**12\n",
    "beamNy = 2**12\n",
    "beamX = 6e4\n",
    "beamY = 6e4\n",
    "\n",
    "plasmaParams = {\n",
    "    'Nx' : pulseNx,\n",
    "    'Ny' : pulseNy,\n",
    "    'Nz' : 2**8,\n",
    "    'X' : pulseX,\n",
    "    'Y' : pulseY,\n",
    "    'Z' : 2.0e6,\n",
    "    'n0' : 0.1,\n",
    "    'atom' : ionization.Ar,\n",
    "    'path' : path,\n",
    "    'load' : False,\n",
    "    'cyl' : True\n",
    "}"
   ]
  }
 ],
 "metadata": {
  "kernelspec": {
   "display_name": "CU-PWFA",
   "language": "python",
   "name": "cu-pwfa"
  },
  "language_info": {
   "codemirror_mode": {
    "name": "ipython",
    "version": 3
   },
   "file_extension": ".py",
   "mimetype": "text/x-python",
   "name": "python",
   "nbconvert_exporter": "python",
   "pygments_lexer": "ipython3",
   "version": "3.6.2"
  }
 },
 "nbformat": 4,
 "nbformat_minor": 2
}

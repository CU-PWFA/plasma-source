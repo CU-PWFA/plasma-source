{
 "cells": [
  {
   "cell_type": "code",
   "execution_count": 1,
   "metadata": {
    "collapsed": true
   },
   "outputs": [],
   "source": [
    "import sys\n",
    "import os\n",
    "sys.path.insert(0, \"../../python\")\n",
    "\n",
    "import numpy as np\n",
    "from beam.beams import laserpulse\n",
    "from beam.beams import laserbeam\n",
    "from beam.elements import plasma\n",
    "from beam.elements import optic\n",
    "from beam import interactions\n",
    "from ionization import ionization\n",
    "from ionization import adk\n",
    "from lens import profile\n",
    "from lens import bessel\n",
    "from propagation import laser\n",
    "import matplotlib.pyplot as plt\n",
    "\n",
    "path = '/media/robert/Data_Storage/Data/Ionization/200um_0.25Density_Convergence/'"
   ]
  },
  {
   "cell_type": "code",
   "execution_count": 2,
   "metadata": {
    "collapsed": true
   },
   "outputs": [],
   "source": [
    "pulseParams = {'X' : 16e3,\n",
    "               'Y' : 16e3,\n",
    "               'T' : 100,\n",
    "               'lam' : 0.8,\n",
    "               'threads' : 4,\n",
    "               'cyl' : True,\n",
    "               'tau' : 35}\n",
    "\n",
    "plasmaParams = {'X' : pulseParams['X'],\n",
    "                'Y' : pulseParams['Y'],\n",
    "                'Z' : 2.0e6,\n",
    "                'n0': 0.25,\n",
    "                'atom' : ionization.Ar,\n",
    "                'name' : 'Plasma',\n",
    "                'cyl' : True}"
   ]
  },
  {
   "cell_type": "code",
   "execution_count": null,
   "metadata": {
    "collapsed": true
   },
   "outputs": [],
   "source": [
    "# Create the desired intensity profile\n",
    "lam = 0.8\n",
    "ion = {'atom' : ionization.Ar,\n",
    "       'tau' : pulseParams['tau'],\n",
    "       'type' : 'gaussian'}\n",
    "z0 = 0.75e6\n",
    "zf = 100e6\n",
    "dz = 0.5e6\n",
    "sigmaIn = 15e4\n",
    "sigmaOut = 15e4\n",
    "N = 100000\n",
    "z, I = profile.smoothed_gaussian_ramps(z0, dz, sigmaIn, sigmaOut, ion, N, zf)\n",
    "\n",
    "params = {\n",
    "    'Nr' : 5000,\n",
    "    'R' : pulseParams['X']*.75,\n",
    "    'w' : 200,\n",
    "    'lam' : 0.8\n",
    "}\n",
    "r, E = bessel.bessel_expansion(params, z, I)"
   ]
  },
  {
   "cell_type": "code",
   "execution_count": null,
   "metadata": {},
   "outputs": [],
   "source": [
    "tests = [{ # t direction\n",
    "    'Nt' : 2**7,\n",
    "    'Nx' : 2**10,\n",
    "    'Ny' : 2**10,\n",
    "    'Nz' : 2**8,\n",
    "    'path' : path + '128X1024X1024X256/'\n",
    "}, {\n",
    "    'Nt' : 2**8,\n",
    "    'path' : path + '256X1024X1024X256/'\n",
    "}, { # x direction\n",
    "    'Nt' : 2**6,\n",
    "    'Nx' : 2**11,\n",
    "    'Ny' : 2**10,\n",
    "    'Nz' : 2**8,\n",
    "    'path' : path + '64X2048X1024X256/'\n",
    "}, {\n",
    "    'Nx' : 2**12,\n",
    "    'path' : path + '64X4096X1024X256/'\n",
    "}, { # z direction\n",
    "    'Nt' : 2**6,\n",
    "    'Nx' : 2**10,\n",
    "    'Ny' : 2**10,\n",
    "    'Nz' : 2**9,\n",
    "    'path' : path + '64X1024X1024X512/'\n",
    "}, {\n",
    "    'Nz' : 2**10,\n",
    "    'path' : path + '64X1024X1024X1024/'\n",
    "}, { # x-y direction\n",
    "    'Nt' : 2**6,\n",
    "    'Nx' : 2**11,\n",
    "    'Ny' : 2**11,\n",
    "    'Nz' : 2**8,\n",
    "    'path' : path + '64X2048X2048X512/'\n",
    "}]\n",
    "for i in range(len(tests)):\n",
    "    for name in tests[i]:\n",
    "        pulseParams[name] = tests[i][name]\n",
    "        plasmaParams[name] = tests[i][name]\n",
    "    pulseParams['name'] = 'GaussianBeam'\n",
    "    beam = laserbeam.Laser(pulseParams)\n",
    "    pulseParams['name'] = 'GaussianPulse'\n",
    "    pulse = laserpulse.Pulse(pulseParams)\n",
    "    argon = plasma.UniformPlasma(plasmaParams)\n",
    "\n",
    "    e = beam.reconstruct_from_cyl(r, E, beam.x, beam.y)\n",
    "    beam.initialize_field(e)\n",
    "    e = e[None, :, :] * np.exp(-pulse.t[:, None, None]**2 * np.pi/(2*pulse.tau**2))\n",
    "    pulse.initialize_field(e)\n",
    "\n",
    "    beam.propagate(np.linspace(0, plasmaParams['Z'], plasmaParams['Nz']), 1.0)\n",
    "    interactions.pulse_plasma(pulse, argon)"
   ]
  }
 ],
 "metadata": {
  "kernelspec": {
   "display_name": "CU-PWFA",
   "language": "python",
   "name": "cu-pwfa"
  },
  "language_info": {
   "codemirror_mode": {
    "name": "ipython",
    "version": 3
   },
   "file_extension": ".py",
   "mimetype": "text/x-python",
   "name": "python",
   "nbconvert_exporter": "python",
   "pygments_lexer": "ipython3",
   "version": "3.6.0"
  }
 },
 "nbformat": 4,
 "nbformat_minor": 2
}

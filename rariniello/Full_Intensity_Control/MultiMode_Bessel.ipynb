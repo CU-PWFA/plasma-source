{
 "cells": [
  {
   "cell_type": "code",
   "execution_count": 1,
   "metadata": {
    "collapsed": true
   },
   "outputs": [],
   "source": [
    "import sys\n",
    "sys.path.insert(0, \"../../python\")\n",
    "\n",
    "import os\n",
    "from ionization import ionization\n",
    "from ionization import adk\n",
    "from propagation import propagation\n",
    "from propagation import laser\n",
    "from lens import profile\n",
    "from lens import bessel\n",
    "import numpy as np\n",
    "import matplotlib.pyplot as plt\n",
    "from scipy.interpolate import interp1d\n",
    "from scipy import integrate\n",
    "from numpy.fft import fft, ifft, fft2, ifft2, fftfreq, fftshift\n",
    "from scipy.special import jn\n",
    "from ht import intht"
   ]
  },
  {
   "cell_type": "code",
   "execution_count": 2,
   "metadata": {
    "collapsed": true
   },
   "outputs": [],
   "source": [
    "# Create the desired intensity profile\n",
    "ion = {'atom' : ionization.H2,\n",
    "       'tau' : 50,\n",
    "       'type' : 'gaussian'}\n",
    "z0 = 1.5e6\n",
    "zf = 50e6\n",
    "dz = 1e6\n",
    "sigmaIn = 15e4\n",
    "sigmaOut = 15e4\n",
    "N = 50000\n",
    "z, I = profile.smoothed_gaussian_ramps(z0, dz, sigmaIn, sigmaOut, ion, N, zf)"
   ]
  },
  {
   "cell_type": "code",
   "execution_count": 3,
   "metadata": {},
   "outputs": [],
   "source": [
    "# Lets test the automated function\n",
    "prop = {'Nx' : 2**11,\n",
    "        'Ny' : 2**8,\n",
    "        'Nz' : 2**8,\n",
    "        'X' : 10e3,\n",
    "        'Y' : 10e3,\n",
    "        'Z' : 4e6,\n",
    "        'E0' : 1.0,\n",
    "        'lam' : 0.8,\n",
    "        'n' : 1.0\n",
    "        }\n",
    "params = {'L' : 2,\n",
    "          'N' : 5000,\n",
    "          'M' : 5000,\n",
    "          'R' : [0.3e3, 0.3e3],\n",
    "          'lam' : 0.8,\n",
    "          'rmax' : [20e3, 20e3],\n",
    "          'prop' : prop,\n",
    "          'order' : [0, 1],\n",
    "          'atom' : ionization.H2,\n",
    "          'tau' : ion['tau'],\n",
    "          'multi' : [1.0, 1.8]\n",
    "         }\n",
    "\n",
    "path = '/media/robert/Data_Storage/Data/Ionization/MultiOrderBessel/TwoOrder300um/'\n",
    "params['path'] = path\n",
    "bessel.multimode_ionization(params, z, I)"
   ]
  },
  {
   "cell_type": "code",
   "execution_count": 4,
   "metadata": {},
   "outputs": [
    {
     "name": "stdout",
     "output_type": "stream",
     "text": [
      "{'L': 2, 'N': 5000, 'M': 5000, 'R': [300.0, 300.0], 'lam': 0.8, 'rmax': [20000.0, 20000.0], 'prop': {'Nx': 2048, 'Ny': 256, 'Nz': 256, 'X': 10000.0, 'Y': 10000.0, 'Z': 4000000.0, 'E0': 1.0, 'lam': 0.8, 'n': 1.0, 'Efield': <scipy.interpolate.interpolate.interp1d object at 0x7f1389f89048>, 'order': 1, 'path': '/media/robert/Data_Storage/Data/Ionization/MultiOrderBessel/TwoOrder300um/Bessel_1/'}, 'order': [0, 1], 'atom': {'EI': 15.426, 'Z': 1, 'l': 0, 'm': 0}, 'tau': 50, 'multi': [1.0, 1.8], 'path': '/media/robert/Data_Storage/Data/Ionization/MultiOrderBessel/TwoOrder300um/'}\n"
     ]
    },
    {
     "ename": "IndexError",
     "evalue": "only integers, slices (`:`), ellipsis (`...`), numpy.newaxis (`None`) and integer or boolean arrays are valid indices",
     "output_type": "error",
     "traceback": [
      "\u001b[0;31m---------------------------------------------------------------------------\u001b[0m",
      "\u001b[0;31mIndexError\u001b[0m                                Traceback (most recent call last)",
      "\u001b[0;32m<ipython-input-4-ed1693dbd834>\u001b[0m in \u001b[0;36m<module>\u001b[0;34m()\u001b[0m\n\u001b[0;32m----> 1\u001b[0;31m \u001b[0mbessel\u001b[0m\u001b[0;34m.\u001b[0m\u001b[0mionization_plot\u001b[0m\u001b[0;34m(\u001b[0m\u001b[0mpath\u001b[0m\u001b[0;34m)\u001b[0m\u001b[0;34m\u001b[0m\u001b[0m\n\u001b[0m",
      "\u001b[0;32m/home/robert/CU-PWFA/plasma-source/python/lens/bessel.py\u001b[0m in \u001b[0;36mionization_plot\u001b[0;34m(path)\u001b[0m\n\u001b[1;32m    277\u001b[0m         \u001b[0mThe\u001b[0m \u001b[0mpath\u001b[0m \u001b[0mspecifying\u001b[0m \u001b[0mthe\u001b[0m \u001b[0mdirectory\u001b[0m \u001b[0;32mwith\u001b[0m \u001b[0mthe\u001b[0m \u001b[0msimulation\u001b[0m \u001b[0mresults\u001b[0m\u001b[0;34m.\u001b[0m\u001b[0;34m\u001b[0m\u001b[0m\n\u001b[1;32m    278\u001b[0m     \"\"\"\n\u001b[0;32m--> 279\u001b[0;31m     \u001b[0mfrac\u001b[0m\u001b[0;34m,\u001b[0m \u001b[0mE\u001b[0m\u001b[0;34m,\u001b[0m \u001b[0mrmi\u001b[0m\u001b[0;34m,\u001b[0m \u001b[0mparams\u001b[0m\u001b[0;34m,\u001b[0m \u001b[0mL\u001b[0m\u001b[0;34m,\u001b[0m \u001b[0mX\u001b[0m\u001b[0;34m,\u001b[0m \u001b[0mZ\u001b[0m\u001b[0;34m,\u001b[0m \u001b[0mNx\u001b[0m\u001b[0;34m,\u001b[0m \u001b[0mNy\u001b[0m\u001b[0;34m,\u001b[0m \u001b[0mNz\u001b[0m \u001b[0;34m=\u001b[0m \u001b[0mopen_data\u001b[0m\u001b[0;34m(\u001b[0m\u001b[0mpath\u001b[0m\u001b[0;34m)\u001b[0m\u001b[0;34m\u001b[0m\u001b[0m\n\u001b[0m\u001b[1;32m    280\u001b[0m \u001b[0;34m\u001b[0m\u001b[0m\n\u001b[1;32m    281\u001b[0m     \u001b[0;31m# Create the figure\u001b[0m\u001b[0;34m\u001b[0m\u001b[0;34m\u001b[0m\u001b[0m\n",
      "\u001b[0;32m/home/robert/CU-PWFA/plasma-source/python/lens/bessel.py\u001b[0m in \u001b[0;36mopen_data\u001b[0;34m(path)\u001b[0m\n\u001b[1;32m    257\u001b[0m     \u001b[0mprint\u001b[0m\u001b[0;34m(\u001b[0m\u001b[0mparams\u001b[0m\u001b[0;34m)\u001b[0m\u001b[0;34m\u001b[0m\u001b[0m\n\u001b[1;32m    258\u001b[0m     \u001b[0;31m# Useful simulation parameters\u001b[0m\u001b[0;34m\u001b[0m\u001b[0;34m\u001b[0m\u001b[0m\n\u001b[0;32m--> 259\u001b[0;31m     \u001b[0mL\u001b[0m \u001b[0;34m=\u001b[0m \u001b[0mparams\u001b[0m\u001b[0;34m[\u001b[0m\u001b[0;34m'L'\u001b[0m\u001b[0;34m]\u001b[0m\u001b[0;34m\u001b[0m\u001b[0m\n\u001b[0m\u001b[1;32m    260\u001b[0m     \u001b[0mX\u001b[0m \u001b[0;34m=\u001b[0m \u001b[0mparams\u001b[0m\u001b[0;34m[\u001b[0m\u001b[0;34m'prop'\u001b[0m\u001b[0;34m]\u001b[0m\u001b[0;34m[\u001b[0m\u001b[0;34m'X'\u001b[0m\u001b[0;34m]\u001b[0m\u001b[0;34m\u001b[0m\u001b[0m\n\u001b[1;32m    261\u001b[0m     \u001b[0mZ\u001b[0m \u001b[0;34m=\u001b[0m \u001b[0mparams\u001b[0m\u001b[0;34m[\u001b[0m\u001b[0;34m'prop'\u001b[0m\u001b[0;34m]\u001b[0m\u001b[0;34m[\u001b[0m\u001b[0;34m'Z'\u001b[0m\u001b[0;34m]\u001b[0m\u001b[0;34m\u001b[0m\u001b[0m\n",
      "\u001b[0;31mIndexError\u001b[0m: only integers, slices (`:`), ellipsis (`...`), numpy.newaxis (`None`) and integer or boolean arrays are valid indices"
     ]
    }
   ],
   "source": [
    "bessel.ionization_plot(path)"
   ]
  }
 ],
 "metadata": {
  "kernelspec": {
   "display_name": "CU-PWFA",
   "language": "python",
   "name": "cu-pwfa"
  },
  "language_info": {
   "codemirror_mode": {
    "name": "ipython",
    "version": 3
   },
   "file_extension": ".py",
   "mimetype": "text/x-python",
   "name": "python",
   "nbconvert_exporter": "python",
   "pygments_lexer": "ipython3",
   "version": "3.6.0"
  }
 },
 "nbformat": 4,
 "nbformat_minor": 2
}

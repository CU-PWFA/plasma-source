{
 "cells": [
  {
   "cell_type": "code",
   "execution_count": null,
   "metadata": {},
   "outputs": [],
   "source": [
    "import sys\n",
    "import os\n",
    "sys.path.insert(0, \"../../python\")\n",
    "\n",
    "import numpy as np\n",
    "import matplotlib.pyplot as plt\n",
    "import matplotlib.gridspec as gridspec\n",
    "import beam.calc.electron as ecalc\n",
    "import scipy.constants as const\n",
    "from beam.beams import electronbeam\n",
    "from beam import interactions\n",
    "me = const.physical_constants['electron mass energy equivalent in MeV'][0]\n",
    "e = const.physical_constants['elementary charge'][0]\n",
    "path = 'Data/'"
   ]
  },
  {
   "cell_type": "code",
   "execution_count": null,
   "metadata": {},
   "outputs": [],
   "source": [
    "# Calculate beam evolution with no offset through a uniform plasma\n",
    "Nz = 2000\n",
    "z = np.linspace(0, 100*2*np.pi, Nz, dtype='double')\n",
    "gb0 = 20000\n",
    "ne0 = 2*gb0/5.95074e4**2 # Go from Robert units to normalized units\n",
    "ne = ne0*np.ones(Nz)\n",
    "kb = 5.95074e4 * np.sqrt(ne0)/np.sqrt(2*gb0)\n",
    "betaBeam = 1\n",
    "alphaBeam = 0\n",
    "eps = 1.0e-6\n",
    "delta = 0.02\n",
    "sigma_r0 = np.sqrt(betaBeam*eps)\n",
    "electronParams = {\n",
    "    'name' : 'No_Offset',\n",
    "    'path' : path,\n",
    "    'load' : False,\n",
    "    'N' : 50000,\n",
    "    'gamma' : 20000,\n",
    "    'emittance' : gb0*eps,\n",
    "    'betax' : betaBeam,\n",
    "    'betay' : betaBeam,\n",
    "    'alphax' : alphaBeam,\n",
    "    'alphay' : alphaBeam,\n",
    "    'sigmaz' : 5e-6,\n",
    "    'dE' : delta\n",
    "}\n",
    "\n",
    "beam = electronbeam.GaussianElectronBeam(electronParams)\n",
    "#beam.plot_current_phase()\n",
    "#beam_CS = beam.get_CS()\n",
    "#ptcl = beam.get_ptcl(0)"
   ]
  },
  {
   "cell_type": "code",
   "execution_count": null,
   "metadata": {},
   "outputs": [],
   "source": [
    "# The imaging system can be described completly by the full 6d transfer matrix\n",
    "# Horizontal transfer matrix\n",
    "M11 = 7.0\n",
    "M12 = 0.0\n",
    "M21 = \n",
    "M22 = \n",
    "# Vertical transfer matrix\n",
    "M33 = \n",
    "M34 = 0.0\n",
    "M43 = \n",
    "M44 = \n",
    "# Longitudinal transfer matrix\n",
    "M55 = 1.0\n",
    "M56 = 0.0\n",
    "M65 = 0.0\n",
    "M66 = 1.0\n",
    "# Horizontal-longitudinal coupling terms\n",
    "M51 = \n",
    "M52 = \n",
    "M16 = \n",
    "M26 = "
   ]
  },
  {
   "cell_type": "code",
   "execution_count": null,
   "metadata": {},
   "outputs": [],
   "source": []
  }
 ],
 "metadata": {
  "kernelspec": {
   "display_name": "CU-PWFA",
   "language": "python",
   "name": "cu-pwfa"
  },
  "language_info": {
   "codemirror_mode": {
    "name": "ipython",
    "version": 3
   },
   "file_extension": ".py",
   "mimetype": "text/x-python",
   "name": "python",
   "nbconvert_exporter": "python",
   "pygments_lexer": "ipython3",
   "version": "3.7.3"
  }
 },
 "nbformat": 4,
 "nbformat_minor": 2
}

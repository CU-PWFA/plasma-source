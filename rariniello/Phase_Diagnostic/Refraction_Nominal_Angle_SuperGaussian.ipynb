{
 "cells": [
  {
   "cell_type": "code",
   "execution_count": null,
   "metadata": {
    "collapsed": true
   },
   "outputs": [],
   "source": [
    "import sys\n",
    "import os\n",
    "sys.path.insert(0, \"../../python\")\n",
    "\n",
    "import numpy as np\n",
    "from beam.beams import laserpulse\n",
    "from beam.beams import laserbeam\n",
    "from beam.elements import plasma\n",
    "from beam import interactions\n",
    "from ionization import ionization\n",
    "from lens import profile\n",
    "from lens import bessel\n",
    "from lens import ray\n",
    "import matplotlib.pyplot as plt\n",
    "from unwrap import unwrap\n",
    "\n",
    "basePath = '/media/robert/Data_Storage/Data/Diagnostic/Phase_Diagnostic/Nominal_Plasma/'"
   ]
  },
  {
   "cell_type": "code",
   "execution_count": null,
   "metadata": {
    "collapsed": true
   },
   "outputs": [],
   "source": [
    "path = basePath + 'Oblique/1e17_w-10e3_theta-0.859/'\n",
    "# Build the plasma\n",
    "plasmaParams = {\n",
    "    'Nx' : 2**12,\n",
    "    'Ny' : 2**10,\n",
    "    'Nz' : 2**8,\n",
    "    'X' : 60e3,\n",
    "    'Y' : 60e3,\n",
    "    'Z' : 2.0e6, \n",
    "    'n0' : 1.0,\n",
    "    'atom' : ionization.Ar,\n",
    "    'path' : path,\n",
    "    'name' : 'ArgonPlasma',\n",
    "    'load' : False,\n",
    "    'cyl' : True\n",
    "}\n",
    "\n",
    "w = 200\n",
    "z0 = 0.75e6\n",
    "zf = plasmaParams['Z']\n",
    "dz = 0.5e6\n",
    "sigmaIn = 15e4\n",
    "sigmaOut = 15e4\n",
    "z, ne = profile.plasma_gaussian_ramps(z0, dz, sigmaIn, sigmaOut, plasmaParams['Nz'], zf)\n",
    "\n",
    "argon = plasma.Plasma(plasmaParams)\n",
    "n = np.full((argon.Nx, argon.Ny, argon.Nz), plasmaParams['n0'], dtype='double')\n",
    "r2 = argon.x[:, None, None]**2 + argon.y[None, :, None]**2\n",
    "ne = plasmaParams['n0'] * ne[None, None, :] * np.exp(-r2/w**2)\n",
    "argon.initialize_plasma(n, ne)\n",
    "del n\n",
    "del ne\n",
    "argon.plot_long_density_center()"
   ]
  },
  {
   "cell_type": "code",
   "execution_count": null,
   "metadata": {
    "collapsed": true
   },
   "outputs": [],
   "source": [
    "# Build the beam\n",
    "beamParams = {\n",
    "    'Nx' : plasmaParams['Nx'],\n",
    "    'Ny' : plasmaParams['Ny'],\n",
    "    'X' : plasmaParams['X'],\n",
    "    'Y' : plasmaParams['Y'],\n",
    "    'lam' : 0.8,\n",
    "    'path' : path,\n",
    "    'name' : 'ProbePulse',\n",
    "    'load' : False,\n",
    "    'threads' : 4,\n",
    "    'cyl' : False,\n",
    "    'E0' : 27.44923, # Gives peak input intensity of 1.0\n",
    "    'waist' : 10000,\n",
    "    'z0' : 0.0,\n",
    "    'theta' : 0.859,\n",
    "    'dx' : -15e3\n",
    "}\n",
    "\n",
    "beam = laserbeam.GeneralGaussianLaser(beamParams)\n",
    "beam.plot_current_intensity()"
   ]
  }
 ],
 "metadata": {
  "kernelspec": {
   "display_name": "CU-PWFA",
   "language": "python",
   "name": "cu-pwfa"
  },
  "language_info": {
   "codemirror_mode": {
    "name": "ipython",
    "version": 3
   },
   "file_extension": ".py",
   "mimetype": "text/x-python",
   "name": "python",
   "nbconvert_exporter": "python",
   "pygments_lexer": "ipython3",
   "version": "3.6.0"
  }
 },
 "nbformat": 4,
 "nbformat_minor": 2
}

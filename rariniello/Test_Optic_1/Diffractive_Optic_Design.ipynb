{
 "cells": [
  {
   "cell_type": "code",
   "execution_count": 1,
   "metadata": {
    "collapsed": true
   },
   "outputs": [],
   "source": [
    "import sys\n",
    "import os\n",
    "sys.path.insert(0, \"../../python\")\n",
    "\n",
    "import numpy as np\n",
    "from numpy.fft import fft, ifft, fftfreq, fftshift\n",
    "from scipy.integrate import simps\n",
    "from beam.beams import laserpulse\n",
    "from beam.beams import laserbeam\n",
    "from beam.elements import plasma\n",
    "from beam.elements import optic\n",
    "from beam import interactions\n",
    "from propagation import laser\n",
    "from ionization import ionization\n",
    "from lens import profile\n",
    "from lens import bessel\n",
    "from lens import ray\n",
    "import matplotlib.pyplot as plt\n",
    "plt.style.use('notes')\n",
    "\n",
    "path = '/media/robert/Data_Storage/Data/Experimental/Test_Optic_1/'\n",
    "lam = 0.796\n",
    "# All length units are in um"
   ]
  },
  {
   "cell_type": "code",
   "execution_count": 2,
   "metadata": {},
   "outputs": [],
   "source": [
    "# Load the lens phase patterns from a file\n",
    "# Create the first lens\n",
    "Nx = 2**12 # These will be overwritten by the saved versions\n",
    "X = 40e3\n",
    "lensParams = {'Nx' : Nx,\n",
    "              'Ny' : Nx,\n",
    "              'X' : X,\n",
    "              'Y' : X,\n",
    "              'path' : path,\n",
    "              'name' : 'LensA',\n",
    "              'lam' : lam,\n",
    "              'load' : True}\n",
    "\n",
    "lensA = optic.Phase(lensParams)\n",
    "\n",
    "# Create the second lens\n",
    "lensParams = {'Nx' : Nx,\n",
    "              'Ny' : Nx,\n",
    "              'X' : X,\n",
    "              'Y' : X,\n",
    "              'path' : path,\n",
    "              'name' : 'LensB',\n",
    "              'lam' : lam,\n",
    "              'load' : True}\n",
    "\n",
    "lensB = optic.Phase(lensParams)\n",
    "L = 30e4 # Distance between optics, needs to be updated if optical design changes"
   ]
  }
 ],
 "metadata": {
  "kernelspec": {
   "display_name": "CU-PWFA",
   "language": "python",
   "name": "cu-pwfa"
  },
  "language_info": {
   "codemirror_mode": {
    "name": "ipython",
    "version": 3
   },
   "file_extension": ".py",
   "mimetype": "text/x-python",
   "name": "python",
   "nbconvert_exporter": "python",
   "pygments_lexer": "ipython3",
   "version": "3.6.2"
  }
 },
 "nbformat": 4,
 "nbformat_minor": 2
}

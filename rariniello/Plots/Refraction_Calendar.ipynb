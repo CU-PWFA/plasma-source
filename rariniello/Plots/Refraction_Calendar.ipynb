{
 "cells": [
  {
   "cell_type": "code",
   "execution_count": 1,
   "metadata": {},
   "outputs": [],
   "source": [
    "import sys\n",
    "import os\n",
    "sys.path.insert(0, \"../../python\")\n",
    "\n",
    "from beam.beams import laserpulse\n",
    "from beam.elements import plasma\n",
    "from beam.elements import optic\n",
    "from beam import interactions\n",
    "import numpy as np\n",
    "\n",
    "path = '/media/robert/Data_Storage/Data/Plots/Calendar/'"
   ]
  },
  {
   "cell_type": "code",
   "execution_count": null,
   "metadata": {},
   "outputs": [],
   "source": [
    "pulseParams = {'Nx' : 2**8,\n",
    "               'Ny' : 2**8,\n",
    "               'Nt' : 2**6,\n",
    "               'X' : 8e3,\n",
    "               'Y' : 8e3,\n",
    "               'T' : 100,\n",
    "               'lam' : 0.8,\n",
    "               'path' : path,\n",
    "               'name' : 'GaussianPulse',\n",
    "               'threads' : 4,\n",
    "               'cyl' : True,\n",
    "               'E0' : 0.1,\n",
    "               'waist' : 1e3,\n",
    "               'z0' : 0.0,\n",
    "               'tau' : 35}\n",
    "\n",
    "pulse = laserpulse.GaussianPulse(pulseParams)\n",
    "\n",
    "axiconParams = {'Nx' : pulseParams['Nx'],\n",
    "                'Ny' : pulseParams['Ny'],\n",
    "                'X' : pulseParams['X'],\n",
    "                'Y' : pulseParams['Y'],\n",
    "                'path' : path,\n",
    "                'name' : 'Axicon',\n",
    "                'lam' : pulseParams['lam'],\n",
    "                'beta' : 10}\n",
    "\n",
    "axicon = optic.AxiconLens(axiconParams)\n",
    "\n",
    "plasmaParams = {'Nx' : pulseParams['Nx'],\n",
    "                'Ny' : pulseParams['Ny'],\n",
    "                'Nz' : 2**8,\n",
    "                'X' : pulseParams['X'],\n",
    "                'Y' : pulseParams['Y'],\n",
    "                'Z' : 1e6,\n",
    "                'n0': 0.1,\n",
    "                'atom' : {'EI' : 15.7596,\n",
    "                          'Z' : 1,\n",
    "                          'l' : 1,\n",
    "                          'm' : 0,\n",
    "                          'alpha' : 1.664},\n",
    "                'path' : path,\n",
    "                'name' : 'Plasma',\n",
    "                'cyl' : True}\n",
    "\n",
    "argon = plasma.UniformPlasma(plasmaParams)"
   ]
  },
  {
   "cell_type": "code",
   "execution_count": null,
   "metadata": {},
   "outputs": [],
   "source": [
    "interactions.beam_phase(pulse, axicon)\n",
    "interactions.pulse_plasma(pulse, argon)"
   ]
  },
  {
   "cell_type": "code",
   "execution_count": null,
   "metadata": {},
   "outputs": [],
   "source": [
    "argon.plot_long_density_center()"
   ]
  },
  {
   "cell_type": "code",
   "execution_count": null,
   "metadata": {},
   "outputs": [],
   "source": [
    "ind = 255\n",
    "pulse.plot_tran_intensity_at(ind)\n",
    "pulse.plot_long_intensity_at(ind)"
   ]
  }
 ],
 "metadata": {
  "kernelspec": {
   "display_name": "CU-PWFA",
   "language": "python",
   "name": "cu-pwfa"
  },
  "language_info": {
   "codemirror_mode": {
    "name": "ipython",
    "version": 3
   },
   "file_extension": ".py",
   "mimetype": "text/x-python",
   "name": "python",
   "nbconvert_exporter": "python",
   "pygments_lexer": "ipython3",
   "version": "3.6.0"
  }
 },
 "nbformat": 4,
 "nbformat_minor": 2
}

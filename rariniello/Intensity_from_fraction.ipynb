{
 "cells": [
  {
   "cell_type": "code",
   "execution_count": 4,
   "metadata": {
    "collapsed": true
   },
   "outputs": [],
   "source": [
    "import sys\n",
    "sys.path.insert(0, \"../python\")\n",
    "\n",
    "from ionization import ionization\n",
    "from ionization import adk\n",
    "import numpy as np\n",
    "import matplotlib.pyplot as plt\n",
    "from scipy.interpolate import interp1d"
   ]
  },
  {
   "cell_type": "code",
   "execution_count": 12,
   "metadata": {
    "collapsed": false
   },
   "outputs": [],
   "source": [
    "# Test intensity_func\n",
    "def f(E, t):\n",
    "    return ionization.gaussian_field(E, t, 3*10**-1, 100).real\n",
    "\n",
    "I = np.arange(0, 5, .005)\n",
    "t = np.arange(-200, 200, 1)\n",
    "\n",
    "g = adk.intensity_func(13.5984, I, t, f, 1)\n",
    "\n",
    "# Test multidimensional input to ionization fraction\n",
    "tau = 100\n",
    "f = 3*10**-1\n",
    "\n",
    "def ionization_plot(EI, I, t, f, tau, Z, chirp=0):\n",
    "    IN = np.size(I)\n",
    "    fld = np.zeros(IN)\n",
    "    for x in range(0, IN):\n",
    "        Efld = abs(ionization.gaussian_field(I[x], t, f, tau).real)\n",
    "        fld[x] = adk.ionization_frac(EI, Efld, t, Z, 0, 0, False)\n",
    "    return fld\n",
    "\n",
    "H = ionization_plot(13.5984, I, t, f, tau, 1)\n",
    "gc = interp1d(H, I)"
   ]
  },
  {
   "cell_type": "code",
   "execution_count": 15,
   "metadata": {
    "collapsed": false
   },
   "outputs": [
    {
     "name": "stdout",
     "output_type": "stream",
     "text": [
      "4.995\n",
      "4.995\n"
     ]
    }
   ],
   "source": [
    "# Comparison to ensure these are doing the exact same thing\n",
    "frac = 1\n",
    "print(g(frac))\n",
    "print(gc(frac))"
   ]
  },
  {
   "cell_type": "code",
   "execution_count": 21,
   "metadata": {
    "collapsed": false
   },
   "outputs": [
    {
     "data": {
      "image/png": "[encoded data removed]",
      "text/plain": [
       "<matplotlib.figure.Figure at 0xa3aa978>"
      ]
     },
     "metadata": {},
     "output_type": "display_data"
    }
   ],
   "source": [
    "frac = np.arange(0, 1.001, 0.001)\n",
    "\n",
    "plt.plot(frac*100, g(frac), 'b-')\n",
    "plt.xlabel('Ionization %')\n",
    "plt.ylabel('Intensity ($10^{14}\\,\\mathrm{W/cm}^2$)')\n",
    "plt.title('Intensity vs. ionization %')\n",
    "plt.xlim([0, 100])\n",
    "plt.ylim([0, 2.5])\n",
    "plt.show()"
   ]
  }
 ],
 "metadata": {
  "kernelspec": {
   "display_name": "CU-PWFA",
   "language": "python",
   "name": "cu-pwfa"
  },
  "language_info": {
   "codemirror_mode": {
    "name": "ipython",
    "version": 3
   },
   "file_extension": ".py",
   "mimetype": "text/x-python",
   "name": "python",
   "nbconvert_exporter": "python",
   "pygments_lexer": "ipython3",
   "version": "3.6.0"
  }
 },
 "nbformat": 4,
 "nbformat_minor": 2
}

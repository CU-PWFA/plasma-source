{
 "cells": [
  {
   "cell_type": "code",
   "execution_count": null,
   "metadata": {
    "collapsed": true
   },
   "outputs": [],
   "source": [
    "import sys\n",
    "import os\n",
    "sys.path.insert(0, \"../../python\")\n",
    "\n",
    "import numpy as np\n",
    "from beam.beams import laserpulse\n",
    "from beam.beams import laserbeam\n",
    "from beam.elements import plasma\n",
    "from beam.elements import optic\n",
    "from beam import interactions\n",
    "from ionization import ionization\n",
    "from ionization import adk\n",
    "from lens import profile\n",
    "from lens import bessel\n",
    "from lens import ray\n",
    "import matplotlib.pyplot as plt\n",
    "from ionization import adk\n",
    "from scipy.interpolate import interp1d\n",
    "from scipy.optimize import newton\n",
    "\n",
    "path = '/mnt/md0/Data/rariniello/Filamentation/Spherical_Lens/'\n",
    "lam = 0.8\n",
    "tau = 35."
   ]
  },
  {
   "cell_type": "code",
   "execution_count": null,
   "metadata": {
    "collapsed": true
   },
   "outputs": [],
   "source": [
    "# Increase the dpi of the plots for these hi res sims\n",
    "import matplotlib.colors as colors\n",
    "def plot_laser_plasma(I, ne, ext):\n",
    "    plt.figure(figsize=(16, 4), dpi=300)\n",
    "    norm = colors.LogNorm(vmin=2, vmax=200)\n",
    "    plt.subplot(121)\n",
    "    plt.imshow(np.flipud(np.transpose(I)), aspect='auto', extent=ext, cmap='viridis', norm=norm)\n",
    "    #plt.imshow(np.flipud(np.transpose(I)), aspect='auto', extent=ext, cmap='viridis', vmax=100, vmin=0)\n",
    "    cb = plt.colorbar()\n",
    "    cb.set_label(r'Laser Intensity ($10^{14} W/cm^2$)')\n",
    "    plt.xlabel('z (mm)')\n",
    "    plt.ylabel(r'x ($\\mathrm{\\mu m}$)')\n",
    "    plt.ylim(-200, 200)\n",
    "\n",
    "    plt.subplot(122)\n",
    "    plt.imshow(np.flipud(np.transpose(ne)), aspect='auto', extent=ext, cmap='plasma')\n",
    "    cb = plt.colorbar()\n",
    "    cb.set_label(r'$n_e$ ($\\mathrm{cm^-3}$)')\n",
    "    plt.xlabel('$z$ (mm)')\n",
    "    plt.ylabel(r'$x$ ($\\mathrm{\\mu m}$)')\n",
    "    plt.ylim(-200, 200)\n",
    "    plt.tight_layout()\n",
    "    plt.show()\n",
    "    plt.savefig(path+'Ionization.png')\n",
    "plot_laser_plasma(I, ne, ext)"
   ]
  },
  {
   "cell_type": "code",
   "execution_count": null,
   "metadata": {
    "collapsed": true
   },
   "outputs": [],
   "source": []
  }
 ],
 "metadata": {
  "kernelspec": {
   "display_name": "CU-PWFA",
   "language": "python",
   "name": "cu-pwfa"
  },
  "language_info": {
   "codemirror_mode": {
    "name": "ipython",
    "version": 3
   },
   "file_extension": ".py",
   "mimetype": "text/x-python",
   "name": "python",
   "nbconvert_exporter": "python",
   "pygments_lexer": "ipython3",
   "version": "3.6.2"
  }
 },
 "nbformat": 4,
 "nbformat_minor": 2
}

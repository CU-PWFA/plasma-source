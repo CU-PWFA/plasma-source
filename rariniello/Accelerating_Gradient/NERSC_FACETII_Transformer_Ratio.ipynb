{
 "cells": [
  {
   "cell_type": "code",
   "execution_count": null,
   "metadata": {
    "collapsed": true
   },
   "outputs": [],
   "source": [
    "import sys\n",
    "sys.path.insert(0, \"../../python\")\n",
    "\n",
    "import os\n",
    "import numpy as np\n",
    "import matplotlib\n",
    "import matplotlib.pyplot as plt\n",
    "import matplotlib.gridspec as gridspec\n",
    "from vsim import plot\n",
    "from vsim import load\n",
    "from vsim import analyze\n",
    "import matplotlib.colors as colors\n",
    "plt.style.use('notes')\n",
    "from scipy.optimize import curve_fit\n",
    "import scipy.constants as const\n",
    "me = const.physical_constants['electron mass energy equivalent in MeV'][0]\n",
    "c = const.physical_constants['speed of light in vacuum'][0]\n",
    "e = const.physical_constants['elementary charge'][0]"
   ]
  },
  {
   "cell_type": "code",
   "execution_count": null,
   "metadata": {
    "collapsed": true
   },
   "outputs": [],
   "source": [
    "data = np.load('AcceleratingGradient.npy')"
   ]
  }
 ],
 "metadata": {
  "kernelspec": {
   "display_name": "CU-PWFA",
   "language": "python",
   "name": "cu-pwfa"
  },
  "language_info": {
   "codemirror_mode": {
    "name": "ipython",
    "version": 3
   },
   "file_extension": ".py",
   "mimetype": "text/x-python",
   "name": "python",
   "nbconvert_exporter": "python",
   "pygments_lexer": "ipython3",
   "version": "3.6.2"
  }
 },
 "nbformat": 4,
 "nbformat_minor": 2
}

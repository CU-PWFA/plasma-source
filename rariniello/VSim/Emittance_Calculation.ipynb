{
 "cells": [
  {
   "cell_type": "code",
   "execution_count": 1,
   "metadata": {
    "collapsed": true
   },
   "outputs": [],
   "source": [
    "import sys\n",
    "sys.path.insert(0, \"../../python\")\n",
    "\n",
    "import os\n",
    "import numpy as np\n",
    "from vsim import plot\n",
    "from vsim import load\n",
    "from vsim import analyze\n",
    "import matplotlib.pyplot as plt"
   ]
  },
  {
   "cell_type": "code",
   "execution_count": 2,
   "metadata": {
    "collapsed": true
   },
   "outputs": [],
   "source": [
    "path = '/media/robert/Data_Storage/VSim/PWFABase/'\n",
    "simName = 'PWFABase'\n",
    "params = {'drive' : 'rhoDrive',\n",
    "          'witness' : 'rhoWitness',\n",
    "          'plasma' : 'electrons',\n",
    "          'dumpInd' : 5,\n",
    "          'path' : path,\n",
    "          'simName' : simName,\n",
    "          'zoom' : 4.0,\n",
    "          'alphaCutoff' : 0.05\n",
    "          }"
   ]
  },
  {
   "cell_type": "code",
   "execution_count": 3,
   "metadata": {},
   "outputs": [
    {
     "name": "stdout",
     "output_type": "stream",
     "text": [
      "Emittance: 0.000366660476538 mm*mrad\n",
      "Gamma: 19558.4928553\n",
      "Normalized emittance: 7.17132631069 mm*mrad\n"
     ]
    }
   ],
   "source": [
    "fileName = plot.get_filename(path, simName, 'WitnessBeam', 0)\n",
    "data = load.get_species_data(fileName, 'WitnessBeam')\n",
    "# First extract the useful data and find the averages\n",
    "c = 299792458.\n",
    "y = data[:, 1]\n",
    "ux = data[:, 2]\n",
    "uy = data[:, 3]\n",
    "yp = uy / ux\n",
    "weights = data[:, 6]\n",
    "yAvg = np.average(y, weights=weights)\n",
    "ypAvg = np.average(yp, weights=weights)\n",
    "# Calculate the RMS values\n",
    "dy = y - yAvg\n",
    "dyp = yp - ypAvg\n",
    "sigmay2 = np.average(dy**2, weights=weights)\n",
    "sigmayp2 = np.average(dyp**2, weights=weights)\n",
    "sigmayyp = np.average(dy*dyp, weights=weights)\n",
    "# Calculate the straight emittance\n",
    "e = np.sqrt(sigmay2*sigmayp2 - sigmayyp**2)*1e6\n",
    "print('Emittance:', e, 'mm*mrad')\n",
    "gamma = np.sqrt(1 + (uy**2 + ux**2)/c**2)\n",
    "gammaAvg = np.average(gamma, weights=weights)\n",
    "print('Gamma:', gammaAvg)\n",
    "en = e*gammaAvg\n",
    "print('Normalized emittance:', en, 'mm*mrad')"
   ]
  },
  {
   "cell_type": "code",
   "execution_count": 7,
   "metadata": {},
   "outputs": [
    {
     "name": "stdout",
     "output_type": "stream",
     "text": [
      "Gamma: 19557.4900369\n",
      "Emittance: 0.000367199637043\n",
      "Normalized Emittance: 7.18150324303\n"
     ]
    }
   ],
   "source": [
    "fileName = plot.get_filename(path, simName, 'WitnessBeam', 1)\n",
    "data = load.get_species_data(fileName, 'WitnessBeam')\n",
    "gamma = analyze.get_gamma(data)\n",
    "e = analyze.get_emittance(data)\n",
    "en = analyze.get_normemittance(data)\n",
    "print('Gamma:', gamma)\n",
    "print('Emittance:', e)\n",
    "print('Normalized Emittance:', en)"
   ]
  }
 ],
 "metadata": {
  "kernelspec": {
   "display_name": "CU-PWFA",
   "language": "python",
   "name": "cu-pwfa"
  },
  "language_info": {
   "codemirror_mode": {
    "name": "ipython",
    "version": 3
   },
   "file_extension": ".py",
   "mimetype": "text/x-python",
   "name": "python",
   "nbconvert_exporter": "python",
   "pygments_lexer": "ipython3",
   "version": "3.6.0"
  }
 },
 "nbformat": 4,
 "nbformat_minor": 2
}

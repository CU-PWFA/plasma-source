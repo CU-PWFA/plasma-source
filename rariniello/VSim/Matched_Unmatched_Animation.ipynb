{
 "cells": [
  {
   "cell_type": "code",
   "execution_count": 1,
   "metadata": {
    "collapsed": true
   },
   "outputs": [],
   "source": [
    "import sys\n",
    "sys.path.insert(0, \"../../python\")\n",
    "\n",
    "import os\n",
    "import numpy as np\n",
    "from vsim import plot\n",
    "import matplotlib.pyplot as plt"
   ]
  },
  {
   "cell_type": "code",
   "execution_count": 2,
   "metadata": {},
   "outputs": [],
   "source": [
    "path = '/media/robert/Data_Storage/VSim/Transverse_Beam_Evolution_Movie/Unmatched/'\n",
    "simName = 'AccelGradient'\n",
    "params = {'species' : 'WitnessBeam',\n",
    "          'dumpInd' : 15,\n",
    "          'path' : path,\n",
    "          'simName' : simName,\n",
    "          'cutoff' : 20e-2,\n",
    "          'Nt' : 160,\n",
    "          'fps' : 25,\n",
    "          'xlim' : [-10, 10],\n",
    "          'ylim' : [-10, 10],\n",
    "          'cmap' : 'jet'\n",
    "          }\n",
    "plot.phase_space_animation(params)"
   ]
  },
  {
   "cell_type": "code",
   "execution_count": 3,
   "metadata": {
    "collapsed": true
   },
   "outputs": [],
   "source": [
    "plot.phase_space_energy_animation(params)"
   ]
  }
 ],
 "metadata": {
  "kernelspec": {
   "display_name": "CU-PWFA",
   "language": "python",
   "name": "cu-pwfa"
  },
  "language_info": {
   "codemirror_mode": {
    "name": "ipython",
    "version": 3
   },
   "file_extension": ".py",
   "mimetype": "text/x-python",
   "name": "python",
   "nbconvert_exporter": "python",
   "pygments_lexer": "ipython3",
   "version": "3.6.0"
  }
 },
 "nbformat": 4,
 "nbformat_minor": 2
}

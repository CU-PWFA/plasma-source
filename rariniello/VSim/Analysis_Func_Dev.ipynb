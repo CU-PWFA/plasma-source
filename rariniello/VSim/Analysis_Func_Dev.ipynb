{
 "cells": [
  {
   "cell_type": "code",
   "execution_count": 2,
   "metadata": {},
   "outputs": [
    {
     "name": "stdout",
     "output_type": "stream",
     "text": [
      "['/home/robert/VSim-8.1/Contents/engine/share/scripts', '../../python', '~/VSim-8.1/Contents/engine/share/scripts', '../../python', '', '/home/robert/anaconda3/envs/CU-PWFA/lib/python36.zip', '/home/robert/anaconda3/envs/CU-PWFA/lib/python3.6', '/home/robert/anaconda3/envs/CU-PWFA/lib/python3.6/lib-dynload', '/home/robert/anaconda3/envs/CU-PWFA/lib/python3.6/site-packages', '/home/robert/anaconda3/envs/CU-PWFA/lib/python3.6/site-packages/Sphinx-1.5.1-py3.6.egg', '/home/robert/anaconda3/envs/CU-PWFA/lib/python3.6/site-packages/setuptools-27.2.0-py3.6.egg', '/home/robert/anaconda3/envs/CU-PWFA/lib/python3.6/site-packages/IPython/extensions', '/home/robert/.ipython']\n"
     ]
    },
    {
     "ename": "SyntaxError",
     "evalue": "invalid syntax (VsHdf5.py, line 401)",
     "output_type": "error",
     "traceback": [
      "\u001b[0;36m  File \u001b[0;32m\"/home/robert/VSim-8.1/Contents/engine/share/scripts/VsHdf5.py\"\u001b[0;36m, line \u001b[0;32m401\u001b[0m\n\u001b[0;31m    debug('There are: ' + str(nAttributes) + ' attributes in the list of attributes for this object: ' + `list`)\u001b[0m\n\u001b[0m                                                                                                         ^\u001b[0m\n\u001b[0;31mSyntaxError\u001b[0m\u001b[0;31m:\u001b[0m invalid syntax\n"
     ]
    }
   ],
   "source": [
    "import sys\n",
    "sys.path.insert(0, \"../../python\")\n",
    "sys.path.insert(0, \"/home/robert/VSim-8.1/Contents/engine/share/scripts\") # Path to VSim scripts\n",
    "\n",
    "import os, glob\n",
    "print(sys.path)\n",
    "import VsHdf5\n",
    "import numpy as np\n",
    "import matplotlib.pyplot as plt"
   ]
  },
  {
   "cell_type": "code",
   "execution_count": null,
   "metadata": {
    "collapsed": true
   },
   "outputs": [],
   "source": [
    "# First load the data from VSim output files\n",
    "def load_species(path, simName, speciesName)\n",
    "    # Grab all the input files\n",
    "    files = glob.glob(path + simName + '_' + speciesName + '_*.h5')\n",
    "    if len(files) > 0:\n",
    "        #Things\n",
    "    else:\n",
    "        print('No files found matching the passed names.')\n",
    "    "
   ]
  }
 ],
 "metadata": {
  "kernelspec": {
   "display_name": "CU-PWFA",
   "language": "python",
   "name": "cu-pwfa"
  },
  "language_info": {
   "codemirror_mode": {
    "name": "ipython",
    "version": 3
   },
   "file_extension": ".py",
   "mimetype": "text/x-python",
   "name": "python",
   "nbconvert_exporter": "python",
   "pygments_lexer": "ipython3",
   "version": "3.6.0"
  }
 },
 "nbformat": 4,
 "nbformat_minor": 2
}

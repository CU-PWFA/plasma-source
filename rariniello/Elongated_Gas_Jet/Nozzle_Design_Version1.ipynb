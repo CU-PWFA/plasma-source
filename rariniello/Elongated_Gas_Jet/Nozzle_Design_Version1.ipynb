{
 "cells": [
  {
   "cell_type": "markdown",
   "metadata": {},
   "source": [
    "# Nozzle Design Version 1"
   ]
  },
  {
   "cell_type": "code",
   "execution_count": 1,
   "metadata": {
    "collapsed": true
   },
   "outputs": [],
   "source": [
    "import sys\n",
    "import os\n",
    "sys.path.insert(0, \"../../python\")\n",
    "\n",
    "import numpy as np\n",
    "import matplotlib.pyplot as plt"
   ]
  },
  {
   "cell_type": "markdown",
   "metadata": {},
   "source": [
    "This notebook calculates the 1D isentropic flow through a supersonic gas jet nozzle with a given area profile.\n",
    "\n",
    "The mach number is related to the area of the nozzle by\n",
    "$$\\frac{A}{A^*} = \\frac{1}{M}\\left(\\frac{2+(k-1)M^2}{1+k}\\right)^{(k+1)/[2(k-1)]},$$\n",
    "where $A^*$ is the throat area of the converging diverging nozzle. As an aside, in a sonic nozzle the above equation still works but the value of $A^*$ does not correspond to a physical area in the nozzle. Instead, it can be interpretted as the area the throat would have to be reduced to in order to form a supersonic nozzle. \n",
    "\n",
    "For the 1D isentropic flow approximation to be correct, the nozzle has to have smooth walls and thus the theory does not apply in the upstream reservoir or after the exit of the nozzle. The consequence of this is that the pressure at the entrance of the nozzle can be lower than the pressure of the reservoir and the pressure at the exit of the nozzle can be higher than the background pressure.\n",
    "\n",
    "Typically, the radius that includes 95% of the mass flow is used to measure the plume expansion on cylindrical gas jets. From Schmid and Veisz (2012) the expansion of this radius is typically linear leading to a $1/z^2$ reduction in gas density as the plume expands. Assuming a linear expansion in one direction for an elongated gas jet, the density should reduce as $1/z$ above the gas jet. They measured expansion cones half angles on the order of 30deg so the density should increase above the nozzle as\n",
    "$$\\rho = \\rho_e\\frac{1}{1+(2z\\sin\\theta)/w_e} = \\rho_e\\frac{1}{1+z/w},$$\n",
    "where $w$ is the width of the nozzle exit and $z$ is the distance above the nozzle exit.\n",
    "\n",
    "Bessel beam ionization optics require a beam stay clear 2cm in diameter meaning the plasma has to be formed at least 1cm above the exit of the nozzle. For repitition rate reasons, it is advantageous to reduce the gas flow rate through the nozzle and thus work as close to the nozzle exit as possible. The plasma is thus formed $z_p=1\\,\\mathrm{cm}$ above the exit of the nozzle. Assuming a hydrogen plasma, the plasma density is twice the gas density $n_{e0}=2\\rho$. Putting this together the gas density at the nozzle exit is given by\n",
    "$$\\rho_e = \\frac{1}{2}n_{e0}\\left(1+\\frac{z_p}{w_e}\\right).$$"
   ]
  },
  {
   "cell_type": "code",
   "execution_count": 4,
   "metadata": {},
   "outputs": [],
   "source": [
    "# Estimate the nozzle width and gas density required at the exit of the nozzle\n",
    "# for a target plasma density of n_e=3.5e16cm^-3 1cm above the nozzle\n",
    "# Assuming a hydrogen plasma, the plasma desnity is double the gas density\n",
    "z_p = 10 #mm\n",
    "n_e0 = 3.5e16 #cm^-3\n",
    "L = 400 #mm"
   ]
  },
  {
   "cell_type": "code",
   "execution_count": null,
   "metadata": {
    "collapsed": true
   },
   "outputs": [],
   "source": [
    "# The diverging part of the nozzle is a simple conical nozzle with angle alpha\n",
    "# The throat will be radiused with radius r_t and width w_t\n",
    "# The area ratio is equal to the width ratio of the nozzle"
   ]
  }
 ],
 "metadata": {
  "kernelspec": {
   "display_name": "CU-PWFA",
   "language": "python",
   "name": "cu-pwfa"
  },
  "language_info": {
   "codemirror_mode": {
    "name": "ipython",
    "version": 3
   },
   "file_extension": ".py",
   "mimetype": "text/x-python",
   "name": "python",
   "nbconvert_exporter": "python",
   "pygments_lexer": "ipython3",
   "version": "3.6.2"
  }
 },
 "nbformat": 4,
 "nbformat_minor": 2
}

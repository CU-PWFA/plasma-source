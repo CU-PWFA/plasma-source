{
 "cells": [
  {
   "cell_type": "code",
   "execution_count": null,
   "metadata": {
    "collapsed": true
   },
   "outputs": [],
   "source": [
    "import sys\n",
    "import os\n",
    "sys.path.insert(0, \"../../python\")\n",
    "\n",
    "import numpy as np\n",
    "from beam.beams import laserpulse\n",
    "from beam.beams import laserbeam\n",
    "from beam.elements import plasma\n",
    "from beam import interactions\n",
    "from ionization import ionization\n",
    "from lens import profile\n",
    "from lens import bessel\n",
    "from lens import ray\n",
    "import matplotlib.pyplot as plt\n",
    "\n",
    "path = '/media/robert/Data_Storage/Data/Ionization/SphericalAndRamp/Annular_Spherical/'\n",
    "lam = 0.8\n",
    "tau = 35."
   ]
  }
 ],
 "metadata": {
  "kernelspec": {
   "display_name": "CU-PWFA",
   "language": "python",
   "name": "cu-pwfa"
  },
  "language_info": {
   "codemirror_mode": {
    "name": "ipython",
    "version": 3
   },
   "file_extension": ".py",
   "mimetype": "text/x-python",
   "name": "python",
   "nbconvert_exporter": "python",
   "pygments_lexer": "ipython3",
   "version": "3.6.0"
  }
 },
 "nbformat": 4,
 "nbformat_minor": 2
}

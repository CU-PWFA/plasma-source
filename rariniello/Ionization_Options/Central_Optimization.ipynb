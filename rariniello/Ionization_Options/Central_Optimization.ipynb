{
 "cells": [
  {
   "cell_type": "code",
   "execution_count": 1,
   "metadata": {
    "collapsed": true
   },
   "outputs": [],
   "source": [
    "import sys\n",
    "import os\n",
    "sys.path.insert(0, \"../../python\")\n",
    "\n",
    "import numpy as np\n",
    "from beam.beams import laserpulse\n",
    "from beam.beams import laserbeam\n",
    "from beam.elements import plasma\n",
    "from beam import interactions\n",
    "from ionization import ionization\n",
    "from lens import profile\n",
    "from lens import bessel\n",
    "from lens import ray\n",
    "import matplotlib.pyplot as plt\n",
    "\n",
    "path = '/media/robert/Data_Storage/Data/Ionization/Central_Optimization/Over_Intense_Plateau_alpha0.75/'\n",
    "lam = 0.8\n",
    "tau = 35.\n",
    "alpha = 0.75"
   ]
  },
  {
   "cell_type": "code",
   "execution_count": 2,
   "metadata": {},
   "outputs": [
    {
     "data": {
      "image/png": "[encoded data removed]",
      "text/plain": [
       "<matplotlib.figure.Figure at 0x7f7c6f996860>"
      ]
     },
     "metadata": {},
     "output_type": "display_data"
    }
   ],
   "source": [
    "# Create the desired intensity profile\n",
    "ion = {'atom' : ionization.Ar,\n",
    "       'tau' : tau,\n",
    "       'type' : 'gaussian'}\n",
    "z0 = 0.75e6\n",
    "zf = 100e6\n",
    "dz = 0.5e6\n",
    "sigmaIn = 15e4\n",
    "sigmaOut = 15e4\n",
    "N = 100000\n",
    "z, I = profile.smoothed_gaussian_ramps(z0, dz, sigmaIn, sigmaOut, ion, N, zf)\n",
    "\n",
    "n = 5\n",
    "Imax = np.amax(I)\n",
    "sel = I > 0.999*Imax\n",
    "flattop = I[sel]\n",
    "zc = 0.5*(z[sel][-1] + z[sel][0])\n",
    "w = (z[sel][0] - zc)**(2*n)/0.693\n",
    "I[sel] += alpha*Imax*(np.exp(-(z[sel] - zc)**(2*n)/w)-0.5)\n",
    "\n",
    "plt.plot(z/1e6, I, 'b', [0, 2], [Imax, Imax], 'm')\n",
    "plt.xlim([0, 2])\n",
    "plt.title('On axis intensity profile')\n",
    "plt.xlabel('z (m)')\n",
    "plt.ylabel(r'I ($10^{14}\\,W/cm^3$)')\n",
    "plt.legend(['Super-Gaussian', 'Original flattop'])\n",
    "plt.show()"
   ]
  },
  {
   "cell_type": "code",
   "execution_count": 3,
   "metadata": {
    "collapsed": true
   },
   "outputs": [],
   "source": [
    "params = {\n",
    "    'Nr' : 5000,\n",
    "    'R' : 20e3,\n",
    "    'w' : 140,\n",
    "    'lam' : lam\n",
    "}\n",
    "r, E = bessel.bessel_expansion(params, z, I)"
   ]
  },
  {
   "cell_type": "code",
   "execution_count": null,
   "metadata": {
    "collapsed": true
   },
   "outputs": [],
   "source": [
    "pulseParams = {\n",
    "    'Nx' : 2**11,\n",
    "    'Ny' : 2**11,\n",
    "    'Nt' : 2**6,\n",
    "    'X' : 20e3,\n",
    "    'Y' : 20e3,\n",
    "    'T' : 3*tau,\n",
    "    'lam' : lam,\n",
    "    'path' : path,\n",
    "    'load' : False,\n",
    "    'threads' : 4,\n",
    "    'cyl' : True,\n",
    "    'tau' : tau,\n",
    "    'order' : 0,\n",
    "    'r' : r,\n",
    "    'E' : E\n",
    "}\n",
    "\n",
    "plasmaParams = {\n",
    "    'Nx' : pulseParams['Nx'],\n",
    "    'Ny' : pulseParams['Ny'],\n",
    "    'Nz' : 2**8,\n",
    "    'X' : pulseParams['X'],\n",
    "    'Y' : pulseParams['Y'],\n",
    "    'Z' : 2.0e6, \n",
    "    'n0' : 0.1,\n",
    "    'atom' : ionization.Ar,\n",
    "    'path' : path,\n",
    "    'load' : False,\n",
    "    'cyl' : True\n",
    "}"
   ]
  },
  {
   "cell_type": "code",
   "execution_count": null,
   "metadata": {
    "collapsed": true
   },
   "outputs": [],
   "source": [
    "pulseParams['name'] = 'J0Pulse'\n",
    "pulse = laserpulse.RadialPulse(pulseParams)\n",
    "plasmaParams['name'] = 'J0Plasma'\n",
    "argon = plasma.UniformPlasma(plasmaParams)\n",
    "interactions.pulse_plasma(pulse, argon)"
   ]
  },
  {
   "cell_type": "code",
   "execution_count": null,
   "metadata": {},
   "outputs": [],
   "source": [
    "argon.plot_long_density_center(lim=[-500, 500])"
   ]
  },
  {
   "cell_type": "code",
   "execution_count": null,
   "metadata": {},
   "outputs": [],
   "source": [
    "argon.plot_profiles(5, 25, xlim=[-250, 250])"
   ]
  }
 ],
 "metadata": {
  "kernelspec": {
   "display_name": "CU-PWFA",
   "language": "python",
   "name": "cu-pwfa"
  },
  "language_info": {
   "codemirror_mode": {
    "name": "ipython",
    "version": 3
   },
   "file_extension": ".py",
   "mimetype": "text/x-python",
   "name": "python",
   "nbconvert_exporter": "python",
   "pygments_lexer": "ipython3",
   "version": "3.6.0"
  }
 },
 "nbformat": 4,
 "nbformat_minor": 2
}

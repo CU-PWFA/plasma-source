{
 "cells": [
  {
   "cell_type": "code",
   "execution_count": 6,
   "metadata": {},
   "outputs": [
    {
     "name": "stdout",
     "output_type": "stream",
     "text": [
      "[ 38.06048298  40.76851749  38.16048408  36.69049716  35.0375452\n",
      "  35.58967423  34.99386764  34.51403642  33.28622937  33.39833713\n",
      "  34.39839864  34.27050972  34.28260756  33.81471634]\n",
      "35.5189931393\n"
     ]
    }
   ],
   "source": [
    "import os\n",
    "import numpy as np\n",
    "N = 15\n",
    "time = np.zeros(N, dtype='double')\n",
    "for i in range(0, N):\n",
    "    time[i] = os.path.getmtime('Test/elements/element_Plasma/Plasma_plasmaDensity_'+str(i)+'.npy')\n",
    "print(np.diff(time))\n",
    "print(np.average(np.diff(time)))"
   ]
  }
 ],
 "metadata": {
  "kernelspec": {
   "display_name": "CU-PWFA",
   "language": "python",
   "name": "cu-pwfa"
  },
  "language_info": {
   "codemirror_mode": {
    "name": "ipython",
    "version": 3
   },
   "file_extension": ".py",
   "mimetype": "text/x-python",
   "name": "python",
   "nbconvert_exporter": "python",
   "pygments_lexer": "ipython3",
   "version": "3.6.0"
  }
 },
 "nbformat": 4,
 "nbformat_minor": 2
}

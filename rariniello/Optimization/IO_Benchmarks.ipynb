{
 "cells": [
  {
   "cell_type": "code",
   "execution_count": 1,
   "metadata": {},
   "outputs": [],
   "source": [
    "# Benchmarking reading and writing large files\n",
    "import sys\n",
    "import os\n",
    "sys.path.insert(0, \"../../python\")\n",
    "\n",
    "import cProfile\n",
    "%load_ext line_profiler\n",
    "from line_profiler import LineProfiler\n",
    "%load_ext memory_profiler\n",
    "\n",
    "import h5py\n",
    "import numpy as np\n",
    "\n",
    "slowPath = '/media/robert/Data_Storage/Data/Optimization/IO_Benchmarks/'\n",
    "fastPath = 'IO_Benchmarks/'\n",
    "if not os.path.exists(slowPath):\n",
    "    os.makedirs(slowPath)\n",
    "if not os.path.exists(fastPath):\n",
    "    os.makedirs(fastPath)"
   ]
  },
  {
   "cell_type": "code",
   "execution_count": 2,
   "metadata": {},
   "outputs": [
    {
     "name": "stdout",
     "output_type": "stream",
     "text": [
      "1 loop, best of 3: 12.3 s per loop\n",
      "1 loop, best of 3: 12.2 s per loop\n"
     ]
    }
   ],
   "source": [
    "# Create a big array of random data\n",
    "Nx = 2**14\n",
    "Ny = 2**14\n",
    "data = np.random.rand(Nx, Ny)\n",
    "%timeit np.save(slowPath+'numpy.npy', data)\n",
    "# Create h5py stuff\n",
    "f = h5py.File(slowPath+'h5py.h5', \"w\")\n",
    "dset = f.create_dataset(\"mydataset\", (Nx, Ny), dtype='double')\n",
    "%timeit dset[:] = data"
   ]
  }
 ],
 "metadata": {
  "kernelspec": {
   "display_name": "CU-PWFA",
   "language": "python",
   "name": "cu-pwfa"
  },
  "language_info": {
   "codemirror_mode": {
    "name": "ipython",
    "version": 3
   },
   "file_extension": ".py",
   "mimetype": "text/x-python",
   "name": "python",
   "nbconvert_exporter": "python",
   "pygments_lexer": "ipython3",
   "version": "3.6.0"
  }
 },
 "nbformat": 4,
 "nbformat_minor": 2
}

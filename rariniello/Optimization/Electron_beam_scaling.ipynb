{
 "cells": [
  {
   "cell_type": "code",
   "execution_count": 1,
   "metadata": {
    "collapsed": true
   },
   "outputs": [],
   "source": [
    "import sys\n",
    "import os\n",
    "sys.path.insert(0, \"../../python\")\n",
    "\n",
    "import numpy as np\n",
    "from beam.beams import electronbeam\n",
    "from beam.elements import plasma\n",
    "import matplotlib.pyplot as plt\n",
    "from beam import interactions\n",
    "from ionization import ionization\n",
    "from lens import profile\n",
    "\n",
    "path = '/mnt/md0/Data/Tests/Beam_Scaling/'"
   ]
  },
  {
   "cell_type": "code",
   "execution_count": 2,
   "metadata": {
    "collapsed": true
   },
   "outputs": [],
   "source": [
    "# Now we can create a very simple plasma and propagate the beam through it\n",
    "Nx = 50\n",
    "Ny = 50\n",
    "Nz = 256\n",
    "def dgammadz(ne):\n",
    "    return 0.0\n",
    "plasmaParams ={\n",
    "    'name' : 'TestPlasma',\n",
    "    'path' : path,\n",
    "    'load' : False,\n",
    "    'Nx' : Nx,\n",
    "    'Ny' : Ny,\n",
    "    'Nz' : Nz,\n",
    "    'X' : 100,\n",
    "    'Y' : 100,\n",
    "    'Z' : 2e6,\n",
    "    'n0' : 0.1,\n",
    "    'atom' : ionization.Ar,\n",
    "    'cyl' : False,\n",
    "    'dgammadz' : dgammadz\n",
    "}\n",
    "\n",
    "argon = plasma.Plasma(plasmaParams)\n",
    "n = plasmaParams['n0']*np.ones((Nx, Ny, Nz), dtype='double')\n",
    "ne = np.zeros((Nx, Ny, Nz), dtype='double')\n",
    "ne[int(Nx/2), int(Ny/2), :] = plasmaParams['n0']*profile.plasma_gaussian_ramps(0.75e6, 0.5e6, 12e4, 12e4, Nz,\n",
    "                                                                               plasmaParams['Z'])[1]\n",
    "argon.initialize_plasma(n, ne)"
   ]
  },
  {
   "cell_type": "code",
   "execution_count": 3,
   "metadata": {
    "collapsed": true
   },
   "outputs": [],
   "source": [
    "electronParams = {\n",
    "    'name' : 'TestBeam',\n",
    "    'path' : path,\n",
    "    'load' : False,\n",
    "    'N' : 100000,\n",
    "    'gamma' : 20000,\n",
    "    'emittance' : 5e-6,\n",
    "    'betax' : 0.10,\n",
    "    'betay' : 0.10,\n",
    "    'alphax' : 0.0,\n",
    "    'alphay' : 0.0,\n",
    "    'sigmaz' : 5e-6,\n",
    "    'dE' : 0.01\n",
    "}"
   ]
  },
  {
   "cell_type": "code",
   "execution_count": 4,
   "metadata": {},
   "outputs": [
    {
     "name": "stdout",
     "output_type": "stream",
     "text": [
      "[40 40 40 40 40 40 40 40 40 40 40]\n"
     ]
    }
   ],
   "source": [
    "m = 50\n",
    "N = 50000\n",
    "threads = np.linspace(40, 40, 11, dtype='int')\n",
    "#threads[0] = 1\n",
    "print(threads)\n",
    "dumpPeriod = N / m"
   ]
  },
  {
   "cell_type": "code",
   "execution_count": 5,
   "metadata": {},
   "outputs": [
    {
     "name": "stdout",
     "output_type": "stream",
     "text": [
      "Threads: 40 Average: 0.243596149951 Median: 0.192003488541\n",
      "Threads: 40 Average: 0.20335050505 Median: 0.196003437042\n",
      "Threads: 40 Average: 0.220901805527 Median: 0.204003572464\n",
      "Threads: 40 Average: 0.21845275042 Median: 0.204003572464\n",
      "Threads: 40 Average: 0.213799578803 Median: 0.212003469467\n",
      "Threads: 40 Average: 0.254208389594 Median: 0.220003843307\n",
      "Threads: 40 Average: 0.217391413085 Median: 0.212003469467\n",
      "Threads: 40 Average: 0.259432889977 Median: 0.232003688812\n",
      "Threads: 40 Average: 0.238452916243 Median: 0.212003469467\n",
      "Threads: 40 Average: 0.209472821683 Median: 0.208003520966\n",
      "Threads: 40 Average: 0.212738153886 Median: 0.212003231049\n"
     ]
    }
   ],
   "source": [
    "for i in range(11):\n",
    "    beam = electronbeam.GaussianElectronBeam(electronParams)\n",
    "    interactions.electron_plasma(beam, argon, np.linspace(0, plasmaParams['Z'], N), dumpPeriod, threads[i])\n",
    "    time = np.zeros(m, dtype='double')\n",
    "    for j in range(0, m):\n",
    "        time[j] = os.path.getmtime(path+'beams/beam_TestBeam/TestBeam_ptcls_'+str(j)+'.npy')\n",
    "    print('Threads:', threads[i], 'Average:', np.average(np.diff(time)), 'Median:', np.median(np.diff(time)))"
   ]
  },
  {
   "cell_type": "code",
   "execution_count": 6,
   "metadata": {},
   "outputs": [
    {
     "name": "stdout",
     "output_type": "stream",
     "text": [
      "         176349 function calls (174309 primitive calls) in 12.117 seconds\n",
      "\n",
      "   Ordered by: standard name\n",
      "\n",
      "   ncalls  tottime  percall  cumtime  percall filename:lineno(function)\n",
      "      355    0.000    0.000    0.001    0.000 <frozen importlib._bootstrap>:989(_handle_fromlist)\n",
      "    49999    0.012    0.000    0.012    0.000 <ipython-input-2-d1ca8247403a>:5(dgammadz)\n",
      "        1    0.000    0.000   12.117   12.117 <string>:1(<module>)\n",
      "     7050    0.004    0.000    0.008    0.000 <string>:12(__new__)\n",
      "      256    0.000    0.000    0.003    0.000 _methods.py:40(_all)\n",
      "      255    0.000    0.000    0.011    0.000 ast.py:30(parse)\n",
      "      255    0.001    0.000    0.022    0.000 ast.py:40(literal_eval)\n",
      " 2295/255    0.006    0.000    0.010    0.000 ast.py:51(_convert)\n",
      "     1020    0.001    0.000    0.007    0.000 ast.py:65(<genexpr>)\n",
      "       50    0.001    0.000    0.288    0.006 electronbeam.py:79(save_ptcls)\n",
      "       50    0.000    0.000    0.029    0.001 electronbeam.py:86(save_z)\n",
      "        1    0.000    0.000    0.000    0.000 fitpack.py:318(splrep)\n",
      "        1    0.000    0.000    0.002    0.002 fitpack.py:527(splev)\n",
      "      355    0.000    0.000    0.000    0.000 format.py:171(_check_version)\n",
      "      100    0.000    0.000    0.000    0.000 format.py:176(magic)\n",
      "      255    0.001    0.000    0.002    0.000 format.py:201(read_magic)\n",
      "      100    0.000    0.000    0.000    0.000 format.py:223(dtype_to_descr)\n",
      "      100    0.000    0.000    0.001    0.000 format.py:255(header_data_from_array_1_0)\n",
      "      100    0.002    0.000    0.042    0.000 format.py:282(_write_array_header)\n",
      "      355    0.011    0.000    0.131    0.000 format.py:425(_filter_header)\n",
      "      255    0.005    0.000    0.130    0.001 format.py:463(_read_array_header)\n",
      "      255    0.000    0.000    0.001    0.000 format.py:503(<listcomp>)\n",
      "      100    0.001    0.000    0.278    0.003 format.py:517(write_array)\n",
      "      255    0.002    0.000    0.148    0.001 format.py:595(read_array)\n",
      "      765    0.002    0.000    0.003    0.000 format.py:797(_read_bytes)\n",
      "        1    0.000    0.000    0.000    0.000 fromnumeric.py:1549(shape)\n",
      "      256    0.001    0.000    0.006    0.000 fromnumeric.py:1953(all)\n",
      "        1    0.000    0.000    0.000    0.000 function_base.py:13(_index_deprecate)\n",
      "        1    0.000    0.000    0.000    0.000 function_base.py:25(linspace)\n",
      "        1    0.000    0.000   12.117   12.117 interactions.py:69(electron_plasma)\n",
      "      255    0.005    0.000    0.166    0.001 npyio.py:266(load)\n",
      "      100    0.001    0.000    0.287    0.003 npyio.py:435(save)\n",
      "        1    0.000    0.000    0.000    0.000 numeric.py:150(ones)\n",
      "        1    0.000    0.000    0.000    0.000 numeric.py:463(asarray)\n",
      "      361    0.000    0.000    0.004    0.000 numeric.py:534(asanyarray)\n",
      "        1    0.002    0.002    0.171    0.171 plasma.py:104(get_ne)\n",
      "      255    0.002    0.000    0.167    0.001 plasma.py:149(load_plasma_density)\n",
      "      355    0.001    0.000    0.001    0.000 py3k.py:32(asbytes)\n",
      "      355    0.000    0.000    0.001    0.000 py3k.py:37(asstr)\n",
      "      355    0.001    0.000    0.001    0.000 py3k.py:42(isfileobj)\n",
      "     6695    0.004    0.000    0.010    0.000 re.py:231(compile)\n",
      "     6695    0.006    0.000    0.006    0.000 re.py:286(_compile)\n",
      "        3    0.000    0.000    0.000    0.000 shape_base.py:9(atleast_1d)\n",
      "     6695    0.006    0.000    0.015    0.000 tokenize.py:152(_compile)\n",
      "      355    0.001    0.000    0.001    0.000 tokenize.py:224(__init__)\n",
      "     6695    0.008    0.000    0.009    0.000 tokenize.py:230(add_whitespace)\n",
      "      355    0.019    0.000    0.031    0.000 tokenize.py:243(untokenize)\n",
      "      355    0.001    0.000    0.032    0.000 tokenize.py:317(untokenize)\n",
      "     7405    0.035    0.000    0.083    0.000 tokenize.py:492(_tokenize)\n",
      "      355    0.000    0.000    0.000    0.000 tokenize.py:729(generate_tokens)\n",
      "      255    0.001    0.000    0.023    0.000 utils.py:1076(safe_eval)\n",
      "        1   11.645   11.645   11.946   11.946 {beam.calc.electron.electron_propagation_plasma}\n",
      "     7050    0.004    0.000    0.004    0.000 {built-in method __new__ of type object at 0x7f495cb455c0}\n",
      "        1    0.000    0.000    0.000    0.000 {built-in method _operator.index}\n",
      "      100    0.000    0.000    0.000    0.000 {built-in method _struct.pack}\n",
      "      255    0.000    0.000    0.000    0.000 {built-in method _struct.unpack}\n",
      "      255    0.010    0.000    0.010    0.000 {built-in method builtins.compile}\n",
      "        1    0.000    0.000   12.117   12.117 {built-in method builtins.exec}\n",
      "      355    0.001    0.000    0.001    0.000 {built-in method builtins.hasattr}\n",
      "    11620    0.004    0.000    0.004    0.000 {built-in method builtins.isinstance}\n",
      "      355    0.000    0.000    0.000    0.000 {built-in method builtins.iter}\n",
      "    11795    0.002    0.000    0.002    0.000 {built-in method builtins.len}\n",
      "      101    0.000    0.000    0.000    0.000 {built-in method builtins.max}\n",
      "      255    0.000    0.000    0.000    0.000 {built-in method builtins.min}\n",
      "      300    0.000    0.000    0.000    0.000 {built-in method builtins.repr}\n",
      "      355    0.001    0.000    0.001    0.000 {built-in method builtins.sorted}\n",
      "      355    0.009    0.000    0.009    0.000 {built-in method io.open}\n",
      "        1    0.000    0.000    0.000    0.000 {built-in method numpy.core.multiarray.arange}\n",
      "      362    0.003    0.000    0.003    0.000 {built-in method numpy.core.multiarray.array}\n",
      "        1    0.000    0.000    0.000    0.000 {built-in method numpy.core.multiarray.copyto}\n",
      "        4    0.000    0.000    0.000    0.000 {built-in method numpy.core.multiarray.empty}\n",
      "      255    0.009    0.000    0.009    0.000 {built-in method numpy.core.multiarray.fromfile}\n",
      "        1    0.000    0.000    0.000    0.000 {built-in method numpy.core.multiarray.result_type}\n",
      "        1    0.000    0.000    0.000    0.000 {built-in method numpy.core.multiarray.zeros}\n",
      "        1    0.002    0.002    0.002    0.002 {built-in method scipy.interpolate._fitpack._spl_}\n",
      "      256    0.000    0.000    0.003    0.000 {method 'all' of 'numpy.ndarray' objects}\n",
      "    16988    0.003    0.000    0.003    0.000 {method 'append' of 'list' objects}\n",
      "        1    0.000    0.000    0.000    0.000 {method 'astype' of 'numpy.ndarray' objects}\n",
      "      255    0.002    0.000    0.002    0.000 {method 'close' of '_io.BufferedReader' objects}\n",
      "      100    0.002    0.000    0.002    0.000 {method 'close' of '_io.BufferedWriter' objects}\n",
      "      255    0.000    0.000    0.000    0.000 {method 'decode' of 'bytes' objects}\n",
      "        1    0.000    0.000    0.000    0.000 {method 'disable' of '_lsprof.Profiler' objects}\n",
      "      355    0.000    0.000    0.000    0.000 {method 'encode' of 'str' objects}\n",
      "      100    0.000    0.000    0.000    0.000 {method 'endswith' of 'str' objects}\n",
      "     4260    0.001    0.000    0.001    0.000 {method 'isidentifier' of 'str' objects}\n",
      "      100    0.000    0.000    0.000    0.000 {method 'items' of 'dict' objects}\n",
      "      455    0.000    0.000    0.000    0.000 {method 'join' of 'str' objects}\n",
      "      255    0.000    0.000    0.000    0.000 {method 'keys' of 'dict' objects}\n",
      "     6695    0.021    0.000    0.021    0.000 {method 'match' of '_sre.SRE_Pattern' objects}\n",
      "        1    0.000    0.000    0.000    0.000 {method 'ravel' of 'numpy.ndarray' objects}\n",
      "     1020    0.002    0.000    0.002    0.000 {method 'read' of '_io.BufferedReader' objects}\n",
      "      710    0.000    0.000    0.000    0.000 {method 'read' of '_io.StringIO' objects}\n",
      "      511    0.006    0.000    0.006    0.000 {method 'reduce' of 'numpy.ufunc' objects}\n",
      "        1    0.000    0.000    0.000    0.000 {method 'reshape' of 'numpy.ndarray' objects}\n",
      "      255    0.000    0.000    0.000    0.000 {method 'seek' of '_io.BufferedReader' objects}\n",
      "     6695    0.003    0.000    0.003    0.000 {method 'span' of '_sre.SRE_Match' objects}\n",
      "      255    0.003    0.000    0.003    0.000 {method 'startswith' of 'bytes' objects}\n",
      "      100    0.234    0.002    0.234    0.002 {method 'tofile' of 'numpy.ndarray' objects}\n",
      "      200    0.000    0.000    0.000    0.000 {method 'write' of '_io.BufferedWriter' objects}\n",
      "\n",
      "\n"
     ]
    }
   ],
   "source": [
    "import cProfile\n",
    "cProfile.run('interactions.electron_plasma(beam, argon, np.linspace(0, plasmaParams[\"Z\"], N), dumpPeriod, 40)')"
   ]
  }
 ],
 "metadata": {
  "kernelspec": {
   "display_name": "CU-PWFA",
   "language": "python",
   "name": "cu-pwfa"
  },
  "language_info": {
   "codemirror_mode": {
    "name": "ipython",
    "version": 3
   },
   "file_extension": ".py",
   "mimetype": "text/x-python",
   "name": "python",
   "nbconvert_exporter": "python",
   "pygments_lexer": "ipython3",
   "version": "3.6.0"
  }
 },
 "nbformat": 4,
 "nbformat_minor": 2
}

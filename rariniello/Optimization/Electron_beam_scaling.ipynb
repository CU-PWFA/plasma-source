{
 "cells": [
  {
   "cell_type": "code",
   "execution_count": 1,
   "metadata": {
    "collapsed": true
   },
   "outputs": [],
   "source": [
    "import sys\n",
    "import os\n",
    "sys.path.insert(0, \"../../python\")\n",
    "\n",
    "import numpy as np\n",
    "from beam.beams import electronbeam\n",
    "from beam.elements import plasma\n",
    "import matplotlib.pyplot as plt\n",
    "from beam import interactions\n",
    "from ionization import ionization\n",
    "from lens import profile\n",
    "\n",
    "path = '/mnt/md0/Data/Tests/Beam_Scaling/'"
   ]
  },
  {
   "cell_type": "code",
   "execution_count": 2,
   "metadata": {
    "collapsed": true
   },
   "outputs": [],
   "source": [
    "# Now we can create a very simple plasma and propagate the beam through it\n",
    "Nx = 50\n",
    "Ny = 50\n",
    "Nz = 256\n",
    "def dgammadz(ne):\n",
    "    return 0.0\n",
    "plasmaParams ={\n",
    "    'name' : 'TestPlasma',\n",
    "    'path' : path,\n",
    "    'load' : False,\n",
    "    'Nx' : Nx,\n",
    "    'Ny' : Ny,\n",
    "    'Nz' : Nz,\n",
    "    'X' : 100,\n",
    "    'Y' : 100,\n",
    "    'Z' : 2e6,\n",
    "    'n0' : 0.1,\n",
    "    'atom' : ionization.Ar,\n",
    "    'cyl' : False,\n",
    "    'dgammadz' : dgammadz\n",
    "}\n",
    "\n",
    "argon = plasma.Plasma(plasmaParams)\n",
    "n = plasmaParams['n0']*np.ones((Nx, Ny, Nz), dtype='double')\n",
    "ne = np.zeros((Nx, Ny, Nz), dtype='double')\n",
    "ne[int(Nx/2), int(Ny/2), :] = plasmaParams['n0']*profile.plasma_gaussian_ramps(0.75e6, 0.5e6, 12e4, 12e4, Nz,\n",
    "                                                                               plasmaParams['Z'])[1]\n",
    "argon.initialize_plasma(n, ne)"
   ]
  },
  {
   "cell_type": "code",
   "execution_count": 3,
   "metadata": {
    "collapsed": true
   },
   "outputs": [],
   "source": [
    "electronParams = {\n",
    "    'name' : 'TestBeam',\n",
    "    'path' : path,\n",
    "    'load' : False,\n",
    "    'N' : 100000,\n",
    "    'gamma' : 20000,\n",
    "    'emittance' : 5e-6,\n",
    "    'betax' : 0.10,\n",
    "    'betay' : 0.10,\n",
    "    'alphax' : 0.0,\n",
    "    'alphay' : 0.0,\n",
    "    'sigmaz' : 5e-6,\n",
    "    'dE' : 0.01\n",
    "}"
   ]
  },
  {
   "cell_type": "code",
   "execution_count": 4,
   "metadata": {},
   "outputs": [
    {
     "name": "stdout",
     "output_type": "stream",
     "text": [
      "[ 1  4  8 12 16 20 24 28 32 36 40]\n"
     ]
    }
   ],
   "source": [
    "m = 50\n",
    "N = 50000\n",
    "threads = np.linspace(0, 40, 11, dtype='int')\n",
    "threads[0] = 1\n",
    "print(threads)\n",
    "dumpPeriod = N / m"
   ]
  },
  {
   "cell_type": "code",
   "execution_count": 5,
   "metadata": {},
   "outputs": [
    {
     "ename": "KeyboardInterrupt",
     "evalue": "",
     "output_type": "error",
     "traceback": [
      "\u001b[0;31m---------------------------------------------------------------------------\u001b[0m",
      "\u001b[0;31mKeyboardInterrupt\u001b[0m                         Traceback (most recent call last)",
      "\u001b[0;32m<ipython-input-5-9f68cc9f6179>\u001b[0m in \u001b[0;36m<module>\u001b[0;34m()\u001b[0m\n\u001b[1;32m      1\u001b[0m \u001b[0;32mfor\u001b[0m \u001b[0mi\u001b[0m \u001b[0;32min\u001b[0m \u001b[0mrange\u001b[0m\u001b[0;34m(\u001b[0m\u001b[0;36m11\u001b[0m\u001b[0;34m)\u001b[0m\u001b[0;34m:\u001b[0m\u001b[0;34m\u001b[0m\u001b[0m\n\u001b[1;32m      2\u001b[0m     \u001b[0mbeam\u001b[0m \u001b[0;34m=\u001b[0m \u001b[0melectronbeam\u001b[0m\u001b[0;34m.\u001b[0m\u001b[0mGaussianElectronBeam\u001b[0m\u001b[0;34m(\u001b[0m\u001b[0melectronParams\u001b[0m\u001b[0;34m)\u001b[0m\u001b[0;34m\u001b[0m\u001b[0m\n\u001b[0;32m----> 3\u001b[0;31m     \u001b[0minteractions\u001b[0m\u001b[0;34m.\u001b[0m\u001b[0melectron_plasma\u001b[0m\u001b[0;34m(\u001b[0m\u001b[0mbeam\u001b[0m\u001b[0;34m,\u001b[0m \u001b[0margon\u001b[0m\u001b[0;34m,\u001b[0m \u001b[0mnp\u001b[0m\u001b[0;34m.\u001b[0m\u001b[0mlinspace\u001b[0m\u001b[0;34m(\u001b[0m\u001b[0;36m0\u001b[0m\u001b[0;34m,\u001b[0m \u001b[0mplasmaParams\u001b[0m\u001b[0;34m[\u001b[0m\u001b[0;34m'Z'\u001b[0m\u001b[0;34m]\u001b[0m\u001b[0;34m,\u001b[0m \u001b[0mN\u001b[0m\u001b[0;34m)\u001b[0m\u001b[0;34m,\u001b[0m \u001b[0mdumpPeriod\u001b[0m\u001b[0;34m,\u001b[0m \u001b[0mthreads\u001b[0m\u001b[0;34m[\u001b[0m\u001b[0mi\u001b[0m\u001b[0;34m]\u001b[0m\u001b[0;34m)\u001b[0m\u001b[0;34m\u001b[0m\u001b[0m\n\u001b[0m\u001b[1;32m      4\u001b[0m     \u001b[0mtime\u001b[0m \u001b[0;34m=\u001b[0m \u001b[0mnp\u001b[0m\u001b[0;34m.\u001b[0m\u001b[0mzeros\u001b[0m\u001b[0;34m(\u001b[0m\u001b[0mm\u001b[0m\u001b[0;34m,\u001b[0m \u001b[0mdtype\u001b[0m\u001b[0;34m=\u001b[0m\u001b[0;34m'double'\u001b[0m\u001b[0;34m)\u001b[0m\u001b[0;34m\u001b[0m\u001b[0m\n\u001b[1;32m      5\u001b[0m     \u001b[0;32mfor\u001b[0m \u001b[0mj\u001b[0m \u001b[0;32min\u001b[0m \u001b[0mrange\u001b[0m\u001b[0;34m(\u001b[0m\u001b[0;36m0\u001b[0m\u001b[0;34m,\u001b[0m \u001b[0mm\u001b[0m\u001b[0;34m)\u001b[0m\u001b[0;34m:\u001b[0m\u001b[0;34m\u001b[0m\u001b[0m\n",
      "\u001b[0;32m/home/robert/CU-PWFA/plasma-source/python/beam/interactions.py\u001b[0m in \u001b[0;36melectron_plasma\u001b[0;34m(electron, plasma, z, dumpPeriod, n)\u001b[0m\n\u001b[1;32m     83\u001b[0m     electron.ptcls = ecalc.electron_propagation_plasma(electron.ptcls,\n\u001b[1;32m     84\u001b[0m                             \u001b[0mz\u001b[0m\u001b[0;34m*\u001b[0m\u001b[0;36m1e-6\u001b[0m\u001b[0;34m,\u001b[0m \u001b[0;36m0.0\u001b[0m\u001b[0;34m,\u001b[0m \u001b[0mplasma\u001b[0m\u001b[0;34m.\u001b[0m\u001b[0mget_ne\u001b[0m\u001b[0;34m(\u001b[0m\u001b[0mz\u001b[0m\u001b[0;34m)\u001b[0m\u001b[0;34m,\u001b[0m \u001b[0mdumpPeriod\u001b[0m\u001b[0;34m,\u001b[0m\u001b[0;34m\u001b[0m\u001b[0m\n\u001b[0;32m---> 85\u001b[0;31m                             electron.save_ptcls, plasma.dgammadz, n)\n\u001b[0m",
      "\u001b[0;32m/home/robert/CU-PWFA/plasma-source/python/beam/calc/electron.pyx\u001b[0m in \u001b[0;36mbeam.calc.electron.electron_propagation_plasma\u001b[0;34m()\u001b[0m\n",
      "\u001b[0;32m<ipython-input-2-d1ca8247403a>\u001b[0m in \u001b[0;36mdgammadz\u001b[0;34m(ne)\u001b[0m\n\u001b[1;32m      3\u001b[0m \u001b[0mNy\u001b[0m \u001b[0;34m=\u001b[0m \u001b[0;36m50\u001b[0m\u001b[0;34m\u001b[0m\u001b[0m\n\u001b[1;32m      4\u001b[0m \u001b[0mNz\u001b[0m \u001b[0;34m=\u001b[0m \u001b[0;36m256\u001b[0m\u001b[0;34m\u001b[0m\u001b[0m\n\u001b[0;32m----> 5\u001b[0;31m \u001b[0;32mdef\u001b[0m \u001b[0mdgammadz\u001b[0m\u001b[0;34m(\u001b[0m\u001b[0mne\u001b[0m\u001b[0;34m)\u001b[0m\u001b[0;34m:\u001b[0m\u001b[0;34m\u001b[0m\u001b[0m\n\u001b[0m\u001b[1;32m      6\u001b[0m     \u001b[0;32mreturn\u001b[0m \u001b[0;36m0.0\u001b[0m\u001b[0;34m\u001b[0m\u001b[0m\n\u001b[1;32m      7\u001b[0m plasmaParams ={\n",
      "\u001b[0;31mKeyboardInterrupt\u001b[0m: "
     ]
    }
   ],
   "source": [
    "for i in range(11):\n",
    "    beam = electronbeam.GaussianElectronBeam(electronParams)\n",
    "    interactions.electron_plasma(beam, argon, np.linspace(0, plasmaParams['Z'], N), dumpPeriod, threads[i])\n",
    "    time = np.zeros(m, dtype='double')\n",
    "    for j in range(0, m):\n",
    "        time[j] = os.path.getmtime(path+'beams/beam_TestBeam/TestBeam_ptcls_'+str(j)+'.npy')\n",
    "    print('Threads:', threads[i], 'Average:', np.average(np.diff(time)), 'Median:', np.median(np.diff(time)))"
   ]
  },
  {
   "cell_type": "code",
   "execution_count": null,
   "metadata": {},
   "outputs": [],
   "source": [
    "import cProfile\n",
    "cProfile.run('interactions.electron_plasma(beam, argon, np.linspace(0, plasmaParams[\"Z\"], N), dumpPeriod, 40)')"
   ]
  }
 ],
 "metadata": {
  "kernelspec": {
   "display_name": "CU-PWFA",
   "language": "python",
   "name": "cu-pwfa"
  },
  "language_info": {
   "codemirror_mode": {
    "name": "ipython",
    "version": 3
   },
   "file_extension": ".py",
   "mimetype": "text/x-python",
   "name": "python",
   "nbconvert_exporter": "python",
   "pygments_lexer": "ipython3",
   "version": "3.6.0"
  }
 },
 "nbformat": 4,
 "nbformat_minor": 2
}

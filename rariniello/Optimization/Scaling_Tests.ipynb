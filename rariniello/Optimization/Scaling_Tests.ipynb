{
 "cells": [
  {
   "cell_type": "code",
   "execution_count": 1,
   "metadata": {
    "collapsed": true
   },
   "outputs": [],
   "source": [
    "import sys\n",
    "import os\n",
    "sys.path.insert(0, \"../../python\")\n",
    "\n",
    "from beam.beams import laserpulse\n",
    "from beam.beams import laserbeam\n",
    "from beam.elements import plasma\n",
    "from beam.elements import optic\n",
    "from beam import interactions\n",
    "from ionization import ionization\n",
    "import numpy as np\n",
    "import matplotlib.pyplot as plt\n",
    "\n",
    "path = '/mnt/md0/Test/'"
   ]
  },
  {
   "cell_type": "code",
   "execution_count": 2,
   "metadata": {},
   "outputs": [],
   "source": [
    "pulseParams = {\n",
    "    'Nx' : 2**12,\n",
    "    'Ny' : 2**11,\n",
    "    'Nt' : 2**6,\n",
    "    'X' : 8e3,\n",
    "    'Y' : 8e3,\n",
    "    'T' : 300,\n",
    "    'lam' : 0.8,\n",
    "    'path' : path,\n",
    "    'name' : 'GaussianPulse',\n",
    "    'threads' : 40,\n",
    "    'cyl' : True,\n",
    "    'E0' : 6,\n",
    "    'waist' : 2e3,\n",
    "    'z0' : 0.0,\n",
    "    'tau' : 100,\n",
    "    'load' : False\n",
    "}\n",
    "\n",
    "pulse = laserpulse.GaussianPulse(pulseParams)\n",
    "\n",
    "axiconParams = {\n",
    "    'Nx' : pulseParams['Nx'],\n",
    "    'Ny' : pulseParams['Ny'],\n",
    "    'X' : pulseParams['X'],\n",
    "    'Y' : pulseParams['Y'],\n",
    "    'path' : path,\n",
    "    'name' : 'Axicon',\n",
    "    'lam' : pulseParams['lam'],\n",
    "    'beta' : 0.2,\n",
    "    'load' : False\n",
    "}\n",
    "\n",
    "axicon = optic.AxiconLens(axiconParams)\n",
    "\n",
    "plasmaParams = {\n",
    "    'Nx' : pulseParams['Nx'],\n",
    "    'Ny' : pulseParams['Ny'],\n",
    "    'Nz' : 2**12,\n",
    "    'X' : pulseParams['X'],\n",
    "    'Y' : pulseParams['Y'],\n",
    "    'Z' : 1e6,\n",
    "    'n0': 1.0,\n",
    "    'atom' : {\n",
    "        'EI': 13.5984,\n",
    "        'Z': 1,\n",
    "        'l': 0,\n",
    "        'm': 0,\n",
    "        'alpha': 0.667\n",
    "    },\n",
    "    'path' : path,\n",
    "    'name' : 'Plasma',\n",
    "    'cyl' : True,\n",
    "    'load' : False\n",
    "}\n",
    "\n",
    "argon = plasma.UniformPlasma(plasmaParams)"
   ]
  },
  {
   "cell_type": "code",
   "execution_count": 3,
   "metadata": {},
   "outputs": [
    {
     "ename": "KeyboardInterrupt",
     "evalue": "",
     "output_type": "error",
     "traceback": [
      "\u001b[0;31m---------------------------------------------------------------------------\u001b[0m",
      "\u001b[0;31mKeyboardInterrupt\u001b[0m                         Traceback (most recent call last)",
      "\u001b[0;32m<ipython-input-3-2d6f01ac76ad>\u001b[0m in \u001b[0;36m<module>\u001b[0;34m()\u001b[0m\n\u001b[1;32m      1\u001b[0m \u001b[0minteractions\u001b[0m\u001b[0;34m.\u001b[0m\u001b[0mbeam_phase\u001b[0m\u001b[0;34m(\u001b[0m\u001b[0mpulse\u001b[0m\u001b[0;34m,\u001b[0m \u001b[0maxicon\u001b[0m\u001b[0;34m)\u001b[0m\u001b[0;34m\u001b[0m\u001b[0m\n\u001b[0;32m----> 2\u001b[0;31m \u001b[0minteractions\u001b[0m\u001b[0;34m.\u001b[0m\u001b[0mpulse_plasma\u001b[0m\u001b[0;34m(\u001b[0m\u001b[0mpulse\u001b[0m\u001b[0;34m,\u001b[0m \u001b[0margon\u001b[0m\u001b[0;34m)\u001b[0m\u001b[0;34m\u001b[0m\u001b[0m\n\u001b[0m",
      "\u001b[0;32m/home/robert/CU-PWFA/plasma-source/python/beam/interactions.py\u001b[0m in \u001b[0;36mpulse_plasma\u001b[0;34m(pulse, plasma)\u001b[0m\n\u001b[1;32m     29\u001b[0m                       \u001b[0mpulse\u001b[0m\u001b[0;34m.\u001b[0m\u001b[0mfft\u001b[0m\u001b[0;34m,\u001b[0m \u001b[0mpulse\u001b[0m\u001b[0;34m.\u001b[0m\u001b[0mifft\u001b[0m\u001b[0;34m,\u001b[0m \u001b[0mpulse\u001b[0m\u001b[0;34m.\u001b[0m\u001b[0msave_field\u001b[0m\u001b[0;34m,\u001b[0m\u001b[0;34m\u001b[0m\u001b[0m\n\u001b[1;32m     30\u001b[0m                       \u001b[0mplasma\u001b[0m\u001b[0;34m.\u001b[0m\u001b[0msave_plasma_density\u001b[0m\u001b[0;34m,\u001b[0m \u001b[0mplasma\u001b[0m\u001b[0;34m.\u001b[0m\u001b[0matom\u001b[0m\u001b[0;34m,\u001b[0m\u001b[0;34m\u001b[0m\u001b[0m\n\u001b[0;32m---> 31\u001b[0;31m                       plasma.load_num_den, plasma.load_plasma_den)\n\u001b[0m\u001b[1;32m     32\u001b[0m \u001b[0;34m\u001b[0m\u001b[0m\n\u001b[1;32m     33\u001b[0m \u001b[0;34m\u001b[0m\u001b[0m\n",
      "\u001b[0;32m/home/robert/CU-PWFA/plasma-source/python/beam/calc/plasma.pyx\u001b[0m in \u001b[0;36mbeam.calc.plasma.plasma_refraction\u001b[0;34m()\u001b[0m\n",
      "\u001b[0;32m/home/robert/CU-PWFA/plasma-source/python/beam/calc/laser.pyx\u001b[0m in \u001b[0;36mbeam.calc.laser.fourier_step\u001b[0;34m()\u001b[0m\n",
      "\u001b[0;32m/home/robert/CU-PWFA/plasma-source/python/beam/calc/laser.pyx\u001b[0m in \u001b[0;36mbeam.calc.laser.fourier_step\u001b[0;34m()\u001b[0m\n",
      "\u001b[0;32m/home/robert/anaconda3/envs/CU-PWFA/lib/python3.6/site-packages/numpy/core/fromnumeric.py\u001b[0m in \u001b[0;36mshape\u001b[0;34m(a)\u001b[0m\n\u001b[1;32m   1547\u001b[0m \u001b[0;34m\u001b[0m\u001b[0m\n\u001b[1;32m   1548\u001b[0m \u001b[0;34m\u001b[0m\u001b[0m\n\u001b[0;32m-> 1549\u001b[0;31m \u001b[0;32mdef\u001b[0m \u001b[0mshape\u001b[0m\u001b[0;34m(\u001b[0m\u001b[0ma\u001b[0m\u001b[0;34m)\u001b[0m\u001b[0;34m:\u001b[0m\u001b[0;34m\u001b[0m\u001b[0m\n\u001b[0m\u001b[1;32m   1550\u001b[0m     \"\"\"\n\u001b[1;32m   1551\u001b[0m     \u001b[0mReturn\u001b[0m \u001b[0mthe\u001b[0m \u001b[0mshape\u001b[0m \u001b[0mof\u001b[0m \u001b[0man\u001b[0m \u001b[0marray\u001b[0m\u001b[0;34m.\u001b[0m\u001b[0;34m\u001b[0m\u001b[0m\n",
      "\u001b[0;31mKeyboardInterrupt\u001b[0m: "
     ]
    }
   ],
   "source": [
    "interactions.beam_phase(pulse, axicon)\n",
    "interactions.pulse_plasma(pulse, argon)"
   ]
  }
 ],
 "metadata": {
  "kernelspec": {
   "display_name": "CU-PWFA",
   "language": "python",
   "name": "cu-pwfa"
  },
  "language_info": {
   "codemirror_mode": {
    "name": "ipython",
    "version": 3
   },
   "file_extension": ".py",
   "mimetype": "text/x-python",
   "name": "python",
   "nbconvert_exporter": "python",
   "pygments_lexer": "ipython3",
   "version": "3.6.0"
  }
 },
 "nbformat": 4,
 "nbformat_minor": 2
}

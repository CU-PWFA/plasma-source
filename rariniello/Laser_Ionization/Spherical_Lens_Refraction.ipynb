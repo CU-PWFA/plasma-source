{
 "cells": [
  {
   "cell_type": "code",
   "execution_count": 1,
   "metadata": {
    "collapsed": true
   },
   "outputs": [],
   "source": [
    "import sys\n",
    "sys.path.insert(0, \"../../python\")\n",
    "\n",
    "from propagation import laser\n",
    "from ionization import ionization\n",
    "from ionization import adk\n",
    "import numpy as np\n",
    "import matplotlib.pyplot as plt\n",
    "import matplotlib.image as mpimg"
   ]
  },
  {
   "cell_type": "code",
   "execution_count": null,
   "metadata": {
    "collapsed": true
   },
   "outputs": [],
   "source": [
    "# Testing to see if ionization of the plasma effects light propagation\n",
    "# Setup the transverse grid\n",
    "Nx = 2**10\n",
    "X = 8000\n",
    "x = np.linspace(-X/2, X/2, Nx, False)\n",
    "Ny = 2**8\n",
    "Y = X\n",
    "y = np.linspace(-Y/2, Y/2, Ny, False)\n",
    "# Setup longitudinal grid\n",
    "Nz = 2**8\n",
    "Z = 1e6\n",
    "z = np.linspace(0, Z, Nz)\n",
    "# Setup time discretization\n",
    "Nt = 2**8\n",
    "T = 100\n",
    "t = np.linspace(-T/2, T/2, Nt, False)\n",
    "dt = T/(Nt-1)\n",
    "\n",
    "# Initial transverse Gaussian pulse\n",
    "w0 = 2e3\n",
    "E0 = np.exp(-(np.reshape(x, (Nx, 1))**2 + np.reshape(y, (1, Ny))**2) / w0**2)\n",
    "\n",
    "# Spherical lens\n",
    "alpha = np.radians(0.5)\n",
    "T0 = np.exp(-1j*np.pi*alpha*np.sqrt(np.reshape(x, (Nx, 1))**2 + np.reshape(y, (1, Ny))**2))\n",
    "\n",
    "# Initial field\n",
    "Ei = E0 * T0\n",
    "\n",
    "# Initial index of refraction\n",
    "n0 = 1.0 + 6.67e-8\n",
    "nih = np.zeros((Nx, Ny, Nz))\n",
    "\n",
    "# Initial plasma density\n",
    "nmax = 1 # in 1e17 cm^-3\n",
    "n = np.zeros ((Nx, Ny, Nz))\n",
    "\n",
    "# Temporal pulse shape\n",
    "tau = 35\n",
    "lam = 0.8\n",
    "f = 0.3/lam\n",
    "omega = 2*np.pi*f\n",
    "Et = ionization.gaussian_envelope(0.2, t, tau).real\n",
    "# Make sure everything looks right\n",
    "print(ionization.field_from_intensity(0.2))\n",
    "plt.plot(t, Et)\n",
    "plt.show()\n",
    "\n",
    "# Storagr array for E field plots and ionization fraction\n",
    "Eplot = np.zeros((Nt, Nz, Nx))\n",
    "nplot = np.zeros((Nt, Nx, Nz))"
   ]
  }
 ],
 "metadata": {
  "kernelspec": {
   "display_name": "CU-PWFA",
   "language": "python",
   "name": "cu-pwfa"
  },
  "language_info": {
   "codemirror_mode": {
    "name": "ipython",
    "version": 3
   },
   "file_extension": ".py",
   "mimetype": "text/x-python",
   "name": "python",
   "nbconvert_exporter": "python",
   "pygments_lexer": "ipython3",
   "version": "3.6.0"
  }
 },
 "nbformat": 4,
 "nbformat_minor": 2
}

{
 "cells": [
  {
   "cell_type": "code",
   "execution_count": null,
   "metadata": {
    "collapsed": true
   },
   "outputs": [],
   "source": [
    "# Initial electric field\n",
    "def Efunc(x, y):\n",
    "    # Input flatop beam\n",
    "    w0 = 2e3\n",
    "    r2 = x**2 + y**2\n",
    "    E0 = np.zeros(np.shape(r2))\n",
    "    E0[r2 < w0**2] = 1.0\n",
    "    # Axilens\n",
    "    R = 10e3\n",
    "    f0 = 3e6\n",
    "    dz = 0.5e6\n",
    "    phi = np.pi*R**2/(params['lam']*dz) * np.log(f0+dz*r2/R**2)\n",
    "    T0 = np.exp(-1j*phi)\n",
    "    # Initial electric field\n",
    "    return E0 * T0"
   ]
  }
 ],
 "metadata": {
  "kernelspec": {
   "display_name": "CU-PWFA",
   "language": "python",
   "name": "cu-pwfa"
  },
  "language_info": {
   "codemirror_mode": {
    "name": "ipython",
    "version": 3
   },
   "file_extension": ".py",
   "mimetype": "text/x-python",
   "name": "python",
   "nbconvert_exporter": "python",
   "pygments_lexer": "ipython3",
   "version": "3.6.0"
  }
 },
 "nbformat": 4,
 "nbformat_minor": 2
}

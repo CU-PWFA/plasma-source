{
 "cells": [
  {
   "cell_type": "code",
   "execution_count": 1,
   "metadata": {
    "collapsed": true
   },
   "outputs": [],
   "source": [
    "import sys\n",
    "sys.path.insert(0, \"../../python\")\n",
    "\n",
    "from propagation import plasma\n",
    "import matplotlib.pyplot as plt\n",
    "import matplotlib.image as mpimg\n",
    "import numpy as np\n",
    "import os"
   ]
  },
  {
   "cell_type": "code",
   "execution_count": 3,
   "metadata": {
    "collapsed": false
   },
   "outputs": [
    {
     "name": "stdout",
     "output_type": "stream",
     "text": [
      "0\n",
      "1\n",
      "2\n",
      "3\n",
      "4\n"
     ]
    }
   ],
   "source": [
    "# Initial electric field\n",
    "def Efunc(x, y):\n",
    "    # Input Gaussian beam\n",
    "    w0 = 2e3\n",
    "    r2 = x**2 + y**2\n",
    "    E0 = np.exp(-r2 / w0**2)\n",
    "    # Axicon lens\n",
    "    alpha = np.radians(0.5)\n",
    "    T0 = np.exp(-1j*np.pi*alpha*np.sqrt(r2))\n",
    "    # Initial electric field\n",
    "    return E0 * T0\n",
    "\n",
    "# Temporal pulse\n",
    "def Tfunc(t):\n",
    "    from ionization import ionization\n",
    "    tau = 35\n",
    "    return ionization.gaussian_envelope(0.1, t, tau).real\n",
    "\n",
    "# Setup the parameters\n",
    "params = {'Nx' : 2**10,\n",
    "          'Ny' : 2**8,\n",
    "          'Nz' : 2**8,\n",
    "          'Nt' : 2**6,\n",
    "          'X' : 8000,\n",
    "          'Y' : 8000,\n",
    "          'Z' : 1e6,\n",
    "          'T' : 100,\n",
    "          'n0' : 1.0,\n",
    "          'alpha' : 0.667,\n",
    "          'EI' : 13.5984,\n",
    "          'lam' : 0.8\n",
    "          }\n",
    "\n",
    "path = 'C:/Users/robert/Documents/Research/Data/Plasma_Refraction_Function/'\n",
    "\n",
    "n0 = [0.1, 0.25, 0.5, 0.75]\n",
    "for i in range(0, 4):\n",
    "    params['n0'] = n0[i]\n",
    "    directory = 'intensity-0.1_density-' + str(params['n0'])\n",
    "    params['path'] = path + directory+'/'\n",
    "    # Create the directory if it doesn't exist\n",
    "    if not os.path.exists(params['path']):\n",
    "        os.makedirs(params['path'])\n",
    "    # Run the simulation      \n",
    "    plasma.plasma_refraction(params, Efunc, Tfunc)\n",
    "    # Create the summary\n",
    "    plasma.summary_plot(params['path'])"
   ]
  }
 ],
 "metadata": {
  "kernelspec": {
   "display_name": "CU-PWFA",
   "language": "python",
   "name": "cu-pwfa"
  },
  "language_info": {
   "codemirror_mode": {
    "name": "ipython",
    "version": 3
   },
   "file_extension": ".py",
   "mimetype": "text/x-python",
   "name": "python",
   "nbconvert_exporter": "python",
   "pygments_lexer": "ipython3",
   "version": "3.6.0"
  }
 },
 "nbformat": 4,
 "nbformat_minor": 2
}

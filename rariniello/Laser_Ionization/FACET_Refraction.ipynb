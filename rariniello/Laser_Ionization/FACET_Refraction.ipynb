{
 "cells": [
  {
   "cell_type": "code",
   "execution_count": null,
   "metadata": {
    "collapsed": true
   },
   "outputs": [],
   "source": [
    "import sys\n",
    "sys.path.insert(0, \"../../python\")\n",
    "\n",
    "from propagation import plasma\n",
    "import matplotlib.pyplot as plt\n",
    "import matplotlib.image as mpimg\n",
    "import numpy as np\n",
    "import os"
   ]
  },
  {
   "cell_type": "code",
   "execution_count": null,
   "metadata": {
    "collapsed": true
   },
   "outputs": [],
   "source": [
    "# Initial electric field\n",
    "def Efunc(x, y):\n",
    "    # Input Gaussian beam\n",
    "    w0 = 20e3\n",
    "    r2 = x**2 + y**2\n",
    "    E0 = np.zeros(np.shape(r2))\n",
    "    E0[r2 < w0**2] = 1.0\n",
    "    # Axicon lens\n",
    "    alpha = np.radians(0.5)\n",
    "    T0 = np.exp(-1j*np.pi*alpha*np.sqrt(r2)/0.8)\n",
    "    # Initial electric field\n",
    "    return E0 * T0\n",
    "\n",
    "# Temporal pulse\n",
    "def Tfunc(t):\n",
    "    tau = 50\n",
    "    return np.exp(-1.38629*t**2 / (tau**2))\n",
    "\n",
    "# Setup the parameters\n",
    "params = {'Nx' : 2**10,\n",
    "          'Ny' : 2**8,\n",
    "          'Nz' : 2**8,\n",
    "          'Nt' : 2**6,\n",
    "          'X' : 80e3,\n",
    "          'Y' : 80e3,\n",
    "          'Z' : 1e6,\n",
    "          'T' : 150,\n",
    "          'n0' : 0.5,\n",
    "          'alpha' : 0.667,\n",
    "          'EI' : 13.5984,\n",
    "          'E0' : 1.0,\n",
    "          'lam' : 0.8\n",
    "          }\n",
    "\n",
    "path = 'C:/Users/robert/Documents/Research/Data/FACET_Refraction/'\n",
    "\n",
    "n0 = [0.1, 0.2, 0.3, 0.4, 0.5, 0.6, 0.7, 0.8, 0.9, 1.0]\n",
    "for i in range(9, 10):\n",
    "    params['n0'] = n0[i]\n",
    "    directory = 'intensity-0.25_density-' + str(params['n0'])\n",
    "    params['path'] = path + directory+'/'\n",
    "    # Create the directory if it doesn't exist\n",
    "    if not os.path.exists(params['path']):\n",
    "        os.makedirs(params['path'])\n",
    "    # Run the simulation      \n",
    "    #plasma.plasma_refraction(params, Efunc, Tfunc)\n",
    "    # Create the summary\n",
    "    #plasma.summary_plot(params['path'])"
   ]
  }
 ],
 "metadata": {
  "kernelspec": {
   "display_name": "CU-PWFA",
   "language": "python",
   "name": "cu-pwfa"
  },
  "language_info": {
   "codemirror_mode": {
    "name": "ipython",
    "version": 3
   },
   "file_extension": ".py",
   "mimetype": "text/x-python",
   "name": "python",
   "nbconvert_exporter": "python",
   "pygments_lexer": "ipython3",
   "version": "3.6.0"
  }
 },
 "nbformat": 4,
 "nbformat_minor": 2
}

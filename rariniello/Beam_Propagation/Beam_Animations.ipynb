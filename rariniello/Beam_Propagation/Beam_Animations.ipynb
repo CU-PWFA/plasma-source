{
 "cells": [
  {
   "cell_type": "code",
   "execution_count": null,
   "metadata": {
    "collapsed": true
   },
   "outputs": [],
   "source": [
    "import sys\n",
    "import os\n",
    "sys.path.insert(0, \"../../python\")\n",
    "\n",
    "import numpy as np\n",
    "from beam.beams import electronbeam\n",
    "from beam.elements import plasma\n",
    "import matplotlib.pyplot as plt\n",
    "from beam import interactions\n",
    "from ionization import ionization\n",
    "from lens import profile\n",
    "plt.rcParams['animation.ffmpeg_path'] = '/home/robert/anaconda3/envs/CU-PWFA/bin/ffmpeg'\n",
    "import matplotlib.animation as animation\n",
    "from scipy.optimize import curve_fit\n",
    "\n",
    "path = '/media/robert/Data_Storage/Data/Plots/BeamEvolution/'"
   ]
  },
  {
   "cell_type": "code",
   "execution_count": null,
   "metadata": {
    "collapsed": true
   },
   "outputs": [],
   "source": [
    "%npl0   = 1e16 # cm^-3\n",
    "%dEds0  = np.sqrt(npl0/(1e17))*10e9 # eV/m\n",
    "%dgds0  = dEds0/0.511e6\n",
    "L_ft   = 0.50 # m\n",
    "\n",
    "# define plasma up-ramp\n",
    "hw_up    = 0.1205 #0.05 # m\n",
    "L_up     = 1.5 # m\n",
    "top_up   = L_up # m\n",
    "\n",
    "# define plasma down-ramp\n",
    "shape_dn = shape_up\n",
    "hw_dn    = hw_up # m\n",
    "L_dn     = L_up # m\n",
    "top_dn   = 0  # m\n",
    "\n",
    "# define beam parameters\n",
    "%gbC    = 20000 # relativistic lorentz factor\n",
    "%eps    = 5.0e-6  # m-rad, normalized emittance\n",
    "%beta   = 0.10  # m\n",
    "\n",
    "alpha  = 0.00\n",
    "gamma  = (1.0+alpha**2)/beta # 1/m\n",
    "dgb    = 0.01\n",
    "dz     = 0\n",
    "%npart  = 10000\n",
    "\n",
    "%s_w   = L_up + waist"
   ]
  },
  {
   "cell_type": "code",
   "execution_count": null,
   "metadata": {
    "collapsed": true
   },
   "outputs": [],
   "source": [
    "# Now we can test my code and see if it is different\n",
    "z = np.linspace(0, 4e6, 10000)\n",
    "ne = \n",
    "betaBeam = beta+(-s_w)**2/beta\n",
    "alphaBeam = s_w/beta\n",
    "electronParams = {\n",
    "    'name' : 'TestBeam',\n",
    "    'path' : path,\n",
    "    'load' : False,\n",
    "    'N' : npart,\n",
    "    'gamma' : gbC,\n",
    "    'emittance' : eps,\n",
    "    'betax' : betaBeam,\n",
    "    'betay' : betaBeam,\n",
    "    'alphax' : alphaBeam,\n",
    "    'alphay' : alphaBeam,\n",
    "    'sigmaz' : 5e-6,\n",
    "    'dE' : 0.01\n",
    "}\n",
    "\n",
    "beam = electronbeam.GaussianElectronBeam(electronParams)\n",
    "beam.plot_current_phase()\n",
    "\n",
    "class plasmaCls():\n",
    "    def __init__(self):\n",
    "        \"\"\" Empy init function \"\"\"\n",
    "    def get_ne(self, z):\n",
    "        return ne\n",
    "    def dgammadz(self, ne):\n",
    "        npl = ne*1e17\n",
    "        if npl > ((4/9)*npl0):\n",
    "            dgdz = dgds0*np.sqrt(npl/npl0)*(3*np.sqrt(npl/npl0)-2)\n",
    "        else:\n",
    "            dgdz = (-dgds0)*(2/np.pi)*np.sqrt(npl/npl0)*np.sin((3*np.pi/2)*np.sqrt(npl/npl0))\n",
    "        return dgdz*1e-6\n",
    "    \n",
    "plasmaDen = plasmaCls()\n",
    "interactions.electron_plasma(beam, plasmaDen, z, 1, 4)"
   ]
  },
  {
   "cell_type": "code",
   "execution_count": null,
   "metadata": {
    "collapsed": true
   },
   "outputs": [],
   "source": [
    "# Now time to animate phase space\n",
    "ptcls, z = beam.load_ptcls(0)\n",
    "fig, sctx, scty = beam.plot_phase(ptcls, z, )#xlim=[-400, 400])\n",
    "i = 1\n",
    "def updatefig(*args):\n",
    "    global i\n",
    "    ptcls = beam.load_ptcls(i)[0]\n",
    "    sctx.set_offsets(np.stack((ptcls[:, 0]*1e6, ptcls[:, 1]*1e3), axis=-1))\n",
    "    scty.set_offsets(np.stack((ptcls[:, 2]*1e6, ptcls[:, 3]*1e3), axis=-1))\n",
    "    i += 1\n",
    "    return sctx, scty,\n",
    "ani = animation.FuncAnimation(fig, updatefig, blit=True, frames=m-3)\n",
    "ani.save(path + 'PhaseSpaceEvolution.mp4', fps=30)"
   ]
  }
 ],
 "metadata": {
  "kernelspec": {
   "display_name": "Python 3",
   "language": "python",
   "name": "python3"
  },
  "language_info": {
   "codemirror_mode": {
    "name": "ipython",
    "version": 3
   },
   "file_extension": ".py",
   "mimetype": "text/x-python",
   "name": "python",
   "nbconvert_exporter": "python",
   "pygments_lexer": "ipython3",
   "version": "3.6.1"
  }
 },
 "nbformat": 4,
 "nbformat_minor": 2
}
